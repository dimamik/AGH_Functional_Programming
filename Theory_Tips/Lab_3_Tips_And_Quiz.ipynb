{
 "cells": [
  {
   "cell_type": "markdown",
   "metadata": {},
   "source": [
    "## Kategorii funkcji"
   ]
  },
  {
   "cell_type": "code",
   "execution_count": null,
   "metadata": {},
   "outputs": [],
   "source": [
    "Są dwie kategorii oddziaływań-> funkcji i operatory\n",
    "Dla funkcji:\n",
    "Postać prefiksowa fx x y\n",
    "Postać infiksowa x `fx` y\n",
    "\n",
    "Dla operatorów\n",
    "Postać prefiksowa ($) x y\n",
    "Postać infiksowa x $ y\n",
    "\n",
    "\n",
    "\n",
    "$ - Operator aplikowania\n",
    "$ f x - Podstawia x w f -> MA BYĆ FUNKCJA I WARTOŚĆ\n",
    "\n",
    "(.) - Operator złożenia funkcji"
   ]
  },
  {
   "cell_type": "code",
   "execution_count": null,
   "metadata": {
    "scrolled": true
   },
   "outputs": [],
   "source": [
    "-- Przykłady\n",
    "fx x y = x + 2 * y\n",
    "fx 5 4\n",
    "5 `fx` 4\n",
    "fx 5 4\n",
    "\n",
    "\n",
    "f x = x+5\n",
    ":t ($)\n",
    "($) f 5\n",
    "f $ 5\n",
    "fx 5 $ f 2\n",
    "\n",
    "\n",
    ":t (.)\n",
    "(fx . f) 4 5\n"
   ]
  },
  {
   "cell_type": "markdown",
   "metadata": {},
   "source": [
    "## Praca nad błędami w Quiz 3"
   ]
  },
  {
   "cell_type": "code",
   "execution_count": null,
   "metadata": {},
   "outputs": [],
   "source": [
    "-- Zad 1\n",
    "-- Dostajemy krotkę z 2-ma listami elementów,\n",
    "-- rozdzielić ich na dwie porównując długości -> na shorters i longers\n",
    "\n",
    "fn = unzip . map (t2sl_minmax . t2s_len)\n",
    "    where \n",
    "        t2s_len (s1,s2) = ((s1,length s1),(s2,length s2))\n",
    "        t2sl_minmax ((s1,l1), (s2,l2)) = if l1 <= l2 then (s1,s2)\n",
    "                                    else (s2,s1)\n",
    "fn [([1,2,3],[1,7]),([1,2],[1]),([1,2,3,4,5],[9])]\n",
    ":t unzip\n",
    "\n",
    "-- unzip dzieli na 2 czesci posortowane krotki xD"
   ]
  },
  {
   "cell_type": "code",
   "execution_count": null,
   "metadata": {},
   "outputs": [],
   "source": [
    "f1s = [\\e -> 2*e + 1 , \\e -> e^2 + 2 ]\n",
    ":t zip f1s (tail f1s)\n",
    ":t (($ 2) . uncurry (.) )"
   ]
  },
  {
   "cell_type": "code",
   "execution_count": null,
   "metadata": {
    "scrolled": true
   },
   "outputs": [],
   "source": [
    "-- Zad 2\n",
    "f1s = [\\e -> 2*e + 1 , \\e -> e^2 + 2 ]\n",
    "xs = map ($ 2 . uncurry (.) ) ($) zip f1s (tail f1s)\n",
    "\n",
    "-- ????"
   ]
  },
  {
   "cell_type": "code",
   "execution_count": null,
   "metadata": {},
   "outputs": [],
   "source": [
    "-- foldr () [] [[2],[3],[4]]\n",
    ":t foldr\n",
    "????"
   ]
  }
 ],
 "metadata": {
  "kernelspec": {
   "display_name": "Haskell",
   "language": "haskell",
   "name": "haskell"
  },
  "language_info": {
   "codemirror_mode": "ihaskell",
   "file_extension": ".hs",
   "mimetype": "text/x-haskell",
   "name": "haskell",
   "pygments_lexer": "Haskell",
   "version": "8.6.5"
  }
 },
 "nbformat": 4,
 "nbformat_minor": 4
}
