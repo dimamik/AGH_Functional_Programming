{
 "cells": [
  {
   "cell_type": "markdown",
   "metadata": {},
   "source": [
    "# Wykład 5 04.11.2020"
   ]
  },
  {
   "cell_type": "markdown",
   "metadata": {},
   "source": [
    "## Operacje wejścia/wyjścia"
   ]
  },
  {
   "cell_type": "code",
   "execution_count": null,
   "metadata": {
    "scrolled": true
   },
   "outputs": [],
   "source": [
    "-- Pseudo Code Pokazujący przetworzania \n",
    "main :: World -> (World, ())\n",
    "main world0 =\n",
    "    let (world1,a) = getChar world0\n",
    "        (world2,b) = getChar world1\n",
    "    in (world2,())"
   ]
  },
  {
   "cell_type": "code",
   "execution_count": null,
   "metadata": {},
   "outputs": [],
   "source": [
    "putChar 'a'"
   ]
  },
  {
   "cell_type": "code",
   "execution_count": null,
   "metadata": {},
   "outputs": [],
   "source": [
    "let retA = return 'a'\n",
    "retA"
   ]
  },
  {
   "cell_type": "code",
   "execution_count": null,
   "metadata": {
    "scrolled": true
   },
   "outputs": [],
   "source": [
    "let echo = getChar >>= putChar\n",
    "echo\n",
    "-- >>= - Wykonuje IO, wynik jej przekazuje do putChar"
   ]
  },
  {
   "cell_type": "code",
   "execution_count": null,
   "metadata": {},
   "outputs": [],
   "source": [
    "main :: IO()\n",
    "main = putStr \"Hello World!\"\n"
   ]
  },
  {
   "cell_type": "code",
   "execution_count": null,
   "metadata": {},
   "outputs": [],
   "source": [
    "-- Pierwsze kody są bardziej profesjonalne (do pozwala na \"opuszczanie\" >>)\n",
    "main = \n",
    "    putStr \"Hello\" >> -- >> Pozwala na przejscie z IO() do a (IO() -> a)\n",
    "    putStrLn \" World\"\n",
    "-- Odpowiednik powyższego\n",
    "main1 = do\n",
    "    putStr \"Hello\"\n",
    "    putStrLn \" World\"\n",
    "\n",
    "main_ = putStrLn \"Your name?\" >> \n",
    "    getLine >>=\n",
    "    \\n -> putStrLn (\"Hello, \" ++ n)\n",
    "-- Odpowiednik powyższego\n",
    "main_1 = do\n",
    "    putStrLn \"Your name? \"\n",
    "    n <- getLine --   <-   - przypisanie w kontekscie monalogicznym (IO())\n",
    "    putStrLn (\"Hello, \" ++ n)"
   ]
  },
  {
   "cell_type": "code",
   "execution_count": null,
   "metadata": {
    "scrolled": true
   },
   "outputs": [],
   "source": [
    "main = do\n",
    "    a <- return \"a\" -- Nienaturalne tworzenie akcji IO() i zwracanie go do A\n",
    "    b <- return \"b\"\n",
    "    return ()\n",
    "    return 1\n",
    "    putStrLn $ a ++ \" \" ++ b \n",
    "\n",
    "main1 = do\n",
    "    let a = \"a\"\n",
    "        b = \"b\"\n",
    "    return ()\n",
    "    return 1\n",
    "    putStrLn $ a ++ \" \" ++ b"
   ]
  },
  {
   "cell_type": "markdown",
   "metadata": {},
   "source": [
    "### I/O: rekurencyjne deﬁnicje funkcji\n",
    "\n"
   ]
  },
  {
   "cell_type": "code",
   "execution_count": null,
   "metadata": {},
   "outputs": [],
   "source": [
    "getLine' :: IO String\n",
    "getLine' = do\n",
    "    x <- getChar\n",
    "    if x == '\\n'\n",
    "    then return []\n",
    "    else do\n",
    "        xs <- getLine'\n",
    "        return (x:xs)\n",
    "main = do\n",
    "    line <- getLine'\n",
    "    putStrLn line"
   ]
  },
  {
   "cell_type": "code",
   "execution_count": null,
   "metadata": {},
   "outputs": [],
   "source": [
    "putStr' :: String -> IO ()\n",
    "putStr' [] = return ()\n",
    "putStr' (x:xs) = do putChar x\n",
    "putStr' xs"
   ]
  },
  {
   "cell_type": "code",
   "execution_count": null,
   "metadata": {
    "scrolled": true
   },
   "outputs": [],
   "source": [
    "-- putStrLn na podstawie putStr\n",
    "putStrLn' :: String -> IO ()\n",
    "putStrLn' xs = do putStr' xs\n",
    "                    putChar '\\n'"
   ]
  },
  {
   "cell_type": "markdown",
   "metadata": {},
   "source": [
    "### Praca z plikami \n"
   ]
  },
  {
   "cell_type": "code",
   "execution_count": null,
   "metadata": {},
   "outputs": [],
   "source": [
    "import System.Environment\n",
    "import System.IO\n",
    "import Data.Char(toUpper)\n",
    "\n",
    "-- openFile :: FilePath -> IOMode -> IO Handle\n",
    "main = do\n",
    "    (inFileName:outFileName:_) <- getArgs\n",
    "    inHdlr <- openFile inFileName ReadMode\n",
    "    outHdlr <- openFile outFileName WriteMode\n",
    "    inpStr <- hGetContents inHdlr\n",
    "    hPutStr outHdlr (map toUpper inpStr)\n",
    "    hClose inHdlr\n",
    "    hClose outHdlr"
   ]
  },
  {
   "cell_type": "code",
   "execution_count": null,
   "metadata": {},
   "outputs": [],
   "source": [
    "main = do\n",
    "    (inFileName:outFileName:_) <- getArgs\n",
    "    inpStr <- readFile inFileName\n",
    "    writeFile outFileName (map toUpper inpStr)\n"
   ]
  },
  {
   "cell_type": "markdown",
   "metadata": {},
   "source": [
    "### I/O i obsługa błędów"
   ]
  },
  {
   "cell_type": "code",
   "execution_count": null,
   "metadata": {},
   "outputs": [],
   "source": [
    "import System.Environment\n",
    "import System.IO\n",
    "import System.IO.Error\n",
    "import Control.Exception\n",
    "\n",
    "main = do \n",
    "        (fileName:_) <- getArgs\n",
    "        contents <- readFile fileName\n",
    "        putStrLn $ \"The file has \" ++\n",
    "            show (length (lines contents)) ++ \" lines!\"\n",
    "    `catch` (\\err -> if isDoesNotExistError err\n",
    "            then putStrLn \"The file doesn't exist!\"\n",
    "            else ioError err)\n",
    "            \n",
    ":t catch -- Exception e => IO a -> (e -> IO a) -> IO a\n",
    ":t isDoesNotExistError -- IOError -> Bool\n"
   ]
  },
  {
   "cell_type": "markdown",
   "metadata": {},
   "source": [
    "## Funktor [ Mappable ] : deﬁnicja i przykłady"
   ]
  },
  {
   "cell_type": "code",
   "execution_count": null,
   "metadata": {
    "scrolled": true
   },
   "outputs": [],
   "source": [
    "class Functor (f :: * -> *) where\n",
    "    fmap :: (a -> b) -> f a -> f b\n",
    "--fmap :: (a -> b) -> Maybe a -> Maybe b\n",
    "\n",
    "instance Functor Maybe where\n",
    "    fmap f (Just x) = Just (f x)\n",
    "    fmap f Nothing = Nothing\n",
    "\n",
    "instance Functor [] where\n",
    "    fmap = map\n",
    "\n",
    "instance Functor IO where\n",
    "    fmap f action = do\n",
    "        result <- action\n",
    "        return (f result)\n",
    "\n",
    "-- Functor laws\n",
    "-- fmap id = id\n",
    "-- fmap (g . f) = fmap g . fmap f\n",
    "\n",
    "-- ghci> fmap (^3) (Just 4)\n",
    "-- Just 64\n",
    "\n",
    "-- ghci> fmap show [1..5]\n",
    "-- \"1\",\"2\",\"3\",\"4\",\"5\"]\n",
    "\n",
    "-- ghci> fmap reverse getLine\n",
    "-- rats\n",
    "-- star\""
   ]
  },
  {
   "cell_type": "markdown",
   "metadata": {},
   "source": [
    "### Funktor: rozszerzenie DeriveFunctor\n"
   ]
  },
  {
   "cell_type": "code",
   "execution_count": null,
   "metadata": {},
   "outputs": [],
   "source": [
    "data BinTree a = EmptyBT\n",
    "            | NodeBT a (BinTree a) (BinTree a)\n",
    "            deriving (Show)\n",
    "            \n",
    "instance Functor BinTree where\n",
    "    fmap g EmptyBT = EmptyBT\n",
    "    fmap g (NodeBT x lt rt) = NodeBT (g x) (fmap g lt) (fmap g rt)"
   ]
  },
  {
   "cell_type": "code",
   "execution_count": null,
   "metadata": {
    "scrolled": true
   },
   "outputs": [],
   "source": [
    " let t1 = NodeBT 1 (NodeBT 4 EmptyBT EmptyBT) EmptyBT\n",
    " fmap (*2) t1"
   ]
  },
  {
   "cell_type": "code",
   "execution_count": null,
   "metadata": {},
   "outputs": [],
   "source": [
    "{-# LANGUAGE DeriveFunctor #-}\n",
    "data BinTree a = EmptyBT\n",
    "        | NodeBT a (BinTree a) (BinTree a)\n",
    "        deriving (Show, Functor)"
   ]
  },
  {
   "cell_type": "markdown",
   "metadata": {},
   "source": [
    "### Funktor aplikatywny: deﬁnicja"
   ]
  },
  {
   "cell_type": "code",
   "execution_count": null,
   "metadata": {},
   "outputs": [],
   "source": [
    "class Functor f => Applicative (f :: * -> *) where\n",
    "    pure :: a -> f a\n",
    "    (<*>) :: f (a -> b) -> f a -> f b\n",
    "-- fmap :: (a -> b) -> f a -> f b"
   ]
  },
  {
   "cell_type": "code",
   "execution_count": null,
   "metadata": {},
   "outputs": [],
   "source": [
    "-- Applicative functor laws\n",
    "pure id <*> v = v -- Identity\n",
    "pure f <*> pure x = pure (f x) -- Homomorphism\n",
    "u <*> pure y = pure ($ y) <*> u -- Interchange\n",
    "u <*> (v <*> w) = pure (.) <*> u <*> v <*> w -- Composition\n",
    "\n",
    "fmap g x = pure g <*> x = g <$> x"
   ]
  },
  {
   "cell_type": "markdown",
   "metadata": {},
   "source": [
    "### Funktory aplikatywne: przykłady"
   ]
  },
  {
   "cell_type": "code",
   "execution_count": null,
   "metadata": {},
   "outputs": [],
   "source": [
    "instance Applicative Maybe where\n",
    "    pure = Just\n",
    "    Nothing <*> _ = Nothing\n",
    "    (Just f) <*> w = fmap f w\n",
    "(++) <$> Just \"me and \"<*>pure \"Haskell\"\n",
    "Just \"me and Haskell\""
   ]
  },
  {
   "cell_type": "code",
   "execution_count": null,
   "metadata": {},
   "outputs": [],
   "source": [
    "instance Applicative IO where\n",
    "    pure = return\n",
    "    a <*> b = do\n",
    "        f <- a\n",
    "        x <- b\n",
    "        return (f x)"
   ]
  },
  {
   "cell_type": "code",
   "execution_count": null,
   "metadata": {},
   "outputs": [],
   "source": [
    "myAction = (++) <$> getLine <*> getLine\n",
    "myAction\n",
    "abra\n",
    "kadabra\n",
    "\"abrakadabra\""
   ]
  },
  {
   "cell_type": "code",
   "execution_count": null,
   "metadata": {},
   "outputs": [],
   "source": [
    "instance Applicative [] where\n",
    "pure x = [x]\n",
    "fs <*> xs =\n",
    "[f x | f <- fs, x <- xs]"
   ]
  },
  {
   "cell_type": "code",
   "execution_count": null,
   "metadata": {},
   "outputs": [],
   "source": [
    "import Control.Applicative\n",
    "instance Applicative ZipList where\n",
    "    pure x = ZipList (repeat x)\n",
    "    ZipList fs <*> ZipList xs =\n",
    "        ZipList (zipWith (\\f x -> f x) fs xs)"
   ]
  },
  {
   "cell_type": "markdown",
   "metadata": {},
   "source": [
    "### Monoid [ Appendable, Concatable ]: deﬁnicja i przykłady"
   ]
  },
  {
   "cell_type": "code",
   "execution_count": null,
   "metadata": {},
   "outputs": [],
   "source": [
    "class Monoid a where\n",
    "    mempty :: a\n",
    "    mappend :: a -> a -> a\n",
    "    mconcat :: [a] -> a\n",
    "    {-# MINIMAL mempty, mappend #-}\n",
    "    \n",
    "{-\n",
    "Monoid laws\n",
    "mempty `mappend` x = x\n",
    "x `mappend` mempty = x\n",
    "(x `mappend` y) `mappend` z =\n",
    "x `mappend` (y `mappend` z)\n",
    "-}"
   ]
  },
  {
   "cell_type": "code",
   "execution_count": null,
   "metadata": {},
   "outputs": [],
   "source": [
    "instance Monoid [a] where\n",
    "mempty = []\n",
    "mappend = (++)\n",
    "\n",
    "-- import Data.Monoid\n",
    "[1,2] `mappend` [3,4]"
   ]
  },
  {
   "cell_type": "code",
   "execution_count": null,
   "metadata": {
    "scrolled": true
   },
   "outputs": [],
   "source": [
    "instance Monoid b => Monoid (a->b) where\n",
    "mempty _ = mempty\n",
    "mappend f g x = f x `mappend` g x\n",
    "\n",
    "mappend (*2) (+10) (Sum 2)"
   ]
  },
  {
   "cell_type": "markdown",
   "metadata": {},
   "source": [
    "### Foldable"
   ]
  },
  {
   "cell_type": "code",
   "execution_count": null,
   "metadata": {},
   "outputs": [],
   "source": [
    "class Foldable (t :: * -> *) where\n",
    "    fold :: Monoid m => t m -> m\n",
    "    foldMap :: Monoid m => (a -> m) -> t a -> m\n",
    "    foldr :: (a -> b -> b) -> b -> t a -> b\n",
    "    foldl :: (a -> b -> a) -> a -> t b -> a\n",
    "    foldr1 :: (a -> a -> a) -> t a -> a\n",
    "    foldl1 :: (a -> a -> a) -> t a -> a\n",
    "    {-# MINIMAL foldMap | foldr #-}"
   ]
  },
  {
   "cell_type": "code",
   "execution_count": null,
   "metadata": {},
   "outputs": [],
   "source": [
    "instance Foldable [] where\n",
    "foldMap g = mconcat . map g\n",
    "\n"
   ]
  },
  {
   "cell_type": "code",
   "execution_count": null,
   "metadata": {},
   "outputs": [],
   "source": [
    "{-# LANGUAGE DeriveFoldable #-}\n",
    "data BinTree a = EmptyBT\n",
    "            | NodeBT a (BinTree a) (BinTree a)\n",
    "            deriving (Show, Foldable)"
   ]
  },
  {
   "cell_type": "markdown",
   "metadata": {},
   "source": [
    "### Traversable [traversable functor]"
   ]
  },
  {
   "cell_type": "code",
   "execution_count": null,
   "metadata": {},
   "outputs": [],
   "source": [
    "class (Functor t, Foldable t) => Traversable (t :: * -> *) where\n",
    "    traverse :: Applicative f => (a -> f b) -> t a -> f (t b)\n",
    "    sequenceA :: Applicative f => t (f a) -> f (t a)\n",
    "    mapM :: Monad m => (a -> m b) -> t a -> m (t b)\n",
    "    sequence :: Monad m => t (m a) -> m (t a)\n",
    "    {-# MINIMAL traverse | sequenceA #-}"
   ]
  },
  {
   "cell_type": "code",
   "execution_count": null,
   "metadata": {},
   "outputs": [],
   "source": [
    "{-# LANGUAGE DeriveFunctor, DeriveFoldable, DeriveTraversable #-}\n",
    "data BinTree a = EmptyBT\n",
    "                | NodeBT a (BinTree a) (BinTree a)\n",
    "                deriving (Show, Functor, Foldable, Traversable)"
   ]
  }
 ],
 "metadata": {
  "kernelspec": {
   "display_name": "Haskell",
   "language": "haskell",
   "name": "haskell"
  },
  "language_info": {
   "codemirror_mode": "ihaskell",
   "file_extension": ".hs",
   "mimetype": "text/x-haskell",
   "name": "haskell",
   "pygments_lexer": "Haskell",
   "version": "8.6.5"
  }
 },
 "nbformat": 4,
 "nbformat_minor": 4
}
