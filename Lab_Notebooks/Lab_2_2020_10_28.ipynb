{
 "cells": [
  {
   "cell_type": "markdown",
   "metadata": {},
   "source": [
    "## Laboratorium 2 28.10.2020"
   ]
  },
  {
   "cell_type": "markdown",
   "metadata": {},
   "source": [
    "#### Definicja funkcji: currying, partially applied functions"
   ]
  },
  {
   "cell_type": "code",
   "execution_count": null,
   "metadata": {},
   "outputs": [],
   "source": [
    "MyFun x = 2 * x\n",
    "-- BŁAD w zwiazku z wielką literą w nazwie funkcji -> \n",
    "-- Jest spowodowane tym, że duże \n",
    "litery są zarezerwowane przez date constructors"
   ]
  },
  {
   "cell_type": "code",
   "execution_count": null,
   "metadata": {
    "scrolled": true
   },
   "outputs": [],
   "source": [
    "-- Ten przykład już działa normalnie\n",
    "myFun x = 2 * x\n",
    "myFun 5"
   ]
  },
  {
   "cell_type": "code",
   "execution_count": null,
   "metadata": {
    "scrolled": true
   },
   "outputs": [],
   "source": [
    "add2T :: Num a => (a, a) -> a\n",
    "add2T (x,y) = x + y\n",
    "\n",
    "add2C :: Num a => a -> a -> a\n",
    "add2C x y = x + y\n",
    "\n",
    "add2T (1,2) \n",
    "-- add2C (1,2)  Nie działa, bo funkcja przyjmuje dwie osobne liczby, a nie krotkę liczb\n",
    "add2C 1 2\n",
    "-- add2T 1 2  Nie działa, bo funkcja przyjmuje krotkę, i nie może automatycznie rozpakować"
   ]
  },
  {
   "cell_type": "code",
   "execution_count": null,
   "metadata": {
    "scrolled": true
   },
   "outputs": [],
   "source": [
    "-- let add1Plus_ = add2T 1 Nie działa, bo T ma przyjmować krotkę i nie może rozdzielić na \"osobne\" funkcje\n",
    "let add1Plus_ = add2C 1\n",
    ":t add1Plus_ \n",
    "let add1Plus2 = add1Plus_ 2\n",
    ":t add1Plus2 \n",
    "add1Plus2 \n",
    "(add2C 1) 2 --Nawiasy nie są potrzebne a się stosują dla wygody"
   ]
  },
  {
   "cell_type": "markdown",
   "metadata": {},
   "source": [
    "### Currying"
   ]
  },
  {
   "cell_type": "markdown",
   "metadata": {},
   "source": [
    "Currying is the process of transforming a function that takes multiple arguments in a tuple as its argument, into a function that takes just a single argument and returns another function which accepts further arguments, one by one, that the original function would receive in the rest of that tuple."
   ]
  },
  {
   "cell_type": "code",
   "execution_count": null,
   "metadata": {},
   "outputs": [],
   "source": [
    "-- Czyli z Tupple w Zwykłą\n",
    ":t curry \n",
    "-- I na odwrót\n",
    ":t uncurry \n",
    ":t curry add2T \n",
    "(curry add2T) 1 2\n",
    "-- Nawiasy są zbędne\n",
    "curry add2T 1 2 \n",
    ":t uncurry add2C \n",
    "(uncurry add2C) (1,2) \n",
    "uncurry add2C (1,2) "
   ]
  },
  {
   "cell_type": "markdown",
   "metadata": {},
   "source": [
    "### Zadania"
   ]
  },
  {
   "cell_type": "code",
   "execution_count": null,
   "metadata": {},
   "outputs": [],
   "source": [
    "-- Zad 1\n",
    "add2C :: Num a => (a -> (a -> a))\n",
    "add2C x y = x + y\n",
    "-- Powyższy kod jest lewo-stronnie łączny (Co widać w nawiasowaniu)"
   ]
  },
  {
   "cell_type": "code",
   "execution_count": null,
   "metadata": {},
   "outputs": [],
   "source": [
    "-- Zad 2\n",
    "add3T :: Num a => (a, a, a) -> a \n",
    "add3T (x,y,z) = x + y + z\n",
    " \n",
    "add3C :: Num a => a -> a -> a -> a \n",
    "add3C x y z = x+y+z"
   ]
  },
  {
   "cell_type": "code",
   "execution_count": null,
   "metadata": {
    "scrolled": true
   },
   "outputs": [],
   "source": [
    "-- Zad 3\n",
    "add3C :: Num a => (a -> (a -> (a -> a)))\n",
    "add3C a b c = (a + b + c)\n",
    "add3C 1 2 3"
   ]
  },
  {
   "cell_type": "code",
   "execution_count": null,
   "metadata": {},
   "outputs": [],
   "source": [
    "-- Zad 4\n",
    "curry2 :: ((a, b) -> c) -> a -> b -> c\n",
    "curry2 f x y = f (x , y)\n",
    "\n",
    ":t curry2\n",
    "(curry add2T) 1 2\n",
    "\n",
    "uncurry2 :: (a -> b -> c) -> (a, b) -> c \n",
    "uncurry2 f (x,y) = f x y\n",
    ":t uncurry2\n",
    "\n",
    "curry3 :: ((a, b, c) -> d) -> a -> b -> c -> d \n",
    "curry3 f x y z = f (x,y,z)\n",
    ":t curry3\n",
    "\n",
    "uncurry3 :: (a -> b -> c -> d) -> (a, b, c) -> d \n",
    "uncurry3 f (x,y,z) = f x y z "
   ]
  },
  {
   "cell_type": "markdown",
   "metadata": {},
   "source": [
    "### Definicja funkcji: sections"
   ]
  },
  {
   "cell_type": "code",
   "execution_count": null,
   "metadata": {
    "scrolled": true
   },
   "outputs": [],
   "source": [
    ":t 2 * 3\n",
    ":t (*) \n",
    "-- :t * \n",
    ":t (2 *) \n",
    ":t (* 2) \n",
    "(* 2) 3\n",
    "(2 *) 3\n",
    "(*) 2 3 \n",
    "\n",
    ":t 2 ^ 3\n",
    ":t (^) \n",
    "-- :t ^ \n",
    ":t (2 ^) \n",
    ":t (^ 2) \n",
    "2 ^ 3\n",
    "(^ 3) 2\n",
    "(2 ^) 3\n",
    "(^) 2 3 \n",
    "\n"
   ]
  },
  {
   "cell_type": "markdown",
   "metadata": {},
   "source": [
    "### Zadania"
   ]
  },
  {
   "cell_type": "code",
   "execution_count": null,
   "metadata": {},
   "outputs": [],
   "source": [
    "-- Zad 1\n",
    "fiveToPower_ :: Integer -> Integer\n",
    "fiveToPower_ = (5^) -- \n",
    "fiveToPower_ 3\n",
    "\n",
    "_ToPower5 :: Num a => a -> a \n",
    "_ToPower5 = (^ 5)-- _ToPower5 2 = 32 \n",
    "_ToPower5 2\n",
    "\n",
    "subtrNFrom5 :: Num a => a -> a \n",
    "subtrNFrom5 = (5 - ) -- subtrNFrom5 3 = 2 \n",
    "subtrNFrom5 3\n",
    "\n",
    "subtr5From_ :: Num a => a -> a \n",
    "subtr5From_ = ((-5) + ) -- subtr5From_ 6 = 1\n",
    "subtr5From_ 6"
   ]
  },
  {
   "cell_type": "markdown",
   "metadata": {},
   "source": [
    "### Leniwe obliczanie/wartościowanie"
   ]
  },
  {
   "cell_type": "code",
   "execution_count": null,
   "metadata": {},
   "outputs": [],
   "source": [
    "let f x y = if (x > 0) then 42 else x + y \n",
    ":t f \n",
    "f 0 (1/0) \n",
    "f 1 (1/0) "
   ]
  },
  {
   "cell_type": "markdown",
   "metadata": {},
   "source": [
    "### Elementarne operacje na listach"
   ]
  },
  {
   "cell_type": "code",
   "execution_count": null,
   "metadata": {
    "scrolled": true
   },
   "outputs": [],
   "source": [
    "import Data.List\n",
    "let xs = 1 : 2 : 3 : 4 : 5 : [] \n",
    "xs --[1,2,3,4,5]\n",
    "let xs = [1..5] \n",
    "xs --[1,2,3,4,5]\n",
    "length xs -- 5\n",
    "reverse xs -- [5,4,3,2,1]"
   ]
  },
  {
   "cell_type": "code",
   "execution_count": null,
   "metadata": {
    "scrolled": false
   },
   "outputs": [],
   "source": [
    "head xs -- 1\n",
    "tail xs -- [2,3,4,5]\n",
    "last xs -- 5\n",
    "init xs -- [1,2,3,4]"
   ]
  },
  {
   "cell_type": "code",
   "execution_count": null,
   "metadata": {},
   "outputs": [],
   "source": [
    "0 : xs -- [0,1,2,3,4,5]\n",
    "xs ++ [6] -- [1,2,3,4,5,6]\n",
    "xs !! 2 -- 3\n",
    "[1,2] ++ [3,4,5] -- [1,2,3,4,5]\n",
    "\n",
    "take 2 xs --[1,2]\n",
    "drop 2 xs -- [3,4,5]\n"
   ]
  },
  {
   "cell_type": "code",
   "execution_count": null,
   "metadata": {},
   "outputs": [],
   "source": [
    "null xs -- False\n",
    "any (> 2) xs -- True\n",
    "all (> 0) xs -- True"
   ]
  },
  {
   "cell_type": "code",
   "execution_count": null,
   "metadata": {},
   "outputs": [],
   "source": [
    "zip xs ['a','b'] -- [(1,'a'),(2,'b')]\n",
    "splitAt 2 xs -- ([1,2],[3,4,5])\n",
    "sort [2,3,1,4,5] -- [1,2,3,4,5]\n",
    "2 `elem` xs -- True\n",
    "\n",
    "minimum xs -- 1\n",
    "maximum xs -- 5\n",
    "sum xs -- 15\n",
    "product xs -- 120"
   ]
  },
  {
   "cell_type": "markdown",
   "metadata": {},
   "source": [
    "### Zadania"
   ]
  },
  {
   "cell_type": "code",
   "execution_count": null,
   "metadata": {},
   "outputs": [],
   "source": [
    "-- Zad 1 (First Approach)\n",
    "isPalindrome :: [Char] -> Bool\n",
    "isPalindrome s = s==reverse s -- isPalindrome \"ABBA\" = True\n",
    "isPalindrome \"ABBA\""
   ]
  },
  {
   "cell_type": "code",
   "execution_count": null,
   "metadata": {},
   "outputs": [],
   "source": [
    "-- Zad 1 (Second Approach)\n",
    "isPalindrome :: [Char] -> Bool\n",
    "isPalindrome s \n",
    "    | (null s || length s == 1) = True\n",
    "    | head s /= last s = False\n",
    "    | otherwise = isPalindrome (init (tail s))\n",
    "isPalindrome \"ABBA\""
   ]
  },
  {
   "cell_type": "code",
   "execution_count": null,
   "metadata": {},
   "outputs": [],
   "source": [
    "-- Zad 3\n",
    "toUpperLetter::  Char -> Char\n",
    "toUpperLetter c = toEnum(fromEnum c - 32)\n",
    "\n",
    "capitalize :: [Char] -> [Char] \n",
    "capitalize c \n",
    "    | fromEnum(head c)>=97 =  [(toUpperLetter (head c))] ++ tail c\n",
    "    | otherwise = c\n",
    "capitalize \"Bbba\""
   ]
  },
  {
   "cell_type": "markdown",
   "metadata": {},
   "source": [
    "###  List comprehensions"
   ]
  },
  {
   "cell_type": "code",
   "execution_count": null,
   "metadata": {
    "scrolled": true
   },
   "outputs": [],
   "source": [
    "[x^3 | x <- [1..5]] -- [1,8,27,64,125]\n",
    "\n",
    "let x1_5Cubed = [x^3 | x <- [1..5]] -- [1,8,27,64,125]\n",
    ":t x1_5Cubed -- x1_5Cubed :: forall a. (Num a, Enum a) => [a]\n",
    "\n",
    "[x^2 | x <- [1..5], x ^ 2 - x > 3] -- [9,16,25]\n",
    "\n",
    "[(i,j) | i <- [0..3], j <- [0..2]] --Iloczyn kartezjański\n",
    "--[(0,0),(0,1),(0,2),(1,0),(1,1),(1,2),(2,0),(2,1),(2,2),(3,0),(3,1),(3,2)]\n",
    "\n",
    "[(i,j) | i <- [0..3], j <- [0..i]] \n",
    "-- [(0,0),(1,0),(1,1),(2,0),(2,1),(2,2),(3,0),(3,1),(3,2),(3,3)]\n",
    "\n",
    "[(i+j)^2 | i <- [0..3], j <- [0..2]] \n",
    "-- [0,1,4,1,4,9,4,9,16,9,16,25]\n",
    "\n",
    "[i+j | i <- [0..4], j <- [i..4], (i + j) `mod` 3 == 0] \n",
    "-- [0,3,3,6,6]\n",
    "\n",
    "[(a,b,c) | a <- [1..10], b <- [a..10], c <- [b..10], a ^ 2 + b ^ 2 == c ^ 2] \n",
    "-- [(3,4,5),(6,8,10)]"
   ]
  },
  {
   "cell_type": "markdown",
   "metadata": {},
   "source": [
    "### Zadania"
   ]
  },
  {
   "cell_type": "code",
   "execution_count": null,
   "metadata": {},
   "outputs": [],
   "source": [
    "-- Zad 1\n",
    "length [(a,b,c) | a <- [1..100], b <- [1..100], c <- [1..100], a ^ 2 + b ^ 2 >= c ^ 2  &&  a ^ 2 <= c ^2 + b ^ 2 && a ^ 2  + c ^ 2  >= b ^ 2]\n",
    "-- 219265"
   ]
  },
  {
   "cell_type": "code",
   "execution_count": null,
   "metadata": {
    "scrolled": true
   },
   "outputs": [],
   "source": [
    "-- Zad 2\n",
    "isPrime :: Integral t => t -> Bool\n",
    "isPrime n = [i | i <- [2..n-1], n `mod` i == 0] == [] \n",
    "isPrime 0\n",
    "-- Nie jest poprawna, bo 0 nie jest prime :)"
   ]
  },
  {
   "cell_type": "markdown",
   "metadata": {},
   "source": [
    "### Rekursja 1"
   ]
  },
  {
   "cell_type": "code",
   "execution_count": null,
   "metadata": {
    "scrolled": true
   },
   "outputs": [],
   "source": [
    "fib :: (Num a, Eq a) => a -> a \n",
    "fib n = \n",
    "     if n == 0 || n == 1 then n \n",
    "     else fib (n - 2) + fib (n - 1) \n",
    "fib 10"
   ]
  },
  {
   "cell_type": "code",
   "execution_count": null,
   "metadata": {
    "scrolled": true
   },
   "outputs": [],
   "source": [
    "fibs = 0 : 1 : zipWith (+) fibs (tail fibs) :: [Int] \n",
    "fib 10"
   ]
  },
  {
   "cell_type": "code",
   "execution_count": null,
   "metadata": {
    "scrolled": true
   },
   "outputs": [],
   "source": [
    "sum' :: Num a => [a] -> a \n",
    "sum' []     = 0\n",
    "sum' (x:xs) = x + sum' xs \n",
    "sum' [1,2,3,4]"
   ]
  },
  {
   "cell_type": "markdown",
   "metadata": {},
   "source": [
    "### Zadania"
   ]
  },
  {
   "cell_type": "markdown",
   "metadata": {},
   "source": [
    "#### Zad 1:"
   ]
  },
  {
   "cell_type": "code",
   "execution_count": null,
   "metadata": {
    "scrolled": true
   },
   "outputs": [],
   "source": [
    "\n",
    "prod' :: Num a => [a] -> a -- prod' [1,2,3] = 6\n",
    "prod' [] = 1\n",
    "prod' (x:xs) = x * prod' xs\n",
    "prod' [1,2,3]"
   ]
  },
  {
   "cell_type": "code",
   "execution_count": null,
   "metadata": {
    "scrolled": true
   },
   "outputs": [],
   "source": [
    "length' :: [a] -> Int -- length' [1,1,1,1] = 4\n",
    "length' [] = 0\n",
    "length' (x:xs) = 1 + length' xs\n",
    "length' [1,1,1,1]"
   ]
  },
  {
   "cell_type": "code",
   "execution_count": null,
   "metadata": {},
   "outputs": [],
   "source": [
    "or' :: [Bool] -> Bool -- or' [True, False, True] = True\n",
    "or' [] = False\n",
    "or' (x:xs) \n",
    "    | x==True = True\n",
    "    | otherwise = or' xs\n",
    "or' [True, False, True]"
   ]
  },
  {
   "cell_type": "code",
   "execution_count": null,
   "metadata": {
    "scrolled": true
   },
   "outputs": [],
   "source": [
    "and' :: [Bool] -> Bool -- and' [True, False, True] = False\n",
    "and' [] = True\n",
    "and' (x:xs) \n",
    "    | not x = False\n",
    "    | otherwise = and' xs\n",
    "and' [True, False, True]"
   ]
  },
  {
   "cell_type": "code",
   "execution_count": null,
   "metadata": {},
   "outputs": [],
   "source": [
    "elem' :: (Eq a,Num a) => a -> [a] -> Bool -- elem' 3 [1,2,3] = True\n",
    "elem' 0 [] = True\n",
    "elem' 0 (x:xs) = False\n",
    "elem' a [] = False\n",
    "elem' a (x:xs) = elem' (a-1) xs\n",
    "elem' 4 [1,2,3]"
   ]
  },
  {
   "cell_type": "code",
   "execution_count": null,
   "metadata": {
    "scrolled": true
   },
   "outputs": [],
   "source": [
    "doubleAll :: Num t => [t] -> [t] -- doubleAll [1,2] = [2,4]\n",
    "doubleAll [] = []\n",
    "doubleAll (x:xs) = 2*x : doubleAll xs\n",
    "doubleAll [1,2]"
   ]
  },
  {
   "cell_type": "code",
   "execution_count": null,
   "metadata": {
    "scrolled": true
   },
   "outputs": [],
   "source": [
    "squareAll :: Num t => [t] -> [t] -- squareAll [2,3] = [4,9]\n",
    "squareAll [] = []\n",
    "squareAll (x:xs) = x^2 : squareAll xs\n",
    "squareAll [2,3]"
   ]
  },
  {
   "cell_type": "code",
   "execution_count": null,
   "metadata": {},
   "outputs": [],
   "source": [
    "selectEven :: Integral t => [t] -> [t] -- selectEven [1,2,3] = [2]\n",
    "selectEven [] = []\n",
    "selectEven (x:xs)\n",
    "    | (x `mod` 2==0) = x: selectEven xs\n",
    "    | otherwise = selectEven xs\n",
    "selectEven [1,2,3]\n",
    "-- Można wskazać, że schematy electEven [] = []; selectEven (x:xs) powtarzają sie \n",
    "-- Przy defenicji funkcji rekurncyjnych"
   ]
  },
  {
   "cell_type": "markdown",
   "metadata": {},
   "source": [
    "### Rekursja 2: użycie akumulatora, rekursja końcowa"
   ]
  },
  {
   "cell_type": "code",
   "execution_count": null,
   "metadata": {
    "scrolled": false
   },
   "outputs": [],
   "source": [
    "sum'2 :: Num a => [a] -> a \n",
    "sum'2 xs = loop 0 xs \n",
    "     where loop acc []     = acc \n",
    "           loop acc (x:xs) = loop (x + acc) xs \n",
    "sum'2 [1,2,3,4]\n",
    "\n",
    "sum'3 :: Num a => [a] -> a \n",
    "sum'3 = loop 0 \n",
    "     where loop acc []     = acc \n",
    "           loop acc (x:xs) = loop (x + acc) xs"
   ]
  },
  {
   "cell_type": "markdown",
   "metadata": {},
   "source": [
    "### Zadania"
   ]
  },
  {
   "cell_type": "code",
   "execution_count": null,
   "metadata": {},
   "outputs": [],
   "source": [
    "-- Zad 1\n",
    "prod'2 :: Num a => [a] -> a \n",
    "prod'2 xs = loop 1 xs\n",
    "        where \n",
    "            loop acc []     = acc \n",
    "            loop acc (x:xs) = loop (x * acc) xs\n",
    "prod'2 [1,2,3]\n",
    "length'2 :: [a] -> Int\n",
    "length'2 xs = loop 0 xs\n",
    "    where \n",
    "        loop acc [] = acc\n",
    "        loop acc (x:xs) = loop (1 + acc) xs\n",
    "length [1,2,3]"
   ]
  },
  {
   "cell_type": "markdown",
   "metadata": {},
   "source": [
    "### Rekursja 4"
   ]
  },
  {
   "cell_type": "code",
   "execution_count": null,
   "metadata": {},
   "outputs": [],
   "source": [
    "qSort :: Ord a => [a] -> [a] \n",
    "qSort []     = [] \n",
    "qSort (x:xs) = qSort (leftPart xs) ++ [x] ++ qSort (rightPart xs) \n",
    " where \n",
    "   leftPart  xs = [ y | y <- xs, y <= x ] \n",
    "   rightPart xs = [ y | y <- xs, y > x  ] \n",
    "\n",
    "qSort [1,2,3,4]"
   ]
  },
  {
   "cell_type": "markdown",
   "metadata": {},
   "source": [
    "### Zadania"
   ]
  },
  {
   "cell_type": "code",
   "execution_count": null,
   "metadata": {
    "scrolled": true
   },
   "outputs": [],
   "source": [
    "-- Zad 1\n",
    "qSort :: Ord a => [a] -> [a] \n",
    "qSort []     = [] \n",
    "qSort (x:xs) = qSort (leftPart xs) ++ [x] ++ qSort (rightPart xs) \n",
    " where \n",
    "   leftPart = filter (<= x)\n",
    "   rightPart = filter (> x)\n",
    "qSort [1,2,3,4]"
   ]
  },
  {
   "cell_type": "markdown",
   "metadata": {},
   "source": [
    "###  Dopasowanie wzorców: guards"
   ]
  },
  {
   "cell_type": "code",
   "execution_count": null,
   "metadata": {},
   "outputs": [],
   "source": [
    "fst2Eq :: Eq a => [a] -> Bool\n",
    "fst2Eq (x : y : _) | x == y = True\n",
    "fst2Eq _                    = False"
   ]
  },
  {
   "cell_type": "markdown",
   "metadata": {},
   "source": [
    "### Zadania"
   ]
  },
  {
   "cell_type": "code",
   "execution_count": null,
   "metadata": {},
   "outputs": [],
   "source": [
    "-- Zad 1 \n",
    "is1stDivBy2nd :: [Int] -> Bool\n",
    "is1stDivBy2nd [] = False\n",
    "is1stDivBy2nd [a] = False\n",
    "is1stDivBy2nd (fst:snd:_) =  snd `mod` fst == 0 \n",
    "is1stDivBy2nd [2,1,5]"
   ]
  }
 ],
 "metadata": {
  "kernelspec": {
   "display_name": "Haskell",
   "language": "haskell",
   "name": "haskell"
  },
  "language_info": {
   "codemirror_mode": "ihaskell",
   "file_extension": ".hs",
   "mimetype": "text/x-haskell",
   "name": "haskell",
   "pygments_lexer": "Haskell",
   "version": "8.6.5"
  }
 },
 "nbformat": 4,
 "nbformat_minor": 4
}
