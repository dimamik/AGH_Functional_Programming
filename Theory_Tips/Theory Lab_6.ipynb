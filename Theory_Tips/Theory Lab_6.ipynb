{
 "cells": [
  {
   "cell_type": "markdown",
   "metadata": {},
   "source": [
    "# Lab 6"
   ]
  },
  {
   "cell_type": "code",
   "execution_count": null,
   "metadata": {
    "scrolled": true
   },
   "outputs": [],
   "source": [
    "-- Monady -> Wykonują funkcję na opakowanej wartości, \n",
    "-- która zwraca opakowaną wartość\n",
    "-- (>>=) -> Bierze monadę (Opakowaną wartość), funkcję zwracającą monadę i \n",
    "-- zwraca monadę (bind)\n",
    "class Monad m where\n",
    "    (>>=) :: m a -> (a -> m b) -> m b\n",
    "    \n",
    "instance Monad Maybe where\n",
    "    Nothing >>= func = Nothing\n",
    "    Just val >>= func  = func val\n",
    "\n",
    "-- Przykład\n",
    "half x = if even x\n",
    "           then Just (x `div` 2)\n",
    "           else Nothing\n",
    "Just 20 >>= half >>= half >>= half --Nothing\n",
    "\n",
    "-- Monada I/O\n",
    "getLine >>= readFile >>= putStrLn\n",
    "foo = do\n",
    "    filename <- getLine\n",
    "    contents <- readFile filename\n",
    "    putStrLn contents"
   ]
  },
  {
   "cell_type": "code",
   "execution_count": 5,
   "metadata": {},
   "outputs": [
    {
     "data": {
      "text/plain": [
       "3"
      ]
     },
     "metadata": {},
     "output_type": "display_data"
    },
    {
     "data": {
      "text/plain": [
       "3"
      ]
     },
     "metadata": {},
     "output_type": "display_data"
    },
    {
     "data": {
      "text/plain": [
       "17"
      ]
     },
     "metadata": {},
     "output_type": "display_data"
    },
    {
     "data": {
      "text/plain": [
       "21"
      ]
     },
     "metadata": {},
     "output_type": "display_data"
    }
   ],
   "source": [
    "-- (<$<)\n",
    "(<$<) :: (a -> b) -> a -> b \n",
    "(<$<) = ($) \n",
    "(\\x -> 2 * x + 1) <$< 1 --3\n",
    "\n",
    "-- (>$>) \n",
    "(>$>) :: a -> (a -> b) -> b \n",
    "x >$> f = f x \n",
    "infixl 0 >$> \n",
    "1 >$> (\\x -> 2 * x + 1) --3\n",
    "\n",
    "-- (<.<) \n",
    "(<.<) :: (b -> c) -> (a -> b) -> (a -> c) \n",
    "(<.<) = (.) \n",
    "(+2) <.< (*3) <$< 5 --17\n",
    "\n",
    "-- (>.>)\n",
    "(>.>) :: (a -> b) -> (b -> c) -> (a -> c) \n",
    "f >.> g = g . f \n",
    "infixl 9 >.> \n",
    "(+2) >.> (*3) <$< 5 --21\n",
    "\n"
   ]
  },
  {
   "cell_type": "code",
   "execution_count": 11,
   "metadata": {
    "scrolled": true
   },
   "outputs": [
    {
     "data": {
      "text/plain": [
       "Just [2]"
      ]
     },
     "metadata": {},
     "output_type": "display_data"
    },
    {
     "data": {
      "text/plain": [
       "Just []"
      ]
     },
     "metadata": {},
     "output_type": "display_data"
    },
    {
     "data": {
      "text/plain": [
       "Just [2]"
      ]
     },
     "metadata": {},
     "output_type": "display_data"
    }
   ],
   "source": [
    "-- Maybe\n",
    "safeTail :: [a] -> Maybe [a] \n",
    "safeTail []     = Nothing \n",
    "safeTail (x:xs) = Just xs \n",
    "safeTail [1,2] --Just 2\n",
    "\n",
    "extractMaybe :: Maybe a -> a \n",
    "extractMaybe Nothing  = error \"Nothing inside!\" \n",
    "extractMaybe (Just x) = x \n",
    "[1,2] >$> safeTail >.> extractMaybe >.> safeTail --Just []\n",
    "\n",
    "\n",
    "insertMaybe :: a -> Maybe a \n",
    "insertMaybe = Just \n",
    "\n",
    "-- (>^$>) \n",
    "(>^$>) :: Maybe a -> (a -> Maybe b) -> Maybe b \n",
    "Nothing  >^$> _ = Nothing \n",
    "(Just x) >^$> f = f x \n",
    "infixl 1 >^$> \n",
    "insertMaybe [1,2] >^$> safeTail \n",
    "\n",
    "-- (>.>>) -> Kleisli composition \n",
    "(>.>>) :: (a -> Maybe b) -> (b -> Maybe c) -> (a -> Maybe c) \n",
    "f >.>> g = \\x -> g (extractMaybe (f x)) \n",
    "\n",
    "\n",
    "safeDiv :: Int -> Int -> Maybe Int \n",
    "safeDiv x y | y /= 0    = Just $ x `div` y \n",
    "            | otherwise = Nothing \n",
    " \n",
    "safeF5 :: Int -> Int -> Int -> Maybe Int \n",
    "safeF5 x y z = \n",
    "  case (safeDiv 1000 x) of \n",
    "    Nothing -> Nothing \n",
    "    Just (iOverX) -> \n",
    "      case (safeDiv 100 y) of \n",
    "        Nothing -> Nothing \n",
    "        Just (iOverY) -> \n",
    "          case (safeDiv 10 z) of\n",
    "            Nothing -> Nothing \n",
    "            Just (iOverZ) -> Just $ iOverX + iOverY + iOverZ "
   ]
  },
  {
   "cell_type": "code",
   "execution_count": 15,
   "metadata": {},
   "outputs": [
    {
     "data": {
      "text/plain": [
       "[1,2,3]"
      ]
     },
     "metadata": {},
     "output_type": "display_data"
    },
    {
     "data": {
      "text/plain": [
       "[-1,1,-2,2]"
      ]
     },
     "metadata": {},
     "output_type": "display_data"
    },
    {
     "data": {
      "text/plain": [
       "[(1,-1),(1,1),(2,-2),(2,2)]"
      ]
     },
     "metadata": {},
     "output_type": "display_data"
    },
    {
     "data": {
      "text/plain": [
       "[(1,1,1),(1,1,2),(1,2,1),(1,2,2),(2,1,1),(2,1,2),(2,2,1),(2,2,2)]"
      ]
     },
     "metadata": {},
     "output_type": "display_data"
    }
   ],
   "source": [
    "-- Monada []\n",
    "return 3 >>= (\\x -> [1..x]) --[1,2,3]\n",
    "[1,2] >>= (\\x -> [-x,x]) --[-1,1,-2,2]\n",
    "[1,2] >>= \\x -> [-x,x] >>= \\y -> return (x,y) --[(1,-1),(1,1),(2,-2),(2,2)]\n",
    "\n",
    "\n",
    "doXs1 :: [(Int,Int,Int)] \n",
    "doXs1 = do \n",
    "  let xs = [1,2] \n",
    "  x <- xs \n",
    "  y <- xs \n",
    "  z <- xs \n",
    "  return (x,y,z) \n",
    "doXs1 --[(1,1,1),(1,1,2),(1,2,1),(1,2,2),(2,1,1),(2,1,2),(2,2,1),(2,2,2)]\n"
   ]
  },
  {
   "cell_type": "code",
   "execution_count": 16,
   "metadata": {
    "scrolled": true
   },
   "outputs": [
    {
     "data": {
      "text/html": [
       "<style>/* Styles used for the Hoogle display in the pager */\n",
       ".hoogle-doc {\n",
       "display: block;\n",
       "padding-bottom: 1.3em;\n",
       "padding-left: 0.4em;\n",
       "}\n",
       ".hoogle-code {\n",
       "display: block;\n",
       "font-family: monospace;\n",
       "white-space: pre;\n",
       "}\n",
       ".hoogle-text {\n",
       "display: block;\n",
       "}\n",
       ".hoogle-name {\n",
       "color: green;\n",
       "font-weight: bold;\n",
       "}\n",
       ".hoogle-head {\n",
       "font-weight: bold;\n",
       "}\n",
       ".hoogle-sub {\n",
       "display: block;\n",
       "margin-left: 0.4em;\n",
       "}\n",
       ".hoogle-package {\n",
       "font-weight: bold;\n",
       "font-style: italic;\n",
       "}\n",
       ".hoogle-module {\n",
       "font-weight: bold;\n",
       "}\n",
       ".hoogle-class {\n",
       "font-weight: bold;\n",
       "}\n",
       ".get-type {\n",
       "color: green;\n",
       "font-weight: bold;\n",
       "font-family: monospace;\n",
       "display: block;\n",
       "white-space: pre-wrap;\n",
       "}\n",
       ".show-type {\n",
       "color: green;\n",
       "font-weight: bold;\n",
       "font-family: monospace;\n",
       "margin-left: 1em;\n",
       "}\n",
       ".mono {\n",
       "font-family: monospace;\n",
       "display: block;\n",
       "}\n",
       ".err-msg {\n",
       "color: red;\n",
       "font-style: italic;\n",
       "font-family: monospace;\n",
       "white-space: pre;\n",
       "display: block;\n",
       "}\n",
       "#unshowable {\n",
       "color: red;\n",
       "font-weight: bold;\n",
       "}\n",
       ".err-msg.in.collapse {\n",
       "padding-top: 0.7em;\n",
       "}\n",
       ".highlight-code {\n",
       "white-space: pre;\n",
       "font-family: monospace;\n",
       "}\n",
       ".suggestion-warning { \n",
       "font-weight: bold;\n",
       "color: rgb(200, 130, 0);\n",
       "}\n",
       ".suggestion-error { \n",
       "font-weight: bold;\n",
       "color: red;\n",
       "}\n",
       ".suggestion-name {\n",
       "font-weight: bold;\n",
       "}\n",
       "</style><span class='get-type'>guard :: forall (f :: * -> *). Alternative f => Bool -> f ()</span>"
      ],
      "text/plain": [
       "guard :: forall (f :: * -> *). Alternative f => Bool -> f ()"
      ]
     },
     "metadata": {},
     "output_type": "display_data"
    },
    {
     "data": {
      "text/plain": [
       "[2,4,6,8,10]"
      ]
     },
     "metadata": {},
     "output_type": "display_data"
    },
    {
     "data": {
      "text/plain": [
       "[(2,()),(4,()),(6,()),(8,()),(10,())]"
      ]
     },
     "metadata": {},
     "output_type": "display_data"
    },
    {
     "data": {
      "text/plain": [
       "[1,2,3,4,5,6,7,8,9,10]"
      ]
     },
     "metadata": {},
     "output_type": "display_data"
    },
    {
     "data": {
      "text/plain": [
       "[1,2,3,4,5,6,7,8,9,10]"
      ]
     },
     "metadata": {},
     "output_type": "display_data"
    }
   ],
   "source": [
    "import Control.Monad \n",
    "xs2 :: [(Int,Int,Int)] \n",
    "xs2 = [ (x,y,z) | let xs = [1..3], x <- xs, y <- xs, z <- xs, x > y && y > z ] \n",
    " \n",
    "doXs2 :: [(Int,Int,Int)] \n",
    "doXs2 = do \n",
    "  let xs = [1..3] \n",
    "  x <- xs \n",
    "  y <- xs \n",
    "  z <- xs \n",
    "  guard $ x > y && y > z \n",
    "  return (x,y,z) \n",
    " \n",
    "doXs2' :: [(Int,Int,Int)] \n",
    "doXs2' = do \n",
    "  let xs = [1..3] \n",
    "  x <- xs \n",
    "  y <- xs \n",
    "  z <- xs \n",
    "  if x > y && y > z \n",
    "    then return (x,y,z) \n",
    "    else [] \n",
    "    \n",
    "\n",
    ":t guard \n",
    "[1..10] >>= \\x -> guard (even x) >> return x \n",
    "[1..10] >>= \\x -> guard (even x) >>= \\y -> return (x,y) \n",
    "[1..10] >>= \\x -> return x\n",
    "[1..10] >>= return "
   ]
  },
  {
   "cell_type": "markdown",
   "metadata": {},
   "source": [
    "# Zadania Quizy Lab 6"
   ]
  },
  {
   "cell_type": "code",
   "execution_count": 84,
   "metadata": {},
   "outputs": [
    {
     "data": {
      "text/plain": [
       "Just 1053"
      ]
     },
     "metadata": {},
     "output_type": "display_data"
    },
    {
     "data": {
      "text/plain": [
       "Just 1053"
      ]
     },
     "metadata": {},
     "output_type": "display_data"
    },
    {
     "data": {
      "text/html": [
       "<style>/* Styles used for the Hoogle display in the pager */\n",
       ".hoogle-doc {\n",
       "display: block;\n",
       "padding-bottom: 1.3em;\n",
       "padding-left: 0.4em;\n",
       "}\n",
       ".hoogle-code {\n",
       "display: block;\n",
       "font-family: monospace;\n",
       "white-space: pre;\n",
       "}\n",
       ".hoogle-text {\n",
       "display: block;\n",
       "}\n",
       ".hoogle-name {\n",
       "color: green;\n",
       "font-weight: bold;\n",
       "}\n",
       ".hoogle-head {\n",
       "font-weight: bold;\n",
       "}\n",
       ".hoogle-sub {\n",
       "display: block;\n",
       "margin-left: 0.4em;\n",
       "}\n",
       ".hoogle-package {\n",
       "font-weight: bold;\n",
       "font-style: italic;\n",
       "}\n",
       ".hoogle-module {\n",
       "font-weight: bold;\n",
       "}\n",
       ".hoogle-class {\n",
       "font-weight: bold;\n",
       "}\n",
       ".get-type {\n",
       "color: green;\n",
       "font-weight: bold;\n",
       "font-family: monospace;\n",
       "display: block;\n",
       "white-space: pre-wrap;\n",
       "}\n",
       ".show-type {\n",
       "color: green;\n",
       "font-weight: bold;\n",
       "font-family: monospace;\n",
       "margin-left: 1em;\n",
       "}\n",
       ".mono {\n",
       "font-family: monospace;\n",
       "display: block;\n",
       "}\n",
       ".err-msg {\n",
       "color: red;\n",
       "font-style: italic;\n",
       "font-family: monospace;\n",
       "white-space: pre;\n",
       "display: block;\n",
       "}\n",
       "#unshowable {\n",
       "color: red;\n",
       "font-weight: bold;\n",
       "}\n",
       ".err-msg.in.collapse {\n",
       "padding-top: 0.7em;\n",
       "}\n",
       ".highlight-code {\n",
       "white-space: pre;\n",
       "font-family: monospace;\n",
       "}\n",
       ".suggestion-warning { \n",
       "font-weight: bold;\n",
       "color: rgb(200, 130, 0);\n",
       "}\n",
       ".suggestion-error { \n",
       "font-weight: bold;\n",
       "color: red;\n",
       "}\n",
       ".suggestion-name {\n",
       "font-weight: bold;\n",
       "}\n",
       "</style><span class='get-type'>fmap :: forall (f :: * -> *) a b. Functor f => (a -> b) -> f a -> f b</span>"
      ],
      "text/plain": [
       "fmap :: forall (f :: * -> *) a b. Functor f => (a -> b) -> f a -> f b"
      ]
     },
     "metadata": {},
     "output_type": "display_data"
    },
    {
     "data": {
      "text/plain": [
       "Just [1,2,3]"
      ]
     },
     "metadata": {},
     "output_type": "display_data"
    },
    {
     "data": {
      "text/plain": [
       "[Just 2,Just 2,Just 3]"
      ]
     },
     "metadata": {},
     "output_type": "display_data"
    },
    {
     "data": {
      "text/plain": [
       "Right (MkD1 {i = 2, s = \"abc\"})"
      ]
     },
     "metadata": {},
     "output_type": "display_data"
    },
    {
     "data": {
      "text/plain": [
       "Left \"i is odd\""
      ]
     },
     "metadata": {},
     "output_type": "display_data"
    }
   ],
   "source": [
    "-- Zad 1.\n",
    "-- Przepisz bez do notacji\n",
    "safeDiv x y = if y/=0 then Just (x `div` y) else Nothing\n",
    "\n",
    "safeF x y z = do\n",
    "    iOverX <- safeDiv 1000 x\n",
    "    iOverY <- safeDiv 100 y\n",
    "    let refVal = 550\n",
    "        sum = iOverX + iOverY + z\n",
    "    return $ max refVal sum\n",
    "safeF 1 2 3\n",
    "\n",
    "safeF' x y z = \n",
    "    safeDiv 1000 x \n",
    "        >>= \\iOverY -> safeDiv 100 y \n",
    "            >>= \\iOverX -> \n",
    "                let {refVal = 550; sum = iOverX + iOverY + z} \n",
    "                    in return $ max refVal sum\n",
    "        \n",
    "safeF' 1 2 3\n",
    ":t fmap\n",
    "-- Zad 2.\n",
    "mapM::Monad m => (a->m b ) -> [a] -> m [b]\n",
    "mapM f [] = return []\n",
    "mapM f (x:xs) = do\n",
    "    y<-f x\n",
    "    ys<- mapM f xs\n",
    "    return (y:ys)\n",
    "\n",
    "mapM (Just . length) [\"1\",\"22\",\"333\"]\n",
    "\n",
    "Just 2 : [Just 2, Just 3]\n",
    "\n",
    "-- Zad 3\n",
    "nonEmpty :: String -> Either String String\n",
    "nonEmpty \"\" = Left \"Empty!\"\n",
    "nonEmpty s = Right s\n",
    "\n",
    "nonNegative :: Int -> Either String Int\n",
    "nonNegative n = if n>=0 then Right n else Left \"n<0\"\n",
    "\n",
    "data D1 = MkD1 {i::Int,s::String} deriving Show\n",
    "\n",
    "validate :: D1 -> Either String D1\n",
    "validate d = if (even (i d)) then Right d else Left \"i is odd\"\n",
    "\n",
    "createD1 :: String -> Int -> Either String D1\n",
    "createD1 s1 i1 = nonEmpty s1 >>= \n",
    "    \\s-> nonNegative i1 >>= \n",
    "        \\i-> validate $ MkD1 i s\n",
    "    \n",
    "createD1 \"abc\" 2\n",
    "createD1 \"abc\" 1"
   ]
  }
 ],
 "metadata": {
  "kernelspec": {
   "display_name": "Haskell",
   "language": "haskell",
   "name": "haskell"
  },
  "language_info": {
   "codemirror_mode": "ihaskell",
   "file_extension": ".hs",
   "mimetype": "text/x-haskell",
   "name": "haskell",
   "pygments_lexer": "Haskell",
   "version": "8.6.5"
  }
 },
 "nbformat": 4,
 "nbformat_minor": 4
}
