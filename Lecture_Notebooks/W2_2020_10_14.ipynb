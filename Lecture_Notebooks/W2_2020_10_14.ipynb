{
 "cells": [
  {
   "cell_type": "markdown",
   "metadata": {},
   "source": [
    "# Wykład 14.10.2020 Przetwarzanie list"
   ]
  },
  {
   "cell_type": "markdown",
   "metadata": {},
   "source": [
    "#### Uwaga: Nazwy zmiennych nie mogą zaczynać się wielką literą (te są zarezerwowane dla nazw typów)."
   ]
  },
  {
   "cell_type": "code",
   "execution_count": null,
   "metadata": {},
   "outputs": [],
   "source": [
    "mPi :: Fractional t => t\n",
    "mPi = 3.141592653589793 -- stała/wartość\n",
    "2 * mPi"
   ]
  },
  {
   "cell_type": "code",
   "execution_count": null,
   "metadata": {},
   "outputs": [],
   "source": [
    "addT :: Num a => (a, a) -> a\n",
    "addT (x,y) = x + y"
   ]
  },
  {
   "cell_type": "code",
   "execution_count": null,
   "metadata": {},
   "outputs": [],
   "source": [
    "curry :: ((a, b) -> c) -> a -> b -> c\n",
    "curry addT"
   ]
  },
  {
   "cell_type": "code",
   "execution_count": null,
   "metadata": {},
   "outputs": [],
   "source": [
    "-- Uwaga!\n",
    "f :: a -> b -> c -> d = a -> (b -> (c -> d)) -- prawostronna łączność\n",
    "f 1 2.2 'c' = ((f 1) 2.2) 'c' -- lewostronna łączność"
   ]
  },
  {
   "cell_type": "markdown",
   "metadata": {},
   "source": [
    "### Currying*, partially applied functions**, sections (przykłady)"
   ]
  },
  {
   "cell_type": "code",
   "execution_count": null,
   "metadata": {
    "scrolled": true
   },
   "outputs": [],
   "source": [
    "addC :: Num a =>\n",
    "    a -> a -> a -> a\n",
    "addC x y z = x + y + z\n",
    "1 + addC 1 2 3"
   ]
  },
  {
   "cell_type": "code",
   "execution_count": null,
   "metadata": {},
   "outputs": [],
   "source": [
    "times :: a->b->c->d\n",
    "times a b c = times (a*b) c\n",
    "(^) :: (Num a, Integral b) =>\n",
    "        a -> b -> a\n",
    "(^) a b =\n",
    "(^) 2 5"
   ]
  },
  {
   "cell_type": "code",
   "execution_count": null,
   "metadata": {},
   "outputs": [],
   "source": [
    "-- Partially applied function\n",
    "addC :: Num a =>\n",
    "    a -> a -> a -> a\n",
    "addC x y z = x + y + z\n",
    "add1To_ :: Num a => a -> a -> a\n",
    "add1To_ = addC 1 --There we have a function a b = a+b+1\n",
    "add1and2To_ :: Num a => a -> a\n",
    "add1and2To_ = add1To_ 2\n"
   ]
  },
  {
   "cell_type": "code",
   "execution_count": null,
   "metadata": {},
   "outputs": [],
   "source": [
    "-- To show that aruments are applying from left to right \n",
    "function :: Num a =>\n",
    "    a -> a -> a -> a\n",
    "function a b c = (a+1) + (b+2) + (c+3)\n",
    "f2 :: Num a =>\n",
    "    a -> a\n",
    "f2 a =  function a 2 3\n",
    "f2 1"
   ]
  },
  {
   "cell_type": "code",
   "execution_count": null,
   "metadata": {},
   "outputs": [],
   "source": [
    "-- Applying to \"real\" math functions like y = kx + b\n",
    "y :: Num a =>\n",
    "    a->a->a->a\n",
    "y k b x = k*x + b\n",
    "-- Defining the function\n",
    "y1 = y 2 2\n",
    "-- Getting the value of function in x \n",
    "y1 2"
   ]
  },
  {
   "cell_type": "markdown",
   "metadata": {},
   "source": [
    "### Leniwe wartościowanie/obliczanie (przykłady)\n"
   ]
  },
  {
   "cell_type": "code",
   "execution_count": null,
   "metadata": {},
   "outputs": [],
   "source": [
    "import Data.Tuple\n",
    "let x = 1 + 2 :: Int\n",
    "let z = swap (x,x+1)\n",
    ":sp z --To check z value"
   ]
  },
  {
   "cell_type": "code",
   "execution_count": null,
   "metadata": {
    "scrolled": true
   },
   "outputs": [],
   "source": [
    ":sp z -- z = (_,_)\n",
    "seq x () -- ()\n",
    ":sp z -- z = (_,3)\n",
    "seq (fst z) () -- ()\n",
    ":sp z -- z = (4,3)"
   ]
  },
  {
   "cell_type": "code",
   "execution_count": null,
   "metadata": {
    "scrolled": true
   },
   "outputs": [],
   "source": [
    "let ys = [1..5] :: [Int]\n",
    ":sp ys -- ys = _\n",
    "seq (length ys) () -- ()\n",
    ":sp ys -- ys = [1,2,3,4,5]"
   ]
  },
  {
   "cell_type": "code",
   "execution_count": null,
   "metadata": {
    "scrolled": true
   },
   "outputs": [],
   "source": [
    "let xs = [1..] :: [Int]\n",
    ":sp xs -- xs = _\n",
    "head xs -- 1\n",
    ":sp xs -- xs = 1 : _\n",
    "-- Taking arr[2] is arr !! 2\n",
    "xs !! 2 -- 3\n",
    ":sp xs -- xs = 1 : 2 : 3 : _"
   ]
  },
  {
   "cell_type": "code",
   "execution_count": null,
   "metadata": {
    "scrolled": true
   },
   "outputs": [],
   "source": [
    "-- Ciag Fibbonachiego\n",
    "let fibs = 0 : 1 : zipWith (+) fibs (tail fibs) :: [Int]\n",
    ":sp fibs -- fibs = _\n",
    "fibs !! 4\n",
    "take 10 fibs\n",
    ":sp fibs "
   ]
  },
  {
   "cell_type": "markdown",
   "metadata": {},
   "source": [
    "### Rekursja i przetwarzanie list\n"
   ]
  },
  {
   "cell_type": "code",
   "execution_count": null,
   "metadata": {},
   "outputs": [],
   "source": [
    "-- Deﬁnicja listy\n",
    "\n",
    "-- data [] a = [] | a : [a]\n",
    "xs = 1:2:3:4:[]--[1,2,3,4]\n",
    "length xs -- 4\n",
    "reverse xs -- [4,3,2,1]\n",
    "head xs -- 1\n",
    "tail xs -- [2,3,4]\n",
    "last xs -- 4\n",
    "init xs -- [1,2,3]\n",
    "0 : xs -- [0,1,2,3,4]\n",
    "xs ++ [5] -- [1,2,3,4,5]\n",
    "xs !! 2 -- 3\n",
    "[1,2] ++ [3,4] --[1,2,3,4]\n",
    "take 2 xs -- [1,2]\n",
    "drop 2 xs -- [3,4]"
   ]
  },
  {
   "cell_type": "code",
   "execution_count": null,
   "metadata": {
    "scrolled": true
   },
   "outputs": [],
   "source": [
    "xs = 1:2:3:4:[]--[1,2,3,4]\n",
    "null xs -- False\n",
    "any (>2) xs -- True\n",
    "all (>0) xs -- True\n",
    "zip xs ['a','b']--[(1,'a'),(2,'b')]\n",
    "splitAt 2 xs --([1,2],[3,4])\n",
    "sort [2,3,1,4] -- [1,2,3,4]\n",
    "2 `elem` xs -- True\n",
    "filter even xs -- [2,4]\n",
    "map (*2) xs -- [2,4,6,8]\n",
    "foldr (+) 0 xs -- 10\n",
    "minimum xs -- 1\n",
    "maximum xs -- 4\n",
    "sum xs -- 10"
   ]
  },
  {
   "cell_type": "markdown",
   "metadata": {},
   "source": [
    "### List comprehensions*"
   ]
  },
  {
   "cell_type": "code",
   "execution_count": null,
   "metadata": {
    "scrolled": true
   },
   "outputs": [],
   "source": [
    "xs = [ x^2 | x <- [1..10], x^5 < 1025 ]\n",
    "take xs"
   ]
  },
  {
   "cell_type": "code",
   "execution_count": null,
   "metadata": {
    "scrolled": true
   },
   "outputs": [],
   "source": [
    "-- Generatory\n",
    "[(x,c) | x <- [1..3], c <- ['a','b']] -- x <- [1..3] - generator\n",
    "[(x,y) | x <- [1..3], y <- [1..x]]\n",
    "[(a,b,c) | a <- [1..10], b <- [a..10], c <- [b..10], a^2+b^2==c^2]"
   ]
  },
  {
   "cell_type": "markdown",
   "metadata": {},
   "source": [
    "#### Napisy jako listy znaków"
   ]
  },
  {
   "cell_type": "code",
   "execution_count": null,
   "metadata": {
    "scrolled": true
   },
   "outputs": [],
   "source": [
    "lowers xs = length [x | x <- xs, isLower x]\n",
    "lowers \"Hello\" -- 4"
   ]
  },
  {
   "cell_type": "markdown",
   "metadata": {},
   "source": [
    "### Recursion"
   ]
  },
  {
   "cell_type": "code",
   "execution_count": null,
   "metadata": {},
   "outputs": [],
   "source": [
    "-- Prosty schemat deﬁnicji rekurencyjnej [uwaga: rekursja vs. rekurencja]\n",
    "-- recurFun x = if {- base case(s) ? -}\n",
    "            -- then {- handle base case(s) ... -}\n",
    "            -- else {- handle recurrence case(s)... recurFun (f x)... -}"
   ]
  },
  {
   "cell_type": "code",
   "execution_count": null,
   "metadata": {},
   "outputs": [],
   "source": [
    "fact :: Integer -> Integer\n",
    "-- assert (n >= 0)\n",
    "fact n = -- **\n",
    "    -- the base case\n",
    "    if n == 0 || n == 1 then 1\n",
    "    else n * fact (n - 1)"
   ]
  },
  {
   "cell_type": "code",
   "execution_count": null,
   "metadata": {},
   "outputs": [],
   "source": [
    "fibb :: (Num a, Eq a) => a -> a\n",
    "-- assert (n >= 0)\n",
    "fibb n =\n",
    "    -- the base case\n",
    "    if n == 0 || n == 1 then n\n",
    "    else fibb (n - 2) + fibb (n - 1)"
   ]
  },
  {
   "cell_type": "code",
   "execution_count": null,
   "metadata": {},
   "outputs": [],
   "source": [
    "notTerm :: Int -> Bool\n",
    "notTerm x = not (notTerm x)"
   ]
  },
  {
   "cell_type": "markdown",
   "metadata": {},
   "source": [
    "### Przetwarzanie list, rekursja, dopasowanie wzorców (przykł.)"
   ]
  },
  {
   "cell_type": "code",
   "execution_count": null,
   "metadata": {},
   "outputs": [],
   "source": [
    "sum:: Num a => [a] -> a\n",
    "sum [] = 0\n",
    "sum (x:xs) = x + sum xs"
   ]
  },
  {
   "cell_type": "code",
   "execution_count": null,
   "metadata": {},
   "outputs": [],
   "source": [
    "length :: [a] -> Int\n",
    "length [] = 0\n",
    "length (_:xs) = 1 + length xs"
   ]
  },
  {
   "cell_type": "code",
   "execution_count": null,
   "metadata": {},
   "outputs": [],
   "source": [
    "qSort :: Ord a => [a] -> [a]\n",
    "qSort [] = []\n",
    "qSort (x:xs) = qSort (leftPart xs) ++ [x] ++ qSort (rightPart xs)\n",
    "    where\n",
    "        leftPart xs = [ y | y <- xs, y <= x ]\n",
    "        rightPart xs = [ y | y <- xs, y > x ]"
   ]
  },
  {
   "cell_type": "code",
   "execution_count": null,
   "metadata": {},
   "outputs": [],
   "source": [
    "-- Conditional evaluation with guards\n",
    "fst2Eq :: Eq a => [a] -> Bool\n",
    "fst2Eq (x : y : _) | x == y = True\n",
    "fst2Eq _ = False"
   ]
  },
  {
   "cell_type": "code",
   "execution_count": null,
   "metadata": {},
   "outputs": [],
   "source": [
    "prod' :: Num a => [a] -> a\n",
    "prod' = loop 1 where -- point-free\n",
    "loop acc [] = acc --accumulator\n",
    "loop acc (x:xs) = loop (x * acc) xs\n",
    "\n",
    "-- {-# OPTIONS_GHC -fwarn-incomplete-patterns #-}"
   ]
  }
 ],
 "metadata": {
  "kernelspec": {
   "display_name": "Haskell",
   "language": "haskell",
   "name": "haskell"
  },
  "language_info": {
   "codemirror_mode": "ihaskell",
   "file_extension": ".hs",
   "mimetype": "text/x-haskell",
   "name": "haskell",
   "pygments_lexer": "Haskell",
   "version": "8.6.5"
  }
 },
 "nbformat": 4,
 "nbformat_minor": 4
}
