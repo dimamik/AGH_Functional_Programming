{
 "cells": [
  {
   "cell_type": "markdown",
   "metadata": {},
   "source": [
    "# All Practical Theory on Function Programming"
   ]
  },
  {
   "cell_type": "markdown",
   "metadata": {},
   "source": [
    "# Lab 1"
   ]
  },
  {
   "cell_type": "code",
   "execution_count": null,
   "metadata": {},
   "outputs": [],
   "source": [
    "-- Wyrażenia warunkowe if/else\n",
    "sgn :: Int -> Int\n",
    "sgn n = if n < 0\n",
    "       then -1\n",
    "       else if n == 0\n",
    "            then 0\n",
    "            else 1\n",
    "            \n",
    "-- Wyrażenia warunkowe guards\n",
    "min3Int :: (Int, Int, Int) -> Int -- min (1,2,3)=1, min (1,1,3)=1\n",
    "min3Int (a,b,c) \n",
    "    | a<=b && a<=c = a\n",
    "    | b<=a && b<=c = b\n",
    "    | c<=a && c<=b = c\n",
    "min3Int (10,20,3)\n",
    "\n",
    "-- Wyrażenie case of\n",
    "absInt n =\n",
    " case (n >= 0) of\n",
    "   True -> n\n",
    "   _    -> -n"
   ]
  },
  {
   "cell_type": "code",
   "execution_count": null,
   "metadata": {},
   "outputs": [],
   "source": [
    "-- Definicja funkcji (Dopasowanie wzorców)\n",
    "xor' :: Bool -> Bool -> Bool\n",
    "xor' True False = True\n",
    "xor' False True = True\n",
    "xor' _ _ = False\n",
    "\n",
    "-- Definicje lokalne (where)\n",
    "roots' :: (Double, Double, Double) -> (Double, Double)\n",
    "roots' (a, b, c) = ( (-b - d) / e, (-b + d) / e )\n",
    "   where{d = sqrt (b * b - 4 * a * c);e = 2 * a}\n",
    "\n",
    "-- Definicje lokalne (let in)\n",
    "roots :: (Double, Double, Double) -> (Double, Double)\n",
    "roots (a, b, c) =\n",
    " let d = sqrt (b * b - 4 * a * c)  \n",
    "     e = 2 * a\n",
    " in ( (-b - d) / e, (-b + d) / e )\n",
    " \n",
    "--  Definicje let (Nie pozwala na użycie guards)\n",
    "let f2 x = 5\n",
    "f2 x = 4\n",
    "f2 5"
   ]
  },
  {
   "cell_type": "markdown",
   "metadata": {},
   "source": [
    "### Zadania Quizy Lab 1\n"
   ]
  },
  {
   "cell_type": "code",
   "execution_count": null,
   "metadata": {},
   "outputs": [],
   "source": [
    "-- :t - the type of given expression\n",
    "\n",
    "signum :: (Ord a,Num a) =>  a->a \n",
    "signum x\n",
    "    |x>0 = 1\n",
    "    |x==0 = 0\n",
    "    |x<0 = -1\n",
    "    \n",
    "signum (-6)\n",
    "\n",
    "absInt :: (Integer -> Integer)\n",
    "absInt x\n",
    "    | x>=0  = x \n",
    "    | x<0 = -x\n",
    "absInt (-4)\n",
    "\n",
    "-- Rewrite using if/then else\n",
    "--     f2 _ =1\n",
    "--     f2 1 = 3\n",
    "--     f2 2 = 10\n",
    "f2 x \n",
    "    | x==1 = 3\n",
    "    | x==2 = 10\n",
    "    | otherwise =  1\n",
    "f2 5\n",
    "\n",
    "-- Wynik interferencji typów \n",
    "f3 i = if 2>3 then True else False\n",
    "f4 (x,y) = x == y\n",
    "f5 (x,y) = if x/=0 then 1/x else 0\n",
    ":t f3\n",
    ":t f4\n",
    ":t f5\n",
    "-- f3 :: forall p. p -> Bool\n",
    "-- f4 :: forall a. Eq a => (a, a) -> Bool\n",
    "-- f5 :: forall p b. (Eq p, Fractional p) => (p, b) -> p"
   ]
  },
  {
   "cell_type": "markdown",
   "metadata": {},
   "source": [
    "# Lab 2"
   ]
  },
  {
   "cell_type": "code",
   "execution_count": null,
   "metadata": {
    "scrolled": true
   },
   "outputs": [],
   "source": [
    "-- curry :: forall a b c. ((a, b) -> c) -> a -> b -> c\n",
    "-- uncurry :: forall a b c. (a -> b -> c) -> (a, b) -> c\n",
    "add2N (a,b) = a+b\n",
    "curry add2N 1 2\n",
    "\n",
    "remove2N a b = a-b\n",
    "uncurry remove2N (4,5)\n",
    "\n",
    "(*) 2 3\n",
    "(2**) 6\n",
    "\n",
    "-- Leniwe obliczanie -> Wartości obliczane tylko przy potrzebie\n",
    "let f x y = if (x > 0) then 42 else x + y \n",
    ":t f \n",
    "f 1 (1/0) "
   ]
  },
  {
   "cell_type": "code",
   "execution_count": null,
   "metadata": {},
   "outputs": [],
   "source": [
    "-- Lists / Operacje na listach\n",
    "import Data.List\n",
    "let xs = 1 : 2 : 3 : 4 : 5 : [] --[1,2,3,4,5]\n",
    "let xs = [1..5] --[1,2,3,4,5]\n",
    "length xs -- 5\n",
    "reverse xs -- [5,4,3,2,1]\n",
    "head xs -- 1\n",
    "tail xs -- [2,3,4,5]\n",
    "last xs -- 5\n",
    "init xs -- [1,2,3,4]\n",
    "0 : xs-- [0,1,2,3,4,5]\n",
    "xs ++ [6] -- [1,2,3,4,5,6]\n",
    "xs !! 2 -- 3\n",
    "[1,2] ++ [3,4,5] -- [1,2,3,4,5]\n",
    "take 2 xs --[1,2]\n",
    "drop 2 xs -- [3,4,5]\n",
    "null xs -- False (Czy pusta)\n",
    "any (> 2) xs -- True\n",
    "all (> 0) xs -- True"
   ]
  },
  {
   "cell_type": "code",
   "execution_count": null,
   "metadata": {},
   "outputs": [],
   "source": [
    "import Data.List\n",
    "let xs = 1 : 2 : 3 : 4 : 5 : [] --[1,2,3,4,5]\n",
    "zip xs ['a','b'] -- [(1,'a'),(2,'b')]\n",
    "splitAt 2 xs -- ([1,2],[3,4,5])\n",
    "sort [2,3,1,4,5] -- [1,2,3,4,5]\n",
    "2 `elem` xs -- True\n",
    "minimum xs -- 1\n",
    "maximum xs -- 5\n",
    "sum xs -- 15\n",
    "product xs -- 120"
   ]
  },
  {
   "cell_type": "code",
   "execution_count": null,
   "metadata": {},
   "outputs": [],
   "source": [
    "-- List comprehensions (Wyrażenia dla generowania list)\n",
    "[(a,b,c) | a <- [1..10], b <- [a..10], c <- [b..10], a ^ 2 + b ^ 2 == c ^ 2] \n",
    "-- [(3,4,5),(6,8,10)]\n",
    "-- Dopasowanie wzorców\n",
    "fst2Eq :: Eq a => [a] -> Bool\n",
    "fst2Eq (x : y : _) | x == y = True\n",
    "fst2Eq _                    = False"
   ]
  },
  {
   "cell_type": "code",
   "execution_count": null,
   "metadata": {},
   "outputs": [],
   "source": [
    "-- Recursion / Rekursja\n",
    "-- Zwykła rekursja\n",
    "doubleAll :: Num t => [t] -> [t] -- doubleAll [1,2] = [2,4]\n",
    "doubleAll [] = []\n",
    "doubleAll (x:xs) = 2*x : doubleAll xs\n",
    "doubleAll [1,2]\n",
    "\n",
    "-- Rekursja z akumulatorem / Rekursja ogonowa\n",
    "prod'2 :: Num a => [a] -> a \n",
    "prod'2 xs = loop 1 xs\n",
    "        where \n",
    "            loop acc []     = acc \n",
    "            loop acc (x:xs) = loop (x * acc) xs\n",
    "prod'2 [1,2,3]\n",
    "\n",
    "-- Rekursja 4\n",
    "qSort :: Ord a => [a] -> [a] \n",
    "qSort []     = [] \n",
    "qSort (x:xs) = qSort (leftPart xs) ++ [x] ++ qSort (rightPart xs) \n",
    " where \n",
    "   leftPart  xs = [ y | y <- xs, y <= x ] \n",
    "   rightPart xs = [ y | y <- xs, y > x  ] \n",
    "qSort [1,2,3,4]"
   ]
  },
  {
   "cell_type": "code",
   "execution_count": null,
   "metadata": {
    "scrolled": true
   },
   "outputs": [],
   "source": [
    "doubleAll :: Num t => [t]->[t]\n",
    "doubleAll [] = []\n",
    "doubleAll (x:xs) = x*2 : doubleAll xs\n",
    "\n",
    "doubleAll [1,2,3]\n",
    "\n",
    "prod :: Num a => [a] -> a\n",
    "prod xs = helpFunction 1 xs\n",
    "    where \n",
    "        helpFunction acc [] = acc\n",
    "        helpFunction acc (x:xs) = helpFunction (acc*x) xs\n",
    "prod [1,2,3,4]"
   ]
  },
  {
   "cell_type": "markdown",
   "metadata": {},
   "source": [
    "### Zadania Quizy Lab 2"
   ]
  },
  {
   "cell_type": "code",
   "execution_count": null,
   "metadata": {
    "scrolled": true
   },
   "outputs": [],
   "source": [
    "l2 = [(j,i,[i,j]) | i<-[1..4],j<-[1..2],j>i]\n",
    "l2\n",
    ":t (-) 3 2\n",
    "l3 = [[1..i] | i<-[1] ++ [2,3]]\n",
    "l3\n",
    ":t zipWith \n",
    "\n",
    "\n",
    "-- SelectEven with Rekursja z Akumulatorem\n",
    "-- selectEven ::  (Integer a) => [a] -> [a]\n",
    "selectEven xs = reverse $ helpFunction [] xs\n",
    "    where \n",
    "        helpFunction acc [] = acc\n",
    "        helpFunction acc (x:xs) \n",
    "            | even x = helpFunction (x:acc)  xs \n",
    "            | otherwise = (helpFunction acc xs)\n",
    ":t selectEven\n",
    "selectEven [1,2,3,4]\n",
    "\n",
    "sumAbs :: Num a => [a] -> a\n",
    "sumAbs [] = 0\n",
    "sumAbs (x:xs) = abs x + (sumAbs xs)\n",
    "sumAbs [(-1),2,3]"
   ]
  },
  {
   "cell_type": "markdown",
   "metadata": {},
   "source": [
    "# Lab 3"
   ]
  },
  {
   "cell_type": "code",
   "execution_count": null,
   "metadata": {},
   "outputs": [],
   "source": [
    "-- Funkcje anonimowe \n",
    "let f3 x = \\y -> x + y  --f3 :: forall a. Num a => a -> a -> a\n",
    "f3 1 2 \n",
    "\n",
    "let f2 = \\x y -> sqrt (x^2 + y^2)\n",
    "f2 10 15\n",
    "\n",
    "-- Funkcje jako parametry\n",
    "sumWith :: Num a => (a -> a) -> [a] -> a \n",
    "sumWith f [] = 0\n",
    "sumWith f (x:xs) = f x + sumWith f xs\n",
    "sumWith (\\x -> x^2) [1,2]\n",
    "\n",
    "-- Funkcje jako elementy struktur danych\n",
    "funcList :: [ Double -> Double ]\n",
    "funcList = [ \\x -> (sin x)/x, \\x -> log x + sqrt x + 1, \\x -> (exp 1) ** x ]"
   ]
  },
  {
   "cell_type": "code",
   "execution_count": null,
   "metadata": {
    "scrolled": true
   },
   "outputs": [],
   "source": [
    "-- Operator (.)\n",
    "-- (.) :: forall b c a. (b -> c) -> (a -> b) -> a -> c\n",
    "((+1) . (*2) . (^3)) 5  \n",
    "\n",
    "-- Operator ($)\n",
    "-- ($) :: forall a b. (a -> b) -> a -> b\n",
    "f = \\x -> 3*x\n",
    "($) f 3"
   ]
  },
  {
   "cell_type": "code",
   "execution_count": null,
   "metadata": {
    "scrolled": false
   },
   "outputs": [],
   "source": [
    "-- filter -> Returns tab with elems passing the check\n",
    "filter' :: (a -> Bool) -> [a] -> [a]\n",
    "filter' _ [] = []\n",
    "filter' p (x:xs)\n",
    "    | p x = x : filter p xs\n",
    "    | otherwise = filter p xs\n",
    "onlyEven = filter' (\\x -> x `mod` 2 == 0)\n",
    "onlyEven [1,2,3,4]\n",
    "\n",
    "-- map -> applyes function to each element of the tab\n",
    "map' :: (a -> b) -> [a] -> [b]\n",
    "map' _ [] = []\n",
    "map' f (x:xs) = f x : map f xs\n",
    "\n",
    "doubleElems = map' (\\x -> 2*x) \n",
    "doubleElems [1,2,3,4,5]\n",
    "\n",
    "\n",
    "-- foldr -> \"Zbiera\" tabele, uzywajac wartosci poczatkowej b,\n",
    "-- funkcji przeksztalcajacej i listy !IDĄC OD KOŃCA!\n",
    "foldr' :: (a -> b -> b) -> b -> [a] -> b\n",
    "foldr' f z [] = z\n",
    "foldr' f z (x:xs) = f x (foldr f z xs)\n",
    "\n",
    "foldr (+) 5 [1,2,3,4] -- 15\n",
    "foldr (++) ['a'] [\"Hello\"] -- \"Helloa\"\n",
    "\n",
    "sumWith g xs = foldr ((+) . g) 0 xs --To same\n",
    "sumWith (\\x -> x+5) [1,2,3,4] \n",
    "\n",
    "-- foldl -> \"Zbiera\" tabele, uzywajac wartosci poczatkowej b,\n",
    "-- funkcji przeksztalcajacej i listy !IDĄC OD POCZĄTKU!\n",
    "foldl' :: (b -> a -> b) -> b -> [a] -> b\n",
    "foldl' f z [] = z\n",
    "foldl' f z (x:xs) = foldl f (f z x) xs\n",
    "\n",
    "foldl max 5 [1,2,3,4,5,6,7] -- 7\n",
    "foldl (++) ['a'] [\"Hello\"] --\"aHello\"\n",
    "\n",
    "\n",
    "\n",
    "prodWith''' g = foldl'  (\\acc x -> g x * acc) 1\n",
    "prodWith''' (\\x -> x+2) [1,2,3]\n",
    "\n",
    "-- foldr1 -> OD KOŃCA i BEZ WARTOŚCI POCZĄTKOWEJ\n",
    "foldr1 (+) [1,2,3,4] --10\n",
    "\n",
    "-- foldl1 -> OD POCZĄTKU I BEZ WARTOŚCI POCZĄTKOWEJ"
   ]
  },
  {
   "cell_type": "code",
   "execution_count": null,
   "metadata": {},
   "outputs": [],
   "source": [
    "-- zip -> Robi krotkę z par elementów list, \n",
    "-- znajdujących się na tych samych pozycjach\n",
    "-- zip :: forall a b. [a] -> [b] -> [(a, b)]\n",
    "zip [1,2,3] [9,8,7] -- [(1,9),(2,8),(3,7)]\n",
    "\n",
    "-- unzip -> reverse zip\n",
    "unzip [(1,2),(2,3),(3,4)] -- ([1,2,3],[2,3,4])\n",
    "\n",
    "-- zipWith -> makes a list, each element is calculated using \n",
    "-- a given function taking elements from the same positions\n",
    " zipWith (+) [1,2,3] [3,2,1]\n",
    " [4,4,4]"
   ]
  },
  {
   "cell_type": "code",
   "execution_count": null,
   "metadata": {},
   "outputs": [],
   "source": [
    "-- concat -> opuszcza wnętrzne jedne nawiasy kwadratowe (Łączy tablicy)\n",
    "concat' :: [[a]] -> [a] \n",
    "concat' []     = [] \n",
    "concat' (x:xs) = x ++ concat' xs\n",
    "concat [[1,2,3], [1,2,3]] -- [1,2,3,1,2,3]\n",
    "concat [[1,2], [3,4],[5,6]]\n",
    "\n",
    "--concatMap -> Dla każdego elementu z listy aplikuje \n",
    "-- funkcję tworzącą listy i łączy\n",
    "concatMap (\\x -> [(x,x+2,x/2)]) [1,3,5]\n",
    "--  [(1.0,3.0,0.5),(3.0,5.0,1.5),(5.0,7.0,2.5)]"
   ]
  },
  {
   "cell_type": "code",
   "execution_count": null,
   "metadata": {},
   "outputs": [],
   "source": [
    "-- Collection pipeline\n",
    "replicate 2 . product . map (*3) $ zipWith max [4,2] [1,5] \n",
    "sum . takeWhile (<1000) . filter odd . map (^2) $ [1..] "
   ]
  },
  {
   "cell_type": "markdown",
   "metadata": {},
   "source": [
    "## Zadania Quizy Lab 3"
   ]
  },
  {
   "cell_type": "code",
   "execution_count": null,
   "metadata": {
    "scrolled": true
   },
   "outputs": [],
   "source": [
    "-- 1. Napisz wrażenie lambda dodające do stringa `!`\n",
    "f = \\s -> s ++ \"!\"\n",
    "f \"Hello\"\n",
    "\n",
    "-- 2. Przepisać przy użyciu map/filter i dowolnego foldl\n",
    "sum [ x^3 | x<-[1..10], x `mod` 3 == 0 ]\n",
    "foldl (\\x y-> x+y^3) 0\n",
    "            $ filter (\\x -> x `mod` 3 == 0) [1..10]\n",
    "-- 3. Co zwrócą\n",
    "foldr1 (+) . map(*2) . filter (>99) $ [100,10,1000,500,90]\n",
    "\n",
    "-- Zad 4. \n",
    "--rekurencja\n",
    "prodWith f [] = 1                            \n",
    "prodWith f (x:xs) = (f x) * (prodWith f xs)\n",
    "prodWith (\\x->x^2) [1,2,3]\n",
    " --list comprehensions\n",
    "prodWith' f xs = product [f x | x<-xs]        \n",
    " --foldr1\n",
    "prodWith' (\\x->x^2) [1,2,3]                        \n",
    "prodWith'' f xs = foldr (\\x acc->  (f x) * ( acc)) 1 xs   \n",
    "prodWith'' (\\x->x^2) [1,2,3]\n",
    "\n",
    "-- Zad 5.\n",
    "foldr (++) ['a'] . map show . filter even $ [1..9]\n",
    "-- \"2468a\"\n",
    "\n",
    "-- Zad 6.\n",
    "foldl1 (||) . map even . map (\\f -> f 2) $ [ (4^), (+2), const 2, id]\n",
    "\n",
    "-- Zad 7.\n",
    "-- foldr1 (+) . map (sum . (\\x -> [x,1]) . ($1)) $ zipWith (.)\\\n",
    "-- [(2*),(3*),(1+),(2+)]\n",
    "\n",
    "-- Zad 8.\n",
    "foldr (+) 1 . map ((+1) . (*2)) . filter even $ [0..5]"
   ]
  },
  {
   "cell_type": "markdown",
   "metadata": {},
   "source": [
    "# Lab 4"
   ]
  },
  {
   "cell_type": "code",
   "execution_count": null,
   "metadata": {},
   "outputs": [],
   "source": [
    "-- type -> Should start with capital, only symbolicaly exchanges names\n",
    "type CartesianCoord' a = (a,a) \n",
    "type PolarCoord' a = (a,a) \n",
    "polarToCartesian' :: Floating a => PolarCoord' a -> CartesianCoord' a \n",
    "polarToCartesian' (r,phi) = (r * cos phi, r * sin phi) \n",
    "\n",
    "-- newtype -> Generates new real type, at runtime have exact values without boxes\n",
    "-- newtype TypeName 'parameters' = ConstructorName 'definition'\n",
    "newtype CartesianCoord'' a = MkCartesianCoord'' (a,a) \n",
    "newtype PolarCoord'' a = MkPolarCoord'' (a,a) \n",
    " \n",
    "polarToCartesian'' :: Floating a => PolarCoord'' a -> CartesianCoord'' a \n",
    "polarToCartesian'' (MkPolarCoord'' (r,phi)) = MkCartesianCoord'' (r * cos phi, r * sin phi)\n",
    "\n",
    ":t polarToCartesian'' "
   ]
  },
  {
   "cell_type": "code",
   "execution_count": null,
   "metadata": {},
   "outputs": [],
   "source": [
    "-- data -> Class in object-oriented \n",
    "data Cart2DVec' a = MkCart2DVec' a a \n",
    " \n",
    "xCoord' :: Cart2DVec' a -> a \n",
    "xCoord' (MkCart2DVec' x _) = x \n",
    " \n",
    "yCoord' :: Cart2DVec' a -> a \n",
    "yCoord' (MkCart2DVec' _ y) = y \n",
    "\n",
    "-- data record syntax\n",
    "data Cart3DVec a = MkCart3DVec {x::a, y::a, z::a}\n",
    "\n",
    "let sampleVector = MkCart3DVec {x = 1, y = 2, z = 3}\n",
    "x sampleVector\n",
    "y sampleVector\n",
    "z sampleVector\n",
    "\n",
    "data Shape = Circle Float | \n",
    "             Rectangle Float Float \n",
    "             \n",
    "area :: Shape -> Float \n",
    "area (Circle r) = pi * r^2\n",
    "area (Rectangle a b) = a*b\n",
    "\n",
    "area (Circle 5)\n",
    "area (Rectangle 1 2)"
   ]
  }
 ],
 "metadata": {
  "kernelspec": {
   "display_name": "Haskell",
   "language": "haskell",
   "name": "haskell"
  },
  "language_info": {
   "codemirror_mode": "ihaskell",
   "file_extension": ".hs",
   "mimetype": "text/x-haskell",
   "name": "haskell",
   "pygments_lexer": "Haskell",
   "version": "8.6.5"
  }
 },
 "nbformat": 4,
 "nbformat_minor": 4
}
