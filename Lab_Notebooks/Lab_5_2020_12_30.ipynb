{
 "cells": [
  {
   "cell_type": "markdown",
   "metadata": {},
   "source": [
    "# Laboratorium 5 "
   ]
  },
  {
   "cell_type": "code",
   "execution_count": null,
   "metadata": {
    "scrolled": true
   },
   "outputs": [],
   "source": [
    ":i IO \n",
    ":t getChar \n",
    "getChar \n",
    "let x = getChar \n",
    "x \n",
    "x "
   ]
  },
  {
   "cell_type": "code",
   "execution_count": null,
   "metadata": {
    "scrolled": true
   },
   "outputs": [],
   "source": [
    ":t putChar \n",
    "putChar a \n",
    ":t putChar 'a' \n",
    "putChar 'a' "
   ]
  },
  {
   "cell_type": "code",
   "execution_count": null,
   "metadata": {},
   "outputs": [],
   "source": [
    ":t getLine \n",
    "getLine \n",
    "\n",
    "let line = getLine \n",
    "line "
   ]
  },
  {
   "cell_type": "code",
   "execution_count": null,
   "metadata": {},
   "outputs": [],
   "source": [
    ":t putStr \n",
    "putStr \"Hello\" \n",
    ":t putStrLn \n",
    "putStrLn \"Hello\" "
   ]
  },
  {
   "cell_type": "code",
   "execution_count": null,
   "metadata": {},
   "outputs": [],
   "source": [
    ":t print \n",
    "print 1 \n",
    "-- print a Variable not in scope\n",
    "print (1,2) \n",
    "print [1..5] \n",
    "newtype IntBox = MkIntBox Int \n",
    "let ib1 = MkIntBox 1 \n",
    "-- print ib1 No instance of Show in IntBox\n",
    "newtype IntBox = MkIntBox Int deriving Show \n",
    "let ib1 = MkIntBox 1 \n",
    "print ib1 "
   ]
  },
  {
   "cell_type": "code",
   "execution_count": null,
   "metadata": {
    "scrolled": true
   },
   "outputs": [],
   "source": [
    ":t return 'a' \n",
    "return 'a' \n",
    ":t return 1 \n",
    "return 1 \n",
    ":t return \"Hello\" \n",
    "return \"Hello\" "
   ]
  },
  {
   "cell_type": "code",
   "execution_count": null,
   "metadata": {},
   "outputs": [],
   "source": [
    "let hello = return \"Hello\"\n",
    "hello \n",
    "-- show \"Hello\" \n",
    "-- show hello \n",
    ":t \"Hello\" \n",
    ":t hello "
   ]
  },
  {
   "cell_type": "markdown",
   "metadata": {},
   "source": [
    "## Łączenie (sekwencje) ‘akcji’ I/O — operatory >> (then) i >>= (bind),notacja do"
   ]
  },
  {
   "cell_type": "code",
   "execution_count": null,
   "metadata": {
    "scrolled": true
   },
   "outputs": [],
   "source": [
    ":t (>>) \n",
    "putChar 'a' >> putChar '\\n' \n",
    "actSeq = putChar 'A' >> putChar 'G' >> putChar 'H' >> putChar '\\n'\n",
    ":t actSeq \n",
    "actSeq "
   ]
  },
  {
   "cell_type": "code",
   "execution_count": null,
   "metadata": {},
   "outputs": [],
   "source": [
    "doActSeq = do \n",
    "  putChar 'A' \n",
    "  putChar 'G' \n",
    "  putChar 'H' \n",
    "  putChar '\\n' \n",
    "  \n",
    ":t putChar 'A' \n",
    ":t putChar '\\n' \n",
    ":t doActSeq \n",
    "doActSeq "
   ]
  },
  {
   "cell_type": "code",
   "execution_count": null,
   "metadata": {
    "scrolled": false
   },
   "outputs": [],
   "source": [
    ":t (>>=) \n",
    ":t getLine \n",
    ":t putStrLn \n",
    ":t getLine >>= putStrLn \n",
    "\n",
    "echo1 = getLine >>= putStrLn \n",
    " \n",
    "doEcho1 = do \n",
    "  line <- getLine \n",
    "  putStrLn line \n",
    "  \n",
    ":t echo1 \n",
    "-- echo1 In Terminal prints input to output\n",
    "\n",
    ":t doEcho1 \n",
    "-- doEcho1 In Terminal prints input to output, but do notation version"
   ]
  },
  {
   "cell_type": "code",
   "execution_count": null,
   "metadata": {},
   "outputs": [],
   "source": [
    "echo2 = getLine >>= \\line -> putStrLn $ line ++ \"!\" \n",
    " \n",
    "doEcho2 = do \n",
    "  line <- getLine \n",
    "  putStrLn $ line ++ \"!\" \n",
    "  \n",
    ":t echo2 \n",
    ":t doEcho2 "
   ]
  },
  {
   "cell_type": "code",
   "execution_count": null,
   "metadata": {},
   "outputs": [],
   "source": [
    "echo3 :: IO () \n",
    "echo3 =  getLine >>= \\l1 -> getLine >>= \\l2 -> putStrLn $ l1 ++ l2 \n",
    " \n",
    "dialog :: IO () \n",
    "dialog = putStr \"What is your happy number? \" \n",
    "         >> getLine \n",
    "         >>= \\n -> let num = read n :: Int in \n",
    "                   if num == 7 \n",
    "                   then putStrLn \"Ah, lucky 7!\" \n",
    "                   else if odd num \n",
    "                        then putStrLn \"Odd number! That's most people's choice...\" \n",
    "                        else putStrLn \"Hm, even number? Unusual!\" \n",
    "                        \n"
   ]
  },
  {
   "cell_type": "markdown",
   "metadata": {},
   "source": [
    "## Zadania\n"
   ]
  },
  {
   "cell_type": "code",
   "execution_count": null,
   "metadata": {},
   "outputs": [],
   "source": [
    "-- Zad 1\n",
    "\n",
    "doEcho3 = do\n",
    "  l1 <- getLine \n",
    "  l2 <- getLine \n",
    "  putStrLn $ l1 ++ l2\n",
    "\n",
    "doDialog = do\n",
    "  putStr \"What is your happy number? \" \n",
    "  line <- getLine \n",
    "  let number = read line :: Int\n",
    "    in \n",
    "      if number == 7 \n",
    "                   then putStrLn \"Ah, lucky 7!\" \n",
    "                   else if odd number \n",
    "                        then putStrLn \"Odd number! That's most people's choice...\" \n",
    "                        else putStrLn \"Hm, even number? Unusual!\" "
   ]
  },
  {
   "cell_type": "code",
   "execution_count": null,
   "metadata": {},
   "outputs": [],
   "source": [
    "-- Zad 2\n",
    "twoQuestions :: IO () \n",
    "twoQuestions = do \n",
    "  putStr \"What is your name? \" \n",
    "  name <- getLine \n",
    "  putStr \"How old are you? \" \n",
    "  age <- getLine \n",
    "  print (name,age) \n",
    "  \n",
    "twoQuestions' = \n",
    "  putStr \"What is your name? \">> \n",
    "  getLine >>= \n",
    "      \\name -> \n",
    "        putStrLn  \"How old are you? \" >>\n",
    "        getLine >>= \\age -> \n",
    "          print (name,age)"
   ]
  },
  {
   "cell_type": "markdown",
   "metadata": {},
   "source": [
    "## Funktory 1: operatory fmap , (<\\\\$>) i (<\\\\$)"
   ]
  },
  {
   "cell_type": "markdown",
   "metadata": {},
   "source": [
    "What fmap really does is:\n",
    "    given any types a and b, lets you apply any function of type (a -> b) to turn an f a into an f b, preserving the structure of f.\n",
    "fmap :: forall (f :: * -> *) a b. Functor f => (a -> b) -> f a -> f b"
   ]
  },
  {
   "cell_type": "code",
   "execution_count": null,
   "metadata": {
    "scrolled": true
   },
   "outputs": [],
   "source": [
    "-- :i Functor \n",
    ":t fmap (+1) \n",
    ":i Either \n",
    "fmap (+2) (Left 3) \n",
    "fmap (+2) (Right 3)\n",
    ":i [] \n",
    "fmap (*2) [1..5] \n",
    "fmap (*2) [] "
   ]
  },
  {
   "cell_type": "code",
   "execution_count": null,
   "metadata": {},
   "outputs": [],
   "source": [
    ":i Maybe \n",
    "fmap (+1) (Just 3) \n",
    "fmap (+1) Nothing "
   ]
  },
  {
   "cell_type": "code",
   "execution_count": null,
   "metadata": {
    "scrolled": true
   },
   "outputs": [],
   "source": [
    "\n",
    ":t fmap (+1) (*10) \n",
    "fmap (+1) (*10) 1 \n",
    "fmap (+1) (0,0) \n",
    "-- fmap (+1) (0,0,0) "
   ]
  },
  {
   "cell_type": "code",
   "execution_count": null,
   "metadata": {
    "scrolled": true
   },
   "outputs": [],
   "source": [
    ":t ($) \n",
    ":i ($) \n",
    "(+2) $ 3 \n",
    ":t (<$>) \n",
    ":i (<$>) \n",
    "-- (+2) $ (Left 3)  WRONG Because fmap needs to be applied\n",
    "(+2) <$> (Right 3) \n",
    "(*2) <$> [1..5] \n",
    "(+1) <$> (Just 3) \n",
    "-- toUpper <$> getChar \n",
    "-- (map toUpper) <$> getLine \n",
    "(+1) <$> (*10) $ 1 \n",
    "(+1) <$> (0,0) \n",
    "(\\(x,y,z) -> x+1) <$> Just (0,0,0) "
   ]
  },
  {
   "cell_type": "code",
   "execution_count": null,
   "metadata": {},
   "outputs": [],
   "source": [
    "-- (<$) just applying to all nin-left by ovverriding old value\n",
    ":i Functor \n",
    ":t (<$) \n",
    "-- (<$) :: forall (f :: * -> *) a b. Functor f => a -> f b -> f a\n",
    "1 <$ Left 2 \n",
    "1 <$ Right 2 \n",
    "'a' <$ [1..5] \n",
    "'a' <$ [] \n",
    "'a' <$ Just 1 \n",
    "'a' <$ Nothing \n",
    "-- 42 <$ getLine \n",
    "1 <$ (*10) $ 5 \n",
    ":t  1 <$ (*10) \n",
    "1 <$ (0,0) \n",
    "-- 1 <$ (0,0,0) "
   ]
  },
  {
   "cell_type": "markdown",
   "metadata": {},
   "source": [
    "## Funktory 2: dołączanie typów użytkownika do klasy Functor"
   ]
  },
  {
   "cell_type": "code",
   "execution_count": null,
   "metadata": {},
   "outputs": [],
   "source": [
    "newtype Box a = MkBox a deriving Show \n",
    " \n",
    "instance Functor Box where \n",
    "  fmap f (MkBox x) = MkBox (f x)\n",
    "\n",
    "\n",
    ":i Box \n",
    ":i MkBox \n",
    "fmap (^2) (MkBox 3) \n",
    "1 <$ MkBox 3 "
   ]
  },
  {
   "cell_type": "code",
   "execution_count": null,
   "metadata": {},
   "outputs": [],
   "source": [
    "newtype Box a = MkBox a deriving (Show, Functor) \n",
    ":i Box \n",
    ":i MkBox \n",
    "fmap (^2) (MkBox 3) \n",
    "1 <$ MkBox 3 \n",
    "\n",
    "<interactive>:1:41: error:\n",
    "    • Can't make a derived instance of ‘Functor Box’: You need DeriveFunctor to derive an instance for this class\n",
    "    • In the newtype declaration for ‘Box’"
   ]
  },
  {
   "cell_type": "code",
   "execution_count": null,
   "metadata": {},
   "outputs": [],
   "source": [
    "data MyList a = EmptyList \n",
    "              | Cons a (MyList a) deriving Show \n",
    " \n",
    "instance Functor MyList where \n",
    "  fmap _ EmptyList    = EmptyList \n",
    "  fmap f (Cons x mxs) = Cons (f x) (fmap f mxs) \n",
    "\n",
    "\n",
    "fmap (*2) EmptyList \n",
    "let lst1 = Cons 1 (Cons 2 (Cons 3 (Cons 4 EmptyList))) \n",
    "fmap id lst1 \n",
    "fmap (const 1) lst1 \n",
    "fmap (*2) lst1 \n",
    "fmap odd lst1 "
   ]
  },
  {
   "cell_type": "markdown",
   "metadata": {},
   "source": [
    "## Zadania"
   ]
  },
  {
   "cell_type": "code",
   "execution_count": null,
   "metadata": {
    "scrolled": true
   },
   "outputs": [],
   "source": [
    "-- Zad 1\n",
    "data MyList a = EmptyList \n",
    "              | Cons a (MyList a) deriving Show Functor\n",
    "--  Parse error (line 2, column 49): parse error on input ‘Functor’"
   ]
  },
  {
   "cell_type": "code",
   "execution_count": null,
   "metadata": {},
   "outputs": [],
   "source": [
    "-- Zad 2\n",
    "data BinTree a = EmptyBT | NodeBT a (BinTree a) (BinTree a) deriving (Show)\n",
    "\n",
    "instance Functor BinTree where\n",
    "    fmap _ EmptyBT = EmptyBT\n",
    "    fmap f (NodeBT a bl br) = NodeBT (f a) (fmap f bl) (fmap f br)\n",
    "\n",
    "fmap (*2) EmptyBT\n",
    "let leftTree = NodeBT 3 (EmptyBT) (EmptyBT)\n",
    "let rightTree = NodeBT 4 (EmptyBT) (EmptyBT)\n",
    "fmap (*2) (NodeBT 2 (leftTree) (rightTree))"
   ]
  },
  {
   "cell_type": "markdown",
   "metadata": {},
   "source": [
    "## Funktory aplikatywne 1: operatory pure , (<\\*>) , (\\*>) i (<\\*)"
   ]
  },
  {
   "cell_type": "code",
   "execution_count": null,
   "metadata": {
    "scrolled": true
   },
   "outputs": [],
   "source": [
    ":i Applicative \n",
    "fmap (+1) (Just 1) \n",
    "(+1) <$> (Just 1) \n",
    "-- (+) <$> (Just 1) (Just 2) -- analizujemy opis błędu \n",
    ":t (+) <$> (Just 1) -- w czym tkwi problem? \n",
    ":t (+) <$> (Just 1) <*> (Just 2) \n",
    "pure (+) <*> (Just 1) <*> (Just 2) \n",
    ":t pure (+) <*> (Just 1) \n",
    "(\\x y z -> x + y + z) <$> Just 1 <*> Just 2 <*> Just 3 \n",
    "pure (\\x y z -> x + y + z) <*> Just 1 <*> Just 2 <*> Just 3 \n",
    ":t (Just 1) <*> (Just 2) "
   ]
  },
  {
   "cell_type": "code",
   "execution_count": null,
   "metadata": {
    "scrolled": true
   },
   "outputs": [],
   "source": [
    ":i Applicative \n",
    ":t pure \n",
    "pure 1 :: Either Int Int \n",
    "pure 1 :: Either a Int \n",
    "pure 1 :: Either a Double \n",
    "pure 1 :: [Int] \n",
    "pure 1 :: [Double] \n",
    "pure 1 :: Maybe Int \n",
    "pure 1 :: IO Int \n",
    "pure 1 :: (->) r Int \n",
    "pure 1 :: ((,) a Int) \n",
    "pure 1 :: Monoid a => ((,) a Int) "
   ]
  },
  {
   "cell_type": "code",
   "execution_count": null,
   "metadata": {
    "scrolled": true
   },
   "outputs": [],
   "source": [
    ":t (<*>) \n",
    ":i Either \n",
    "pure (+1) <*> Left 0 \n",
    "pure (+1) <*> Right 0 \n",
    "Left (+1) <*> Left 0 \n",
    "Left (+1) <*> Right 0 \n",
    "Right (+1) <*> Right 0 \n",
    ":t pure (+1) <*> Left 0 \n",
    ":t pure (+1) <*> Right 0 \n",
    ":t Left (+1) <*> Left 0 \n",
    ":t Left (+1) <*> Right 0 \n",
    ":t Right (+1) <*> Right 0 "
   ]
  },
  {
   "cell_type": "code",
   "execution_count": null,
   "metadata": {},
   "outputs": [],
   "source": [
    ":i [] \n",
    "pure (*2) <*> [1..5] \n",
    ":t pure (*2) \n",
    ":t pure (*2) :: [Int->Int]\n",
    "[(+1), (*2)] <*> [1,2,3] \n",
    "(*) <$> [1,2,3] <*> [100,101,102] "
   ]
  },
  {
   "cell_type": "code",
   "execution_count": null,
   "metadata": {},
   "outputs": [],
   "source": [
    "import Control.Applicative\n",
    ":i ZipList \n",
    "pure (+) <*> ZipList [1,2,3] <*> ZipList [100,100,100] \n",
    "(+) <$> ZipList [1,2,3] <*> ZipList [100,100..] "
   ]
  },
  {
   "cell_type": "code",
   "execution_count": null,
   "metadata": {
    "scrolled": true
   },
   "outputs": [],
   "source": [
    "let timesList = fmap (*) [1..5] \n",
    ":t timesList \n",
    "fmap (\\f -> f 3) timesList\n",
    "(\\f -> f 3) <$> timesList \n",
    "($ 3) <$> timesList \n",
    "(:) <*> (\\x -> [x]) $ 2 "
   ]
  },
  {
   "cell_type": "code",
   "execution_count": null,
   "metadata": {
    "scrolled": true
   },
   "outputs": [],
   "source": [
    "(++) <$> Just \"Abra\" <*> Just \"kadabra\" \n",
    "(++) <$> Just \"Abra\" <*> Nothing \n",
    "(++) <$> Nothing <*> Just \"Abra\" \n",
    "pure (\\x y z -> (x,y,z)) <*> Just 1 <*> Just 2 <*> Just 3 \n",
    "(\\x y z -> (x,y,z)) <$> Just 1 <*> Just 2 <*> Just 3 "
   ]
  },
  {
   "cell_type": "code",
   "execution_count": null,
   "metadata": {
    "scrolled": true
   },
   "outputs": [],
   "source": [
    "(++) <$> getLine <*> getLine \n",
    "(++) <$> (fmap reverse getLine) <*> getLine "
   ]
  },
  {
   "cell_type": "code",
   "execution_count": null,
   "metadata": {
    "scrolled": true
   },
   "outputs": [],
   "source": [
    ":t getLine \n",
    ":t fmap reverse getLine \n",
    "(+) <$> (fmap read) getLine <*> (fmap read) getLine "
   ]
  },
  {
   "cell_type": "code",
   "execution_count": null,
   "metadata": {},
   "outputs": [],
   "source": [
    "(+) <$> (+1) <*> (*100) $ 5 \n",
    "(+) <$> (^2) <*> (^3) $ 3 "
   ]
  },
  {
   "cell_type": "code",
   "execution_count": null,
   "metadata": {
    "scrolled": true
   },
   "outputs": [],
   "source": [
    "Left 1 *> Left 2 \n",
    "Right 1 *> Right 2 \n",
    "[1..2] *> [11..15] "
   ]
  },
  {
   "cell_type": "code",
   "execution_count": null,
   "metadata": {
    "scrolled": true
   },
   "outputs": [],
   "source": [
    "Just 1 *> Just 2 \n",
    "Nothing *> Just 2 \n",
    "getLine *> getLine \n",
    "(+1) *> (*100) $ 5 "
   ]
  },
  {
   "cell_type": "code",
   "execution_count": null,
   "metadata": {
    "scrolled": true
   },
   "outputs": [],
   "source": [
    "Left 1 <* Left 2 \n",
    "Right 1 <* Right 2 \n",
    "[1..2] <* [11..15] \n",
    "Just 1 <* Just 2 \n",
    "Just 1 <* Just 2 \n",
    "Just 2 <* Nothing \n",
    "getLine <* getLine \n",
    "(+1) <* (*100) $ 5 "
   ]
  },
  {
   "cell_type": "code",
   "execution_count": null,
   "metadata": {},
   "outputs": [],
   "source": [
    "newtype Box a = MkBox a deriving Show \n",
    " \n",
    "instance Applicative Box where \n",
    "  pure = MkBox \n",
    "  (MkBox f) <*> w = fmap f w \n",
    "instance Functor Box where \n",
    " fmap f (MkBox x) = MkBox (f x)\n",
    "\n",
    "\n",
    "pure (*2) <*> MkBox 3 \n",
    "(*2) <$> MkBox 3 \n",
    "(+) <$> MkBox 1 <*> MkBox 2 \n",
    "(++) <$> MkBox \"abc\" <*> MkBox \"def\" \n",
    "(\\x y z -> (z,y,x)) <$> MkBox (Just 1) <*> MkBox (Just 2) <*> MkBox (Just 3)"
   ]
  },
  {
   "cell_type": "markdown",
   "metadata": {},
   "source": [
    "## Zadania"
   ]
  },
  {
   "cell_type": "code",
   "execution_count": null,
   "metadata": {},
   "outputs": [],
   "source": [
    "newtype MyTriple a = MyTriple (a,a,a) deriving Show \n",
    "\n",
    "instance Functor MyTriple where\n",
    "    fmap f (MyTriple (a,b,c)) = MyTriple (f a,f b,f c)\n",
    "instance Applicative MyTriple where\n",
    "    pure a = MyTriple (a,a,a)\n",
    "    MyTriple (f, g, h) <*> MyTriple (x, y, z) = MyTriple (f x, g y, h z)"
   ]
  }
 ],
 "metadata": {
  "kernelspec": {
   "display_name": "Haskell",
   "language": "haskell",
   "name": "haskell"
  },
  "language_info": {
   "codemirror_mode": "ihaskell",
   "file_extension": ".hs",
   "mimetype": "text/x-haskell",
   "name": "haskell",
   "pygments_lexer": "Haskell",
   "version": "8.6.5"
  }
 },
 "nbformat": 4,
 "nbformat_minor": 4
}
