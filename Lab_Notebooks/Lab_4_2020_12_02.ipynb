{
 "cells": [
  {
   "cell_type": "markdown",
   "metadata": {},
   "source": [
    "# Laboratorium 4 02.12.2020\n"
   ]
  },
  {
   "cell_type": "markdown",
   "metadata": {},
   "source": [
    "## Typy Haskel, type vs newtype\n"
   ]
  },
  {
   "cell_type": "code",
   "execution_count": null,
   "metadata": {},
   "outputs": [],
   "source": [
    "-- Type declaration should start with Capital\n",
    "type T1 = Int \n",
    "type T2 = (T1,Double) \n",
    "type T4 a = (a,a,a) \n",
    "type T5 a = [a] \n",
    "type T6 a b = [([a],[b])] \n",
    "type T7 a b = a -> b \n",
    "type T8 a b = a -> (a -> b) -> Int"
   ]
  },
  {
   "cell_type": "code",
   "execution_count": null,
   "metadata": {
    "scrolled": true
   },
   "outputs": [],
   "source": [
    "polarToCartesian :: Floating a => (a,a) -> (a,a) \n",
    "polarToCartesian (r,phi) = (r * cos phi, r * sin phi) \n",
    "\n",
    "\n",
    ":t polarToCartesian\n",
    "-- polarToCartesian :: forall a. Floating a => (a, a) -> (a, a)\n",
    "\n",
    "let (x1,y1) = polarToCartesian (1,pi/4) \n",
    "let (x2,y2) = polarToCartesian (x2,y2)\n",
    "polarToCartesian . polarToCartesian $ (1,pi/4)"
   ]
  },
  {
   "cell_type": "code",
   "execution_count": null,
   "metadata": {},
   "outputs": [],
   "source": [
    "type CartesianCoord' a = (a,a) \n",
    "type PolarCoord' a = (a,a) \n",
    "polarToCartesian' :: Floating a => PolarCoord' a -> CartesianCoord' a \n",
    "polarToCartesian' (r,phi) = (r * cos phi, r * sin phi) \n",
    "\n",
    ":t polarToCartesian' \n",
    "let (x1,y1) = polarToCartesian' (1,pi/4) \n",
    "let (x2,y2) = polarToCartesian' (x1,y1) -- !!! \n",
    "polarToCartesian' . polarToCartesian' $ (1,pi/4) -- !!! "
   ]
  },
  {
   "cell_type": "code",
   "execution_count": null,
   "metadata": {},
   "outputs": [],
   "source": [
    "-- newtype TypeName 'parameters' = ConstructorName 'definition'\n",
    "newtype CartesianCoord'' a = MkCartesianCoord'' (a,a) \n",
    "newtype PolarCoord'' a = MkPolarCoord'' (a,a) \n",
    " \n",
    "polarToCartesian'' :: Floating a => PolarCoord'' a -> CartesianCoord'' a \n",
    "polarToCartesian'' (MkPolarCoord'' (r,phi)) = MkCartesianCoord'' (r * cos phi, r * sin phi)\n",
    "\n",
    ":t polarToCartesian'' "
   ]
  },
  {
   "cell_type": "markdown",
   "metadata": {},
   "source": [
    "## Zadania"
   ]
  },
  {
   "cell_type": "code",
   "execution_count": null,
   "metadata": {},
   "outputs": [],
   "source": [
    "-- Zad 1\n",
    "polarToCartesian (1,2)\n",
    ":t polarToCartesian'' (MkPolarCoord''(1,pi))\n",
    "\n",
    "-- Main advantage is the possibility \n",
    "-- to print the value (I guess we can somehow define print() method ,\n",
    "-- but I'm not sure how)"
   ]
  },
  {
   "cell_type": "code",
   "execution_count": null,
   "metadata": {},
   "outputs": [],
   "source": [
    "-- Zad 2"
   ]
  },
  {
   "cell_type": "code",
   "execution_count": null,
   "metadata": {},
   "outputs": [],
   "source": [
    "-- Zad 3\n",
    "personInfoToString :: (String,String,String) -> String \n",
    "personInfoToString (nm,snm,addr) = \n",
    " \"name: \" ++ nm ++ \", surname: \" ++ snm ++ \", addr: \" ++ addr \n",
    " \n",
    "personInfoToString (\"Dima\",\"Surname\",\"Belarus\")\n",
    "personInfoToString (\"Michail\", \"Berlioz\", \"ul. Sadowa 302a, m.50\") \n",
    "personInfoToString (\"ul. Sadowa 302a, m.50\", \"Stiopa\", \"Lichodiejew\") "
   ]
  },
  {
   "cell_type": "code",
   "execution_count": null,
   "metadata": {},
   "outputs": [],
   "source": [
    "-- Zad 4"
   ]
  },
  {
   "cell_type": "code",
   "execution_count": null,
   "metadata": {},
   "outputs": [],
   "source": [
    "-- Zad 5"
   ]
  },
  {
   "cell_type": "markdown",
   "metadata": {},
   "source": [
    "## Algebraiczne typy danych 1 : product & sum types, record syntax"
   ]
  },
  {
   "cell_type": "code",
   "execution_count": null,
   "metadata": {},
   "outputs": [],
   "source": [
    "-- product type example (one constructor) \n",
    "data CartInt2DVec = MkCartInt2DVec Int Int -- konwencja: prefix 'Mk' dla konstruktorow\n",
    " \n",
    "xCoord :: CartInt2DVec -> Int \n",
    "xCoord (MkCartInt2DVec x _) = x \n",
    " \n",
    "yCoord :: CartInt2DVec -> Int \n",
    "yCoord (MkCartInt2DVec _ y) = y "
   ]
  },
  {
   "cell_type": "code",
   "execution_count": null,
   "metadata": {},
   "outputs": [],
   "source": [
    ":t MkCartInt2DVec -- analizujemy typ konstruktora "
   ]
  },
  {
   "cell_type": "code",
   "execution_count": null,
   "metadata": {
    "scrolled": false
   },
   "outputs": [],
   "source": [
    ":i CartInt2DVec \n",
    "-- :t CartInt2DVec  BŁĄD!!\n",
    ":t MkCartInt2DVec -- analizujemy typ konstruktora \n",
    "-- MkCartInt2DVec :: Int -> Int -> CartInt2DVec\n",
    "-- let p12 = CartInt2DVec 1 2 BŁĄD Bo to nie jest konstruktor\n",
    "let p12 = MkCartInt2DVec 1 2 \n",
    ":t xCoord -- analizujemy typ xCoord \n",
    "xCoord p12 \n",
    ":t yCoord -- analizujemy typ yCoord \n",
    "yCoord p12 \n",
    "xCoord $ MkCartInt2DVec 5 10 "
   ]
  },
  {
   "cell_type": "code",
   "execution_count": null,
   "metadata": {},
   "outputs": [],
   "source": [
    "type X = Int \n",
    "type Y = Int \n",
    "-- Wprowadzenie aliasów nic by nie zmieniło"
   ]
  },
  {
   "cell_type": "code",
   "execution_count": null,
   "metadata": {
    "scrolled": false
   },
   "outputs": [],
   "source": [
    "data Cart2DVec' a = MkCart2DVec' a a \n",
    " \n",
    "xCoord' :: Cart2DVec' a -> a \n",
    "xCoord' (MkCart2DVec' x _) = x \n",
    " \n",
    "yCoord' :: Cart2DVec' a -> a \n",
    "yCoord' (MkCart2DVec' _ y) = y \n",
    ":i Cart2DVec' \n",
    ":t MkCart2DVec' \n",
    ":t MkCart2DVec' 1 2 \n",
    ":t MkCart2DVec' 1.0 2.0 \n",
    ":t MkCart2DVec' 1.0 2 \n",
    ":t xCoord' $ MkCart2DVec' 5 10 \n",
    "yCoord' $ MkCart2DVec' 5.0 10.0 "
   ]
  },
  {
   "cell_type": "code",
   "execution_count": null,
   "metadata": {},
   "outputs": [],
   "source": [
    "data Cart2DVec'' a = MkCart2DVec'' {x::a, y::a} \n",
    " \n",
    "xCoord'' :: Cart2DVec'' a -> a \n",
    "xCoord'' (MkCart2DVec'' {x = xVal, y = _}) = xVal \n",
    " \n",
    "yCoord'' :: Cart2DVec'' a -> a \n",
    "yCoord'' (MkCart2DVec'' {y = yVal, x = _}) = yVal -- uwaga na kolejność x,y "
   ]
  },
  {
   "cell_type": "code",
   "execution_count": null,
   "metadata": {},
   "outputs": [],
   "source": [
    ":i Cart2DVec'' \n",
    ":t MkCart2DVec'' \n",
    ":t xCoord'' \n",
    ":t yCoord'' \n",
    ":t x -- dlaczego ta funkcja istnieje (skoro jej nie deklarowaliśmy/definiowali\n",
    ":t y -- jw.? \n",
    "let p23 = MkCart2DVec'' {x = 2, y = 3} \n",
    "xCoord'' p23 \n",
    "x p23 \n",
    "yCoord'' p23 \n",
    "y p23 "
   ]
  },
  {
   "cell_type": "code",
   "execution_count": null,
   "metadata": {},
   "outputs": [],
   "source": [
    "-- Types of giving arguments to constructor\n",
    "xCoord'' $ MkCart2DVec'' {x=1, y=2} \n",
    "xCoord'' $ MkCart2DVec'' 1 2 \n",
    "yCoord'' $ MkCart2DVec'' {x=1, y=2} \n",
    "yCoord'' $ MkCart2DVec'' 1 2 "
   ]
  },
  {
   "cell_type": "code",
   "execution_count": null,
   "metadata": {},
   "outputs": [],
   "source": [
    "data Cart2DVec'' a = MkCart2DVec'' {x::a, y::a} \n",
    ":i Cart2DVec'' \n",
    ":t MkCart2DVec'' \n",
    ":t x \n",
    ":t y \n",
    "let p23 = MkCart2DVec'' {x = 2, y = 3} \n",
    "x p23 \n",
    "y p23 "
   ]
  },
  {
   "cell_type": "code",
   "execution_count": null,
   "metadata": {},
   "outputs": [],
   "source": [
    "-- sum type example (two constructors) \n",
    "-- deriving show to be able to see\n",
    "data List a = EmptyL | Cons a (List a) deriving Show \n",
    " \n",
    "head' :: List a -> a \n",
    "head' EmptyL      = error \"head': the empty list has no head!\" \n",
    "head' (Cons x xs) = x \n",
    "\n",
    "Cons 1 EmptyL -- show in action :) \n",
    "-- head' EmptyL -- Error that we declared above\n",
    "-- head' Cons 1 \n",
    "head' (Cons 1 EmptyL) \n",
    "head' $ Cons 1 EmptyL \n",
    "\n",
    "head' $ Cons 1 $ Cons 2 EmptyL "
   ]
  },
  {
   "cell_type": "code",
   "execution_count": null,
   "metadata": {},
   "outputs": [],
   "source": [
    "-- enum type example (special case of sum type) \n",
    "data ThreeColors = Blue | \n",
    "                   White | \n",
    "                   Red \n",
    " \n",
    "type ActorName = String \n",
    " \n",
    "leadingActor :: ThreeColors -> ActorName \n",
    "leadingActor Blue  = \"Juliette Binoche\" \n",
    "leadingActor White = \"Zbigniew Zamachowski\" \n",
    "leadingActor Red   = \"Irene Jacob\" \n"
   ]
  },
  {
   "cell_type": "markdown",
   "metadata": {},
   "source": [
    "## Zadania"
   ]
  },
  {
   "cell_type": "code",
   "execution_count": null,
   "metadata": {},
   "outputs": [],
   "source": [
    "-- Zad 1\n",
    "{- \n",
    "uwaga: ta sama nazwa* dla: \n",
    " - konstruktora typu (po lewej) \n",
    " - konstruktora danych/wartości (po prawej) \n",
    " \n",
    " * druga (obok omówionej poprzednio -- z prefiksem 'Mk') powszechna konwencja\n",
    "-} \n",
    "data Cart3DVec a = MkCart3DVec a a a \n",
    "let vectorExample = (MkCart3DVec 1 2 3)\n",
    "\n",
    "xCoord3D :: Cart3DVec a -> a\n",
    "xCoord3D (MkCart3DVec a b c) = a\n",
    "\n",
    "yCoord3D :: Cart3DVec a -> a\n",
    "yCoord3D (MkCart3DVec a b c) = b\n",
    "\n",
    "zCoord3D :: Cart3DVec a -> a\n",
    "zCoord3D (MkCart3DVec a b c) = c\n",
    "\n",
    "xCoord3D vectorExample\n",
    "yCoord3D vectorExample\n",
    "zCoord3D vectorExample"
   ]
  },
  {
   "cell_type": "code",
   "execution_count": null,
   "metadata": {},
   "outputs": [],
   "source": [
    "-- Zad 2 (Za pomocą rekord syntax)\n",
    "data Cart3DVec a = MkCart3DVec {x::a, y::a, z::a}\n",
    "\n",
    "let sampleVector = MkCart3DVec {x = 1, y = 2, z = 3}\n",
    "\n",
    "x sampleVector\n",
    "y sampleVector\n",
    "z sampleVector"
   ]
  },
  {
   "cell_type": "code",
   "execution_count": null,
   "metadata": {},
   "outputs": [],
   "source": [
    "-- Zad 6\n",
    "data Shape = Circle Float | \n",
    "             Rectangle Float Float \n",
    "             \n",
    "area :: Shape -> Float \n",
    "area (Circle r) = pi * r^2\n",
    "area (Rectangle a b) = a*b\n",
    "\n",
    "area (Circle 5)\n",
    "area (Rectangle 1 2)"
   ]
  },
  {
   "cell_type": "code",
   "execution_count": null,
   "metadata": {},
   "outputs": [],
   "source": [
    "-- -- interesting but can't handle passing Tree as a parametr (recursency ?)\n",
    "-- data Tree a = EmptyT | \n",
    "--               Node a (Tree a) (Tree a) \n",
    "--               deriving Show \n",
    "-- rootValue :: Tree a -> a \n",
    "-- rootValue EmptyT = error \"Tree is empty\"\n",
    "-- rootValue (Node a) (b k) (c d) = a\n"
   ]
  },
  {
   "cell_type": "code",
   "execution_count": null,
   "metadata": {},
   "outputs": [],
   "source": [
    "-- Zad 8\n",
    "data TrafficLights = Red | Yellow | Green\n",
    "actionFor :: TrafficLights -> String \n",
    "actionFor Red = \"Stop\"\n",
    "actionFor Yellow = \"Get Ready\"\n",
    "actionFor Green = \"Move\"\n"
   ]
  },
  {
   "cell_type": "markdown",
   "metadata": {},
   "source": [
    "## Algebraiczne typy danych 2: rekursja strukturalna"
   ]
  },
  {
   "cell_type": "code",
   "execution_count": null,
   "metadata": {
    "scrolled": true
   },
   "outputs": [],
   "source": [
    "data BinIntTree = EmptyIntBT | \n",
    "                  IntNodeBT Int BinIntTree BinIntTree \n",
    " \n",
    "sumBinIntTree :: BinIntTree -> Int \n",
    "sumBinIntTree EmptyIntBT = 0 \n",
    "sumBinIntTree (IntNodeBT n lt rt) = n + sumBinIntTree lt + sumBinIntTree rt\n",
    "\n",
    "\n",
    "sumBinIntTree EmptyIntBT \n",
    "sumBinIntTree $ IntNodeBT 1 EmptyIntBT EmptyIntBT \n",
    "sumBinIntTree $ IntNodeBT 1 (IntNodeBT 2 EmptyIntBT EmptyIntBT) \n",
    "                                        (IntNodeBT 3 EmptyIntBT EmptyIntBT)"
   ]
  },
  {
   "cell_type": "code",
   "execution_count": null,
   "metadata": {},
   "outputs": [],
   "source": [
    "data BinTree a = EmptyBT | \n",
    "                 NodeBT a (BinTree a) (BinTree a) \n",
    "                    \n",
    " \n",
    "sumBinTree :: (Num a) => BinTree a -> a \n",
    "sumBinTree EmptyBT = 0 \n",
    "sumBinTree (NodeBT n lt rt) = n + sumBinTree lt + sumBinTree rt \n",
    "\n",
    "sumBinTree EmptyBT \n",
    "sumBinTree $ NodeBT 1 EmptyBT EmptyBT \n",
    "sumBinTree (NodeBT 1 (NodeBT 2 EmptyBT EmptyBT) (NodeBT 3 EmptyBT EmptyBT)) "
   ]
  },
  {
   "cell_type": "code",
   "execution_count": null,
   "metadata": {},
   "outputs": [],
   "source": [
    "data Expr a = Lit a | -- literal/value a, e.g. Lit 2 = 2 \n",
    "              Add (Expr a) (Expr a) \n",
    " \n",
    "eval :: Num a => Expr a -> a \n",
    "eval (Lit n) = n \n",
    "eval (Add e1 e2) = eval e1 + eval e2 \n",
    " \n",
    "show' :: Show a => Expr a -> String \n",
    "show' (Lit n) = show n \n",
    "show' (Add e1 e2) = \"(\" ++ show' e1 ++ \"+\" ++ show' e2 ++ \")\" \n",
    "\n",
    "show' (Lit 2) \n",
    "show' (Add (Lit 1) (Lit 2)) \n",
    "eval (Lit 1) \n",
    "eval (Add (Lit 1) (Lit 2))"
   ]
  },
  {
   "cell_type": "markdown",
   "metadata": {},
   "source": [
    "## Zadania"
   ]
  },
  {
   "cell_type": "markdown",
   "metadata": {},
   "source": [
    "### Zad 1\n"
   ]
  },
  {
   "cell_type": "code",
   "execution_count": null,
   "metadata": {
    "scrolled": false
   },
   "outputs": [],
   "source": [
    "depthOfBT :: BinTree a -> Int -- głębokość drzewa binarnego \n",
    "depthOfBT EmptyBT = 0\n",
    "depthOfBT(NodeBT n lt rt) = 1 + max (depthOfBT lt)  (depthOfBT rt)\n",
    "\n",
    "depthOfBT EmptyBT \n",
    "depthOfBT $ NodeBT 1 EmptyBT EmptyBT \n",
    "depthOfBT (NodeBT 1 (NodeBT 2 EmptyBT EmptyBT) (NodeBT 3 EmptyBT EmptyBT)) \n",
    "\n"
   ]
  },
  {
   "cell_type": "code",
   "execution_count": null,
   "metadata": {},
   "outputs": [],
   "source": [
    "-- Pre-Order\n",
    "flattenBTPreOrder :: BinTree a -> [a]  \n",
    "flattenBTPreOrder EmptyBT = []\n",
    "flattenBTPreOrder (NodeBT n lt rt) = [n] \n",
    "    ++ flattenBTPreOrder lt ++ flattenBTPreOrder rt\n",
    "\n",
    "-- Post-Order\n",
    "flattenPostOrder :: BinTree a -> [a]  \n",
    "flattenPostOrder EmptyBT = []\n",
    "flattenPostOrder (NodeBT n lt rt) = \n",
    "     flattenPostOrder lt ++ flattenPostOrder rt ++ [n] \n",
    "\n",
    "-- In-order\n",
    "flattenInOrder :: BinTree a -> [a]  \n",
    "flattenInOrder EmptyBT = []\n",
    "flattenInOrder (NodeBT n lt rt) = \n",
    "     flattenInOrder lt ++ flattenInOrder rt ++ [n] "
   ]
  },
  {
   "cell_type": "code",
   "execution_count": null,
   "metadata": {},
   "outputs": [],
   "source": [
    "data BinTree a = EmptyBT | \n",
    "                 NodeBT a (BinTree a) (BinTree a) \n",
    "      \n",
    "mapBT :: (a -> b) -> BinTree a -> BinTree b \n",
    "-- funkcja map dla drzewa binarnego\n",
    "mapBT _ EmptyBT = EmptyBT\n",
    "mapBT f (NodeBT n lt rt) = NodeBT (f n) (mapBT f lt ) (mapBT f rt)\n",
    "\n",
    "flattenPostOrder $  mapBT  (\\x -> x^2) EmptyBT \n",
    "flattenInOrder mapBT (\\x -> x^2) $ NodeBT 1 EmptyBT EmptyBT \n",
    "flattenInOrder mapBT (\\x -> x^2) (NodeBT 1 (NodeBT 2 EmptyBT EmptyBT) (NodeBT 3 EmptyBT EmptyBT)) "
   ]
  },
  {
   "cell_type": "code",
   "execution_count": null,
   "metadata": {},
   "outputs": [],
   "source": [
    "data BinTree a = EmptyBT | \n",
    "                 NodeBT a (BinTree a) (BinTree a) \n",
    "                \n",
    "insert :: Ord a => a -> BinTree a -> BinTree a \n",
    "-- insert element into BinTree\n",
    "insert a EmptyBT = NodeBT a EmptyBT EmptyBT\n",
    "insert a (NodeBT n lt rt) = if (a > n) then NodeBT n (insert a lt ) rt\n",
    "                                        else NodeBT n lt (insert a rt)\n",
    "                                        \n",
    "                                        \n",
    "flattenInOrder $ insert 1 EmptyBT \n",
    "flattenInOrder $  insert 2 $ NodeBT 1 EmptyBT EmptyBT \n",
    "flattenInOrder $  insert 3 (NodeBT 1 (NodeBT 2 EmptyBT EmptyBT) (NodeBT 3 EmptyBT EmptyBT))"
   ]
  },
  {
   "cell_type": "code",
   "execution_count": null,
   "metadata": {
    "scrolled": true
   },
   "outputs": [],
   "source": [
    "list2BST :: Ord a => [a] -> BinTree a\n",
    "list2BST l = foldr insert EmptyBT l"
   ]
  },
  {
   "cell_type": "markdown",
   "metadata": {},
   "source": [
    "### Zad 6"
   ]
  },
  {
   "cell_type": "code",
   "execution_count": null,
   "metadata": {
    "scrolled": true
   },
   "outputs": [],
   "source": [
    "data Expr a = Lit a |\n",
    "              Add (Expr a) (Expr a) |\n",
    "              Subtract (Expr a) (Expr a) |\n",
    "              Multiply (Expr a) (Expr a)\n",
    "\n",
    "eval :: Num a => Expr a -> a \n",
    "eval (Lit n) = n \n",
    "eval (Add e1 e2) = eval e1 + eval e2\n",
    "eval (Subtract e1 e2) = eval e1 - eval e2\n",
    "eval (Multiply e1 e2) = eval e1 * eval e2\n",
    "\n",
    " \n",
    "show' :: Show a => Expr a -> String \n",
    "show' (Lit n) = show n \n",
    "show' (Add e1 e2) = \"(\" ++ show' e1 ++ \"+\" ++ show' e2 ++ \")\"\n",
    "show' (Subtract e1 e2) = \"(\" ++ show' e1 ++ \"-\" ++ show' e2 ++ \")\"\n",
    "show' (Multiply e1 e2) = \"(\" ++ show' e1 ++ \"*\" ++ show' e2 ++ \")\" \n",
    "\n",
    "show' (Lit 2) \n",
    "show' (Add (Lit 1) (Lit 2)) \n",
    "eval (Lit 1) \n",
    "eval (Multiply (Lit 1) (Lit 2))"
   ]
  },
  {
   "cell_type": "markdown",
   "metadata": {},
   "source": [
    "## Klasy typów i ich instancje 1: dołączanie typu do istniejącej klasy"
   ]
  },
  {
   "cell_type": "code",
   "execution_count": null,
   "metadata": {
    "scrolled": true
   },
   "outputs": [],
   "source": [
    "data MyInt = MkMyInt Int \n",
    "instance Eq MyInt where \n",
    "  (==) (MkMyInt i1) (MkMyInt i2) = i1 == i2 \n",
    "  \n",
    "MkMyInt 1 == MkMyInt 1 \n",
    "MkMyInt 1 == MkMyInt 2 \n",
    "MkMyInt 1 /= MkMyInt 2 -- dlaczego nie pojawia się błąd? \n",
    "-- Bo automatycznie jest zgenerowany /=\n",
    "\n"
   ]
  },
  {
   "cell_type": "code",
   "execution_count": null,
   "metadata": {},
   "outputs": [],
   "source": [
    "instance Ord MyInt where \n",
    "  (<=) (MkMyInt i1) (MkMyInt i2) = i1 <= i2 \n",
    "  \n",
    "MkMyInt 1 <= MkMyInt 2 \n",
    "MkMyInt 1 < MkMyInt 2 -- dlaczego nie pojawia się błąd? \n",
    "MkMyInt 1 > MkMyInt 2 -- jw.? \n",
    "MkMyInt 1 >= MkMyInt 2 -- jw.? \n",
    "MkMyInt 1 >= MkMyInt 1 -- jw.? \n",
    "\n"
   ]
  },
  {
   "cell_type": "code",
   "execution_count": null,
   "metadata": {
    "scrolled": true
   },
   "outputs": [],
   "source": [
    "instance Num MyInt where \n",
    "  (+) (MkMyInt i1) (MkMyInt i2) = MkMyInt (i1 + i2) \n",
    "  (-) (MkMyInt i1) (MkMyInt i2) = MkMyInt (i1 - i2) \n",
    "  (*) (MkMyInt i1) (MkMyInt i2) = MkMyInt (i1 * i2) \n",
    "  negate (MkMyInt i)            = MkMyInt (negate i) \n",
    "  abs (MkMyInt i)               = MkMyInt (abs i) \n",
    "  signum (MkMyInt i)            = MkMyInt (signum i) \n",
    "  fromInteger int               = MkMyInt (fromIntegral int) \n",
    "    \n",
    "\n",
    "instance Show MyInt where \n",
    "  show (MkMyInt i) = \"MkMyInt \" ++ show i \n",
    "\n",
    "MkMyInt 1 + MkMyInt 2 \n",
    "MkMyInt 5 \n",
    "(MkMyInt 2) * (MkMyInt 3 + MkMyInt 4) \n",
    "\n",
    "-- MkMyInt 1 `div` MkMyInt 2 BłĄD\n",
    "(MkMyInt 5) ^ 2 "
   ]
  },
  {
   "cell_type": "markdown",
   "metadata": {},
   "source": [
    "## Zadania"
   ]
  },
  {
   "cell_type": "code",
   "execution_count": null,
   "metadata": {
    "scrolled": true
   },
   "outputs": [],
   "source": [
    "-- Zad 1\n",
    "newtype MyInt = MkMyInt Int \n",
    "-- Dziala tak samo\n",
    "instance Num MyInt where \n",
    "  (+) (MkMyInt i1) (MkMyInt i2) = MkMyInt (i1 + i2) \n",
    "  (-) (MkMyInt i1) (MkMyInt i2) = MkMyInt (i1 - i2) \n",
    "  (*) (MkMyInt i1) (MkMyInt i2) = MkMyInt (i1 * i2) \n",
    "  negate (MkMyInt i)            = MkMyInt (negate i) \n",
    "  abs (MkMyInt i)               = MkMyInt (abs i) \n",
    "  signum (MkMyInt i)            = MkMyInt (signum i) \n",
    "  fromInteger int               = MkMyInt (fromIntegral int) \n",
    "instance Show MyInt where \n",
    "    show (MkMyInt i) = \"MkMyInt \" ++ show i \n",
    "\n",
    "MkMyInt 1 + MkMyInt 2 \n",
    "MkMyInt 5 \n",
    "(MkMyInt 2) * (MkMyInt 3 + MkMyInt 4) \n",
    "\n",
    "-- MkMyInt 1 `div` MkMyInt 2 BłĄD\n",
    "(MkMyInt 5) ^ 2   \n"
   ]
  },
  {
   "cell_type": "code",
   "execution_count": null,
   "metadata": {},
   "outputs": [],
   "source": [
    "-- Zad 2 !!!! Dołączyc BinTree do Eq\n",
    "data BinTree a = EmptyBT | \n",
    "                 NodeBT a (BinTree a) (BinTree a) \n",
    "             \n",
    "instance Eq a => Eq (BinTree a) where\n",
    "    (==) (NodeBT a lt rt) (NodeBT b lt1 rt1) = a==b && lt==lt1 && rt== rt1\n",
    "    (==) EmptyBT EmptyBT = True\n",
    "    (==) EmptyBT _ = False\n",
    "    (==) _ EmptyBT = False\n",
    "\n",
    "let bt1 =  EmptyBT \n",
    "let bt2 =  NodeBT 1 EmptyBT EmptyBT \n",
    "let bt3 = (NodeBT 1 (NodeBT 2 EmptyBT EmptyBT) (NodeBT 3 EmptyBT EmptyBT)) \n",
    "\n",
    "bt1 == bt2\n",
    "bt2 == bt3\n",
    "bt1 == bt3\n",
    "bt1 == EmptyBT\n",
    "bt2 == NodeBT 1 EmptyBT EmptyBT \n",
    "bt3 == (NodeBT 1 (NodeBT 2 EmptyBT EmptyBT) (NodeBT 3 EmptyBT EmptyBT)) "
   ]
  },
  {
   "cell_type": "markdown",
   "metadata": {},
   "source": [
    "## Moduły i importy"
   ]
  },
  {
   "cell_type": "code",
   "execution_count": null,
   "metadata": {},
   "outputs": [],
   "source": [
    "module Stack (Stack(MkStack), empty, isEmpty, push, top, pop) where \n",
    " \n",
    "empty :: Stack a \n",
    "isEmpty :: Stack a -> Bool \n",
    "push :: a -> Stack a -> Stack a \n",
    "top :: Stack a -> a \n",
    "pop :: Stack a -> (a,Stack a) \n",
    " \n",
    "newtype Stack a = MkStack [a] deriving Show \n",
    " \n",
    "empty = MkStack [] \n",
    "isEmpty (MkStack s) = null s \n",
    "push x (MkStack s) = MkStack (x:s) \n",
    "top (MkStack s) = head s \n",
    "pop (MkStack (s:ss)) = (s,MkStack ss) \n",
    "\n",
    "\n",
    ":l ex7.hs \n",
    ":module -Stack \n",
    "import Stack \n",
    ":i Stack.[naciskamy TAB] \n",
    ":t pop \n",
    "\n",
    ":module -Stack \n",
    "import Stack () \n",
    ":i Stack.[naciskamy TAB] \n",
    ":t pop \n",
    "\n",
    "\n",
    ":module -Stack \n",
    "import Stack (push, pop) \n",
    ":i Stack.[naciskamy TAB] \n",
    ":t pop \n",
    "\n",
    ":module -Stack \n",
    "import qualified Stack \n",
    ":i Stack.[naciskamy TAB] \n",
    ":t pop \n",
    ":t Stack.pop \n"
   ]
  },
  {
   "cell_type": "markdown",
   "metadata": {},
   "source": [
    "## Zadania"
   ]
  },
  {
   "cell_type": "code",
   "execution_count": null,
   "metadata": {},
   "outputs": [],
   "source": [
    "-- Zad 1\n",
    ":module -Stack \n",
    "import qualified Stack (push, pop) \n",
    ":module -Stack \n",
    "import Stack hiding (push, pop) \n",
    ":module -Stack \n",
    "import qualified Stack hiding (push, pop) \n",
    ":module -Stack \n",
    "import Stack as S \n",
    ":module -Stack \n",
    "import Stack as S (push, pop) \n",
    ":module -Stack \n",
    "import qualified Stack as S \n",
    ":module -Stack \n",
    "import qualified Stack as S (push, pop) "
   ]
  },
  {
   "cell_type": "code",
   "execution_count": null,
   "metadata": {},
   "outputs": [],
   "source": [
    "-- Zad 2\n",
    "module Stack (Stack, empty, isEmpty, push, top, pop) where\n",
    "-- interface (signature, contract)\n",
    "empty :: Stack a\n",
    "isEmpty :: Stack a -> Bool\n",
    "push :: a -> Stack a -> Stack a\n",
    "top :: Stack a -> a\n",
    "pop :: Stack a -> (a,Stack a)\n",
    "\n",
    "-- implementation\n",
    "newtype Stack a = StackImpl [a] -- hidden constructor\n",
    "empty = StackImpl []\n",
    "isEmpty (StackImpl s) = null s\n",
    "push x (StackImpl s) = StackImpl (x:s)\n",
    "top (StackImpl s) = head s\n",
    "pop (StackImpl (s:ss)) = (s,StackImpl ss)"
   ]
  },
  {
   "cell_type": "code",
   "execution_count": null,
   "metadata": {},
   "outputs": [],
   "source": [
    "-- Zad 3\n",
    "module Stack (Stack, push, pop) where \n",
    "    push :: a -> Stack a -> Stack a\n",
    "    top :: Stack a -> a\n",
    "    pop :: Stack a -> (a,Stack a)\n",
    "\n",
    "\n",
    ":l ex7.hs \n",
    ":module -Stack \n",
    "import Stack \n",
    ":i Stack \n",
    ":t MkStack "
   ]
  }
 ],
 "metadata": {
  "kernelspec": {
   "display_name": "Haskell",
   "language": "haskell",
   "name": "haskell"
  },
  "language_info": {
   "codemirror_mode": "ihaskell",
   "file_extension": ".hs",
   "mimetype": "text/x-haskell",
   "name": "haskell",
   "pygments_lexer": "Haskell",
   "version": "8.6.5"
  }
 },
 "nbformat": 4,
 "nbformat_minor": 4
}
