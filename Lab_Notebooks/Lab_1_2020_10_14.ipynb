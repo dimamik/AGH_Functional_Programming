{
 "cells": [
  {
   "cell_type": "markdown",
   "metadata": {},
   "source": [
    "# Laboratorium 1 14.10.2020\n"
   ]
  },
  {
   "cell_type": "markdown",
   "metadata": {},
   "source": [
    "### Typy danych Haskel"
   ]
  },
  {
   "cell_type": "code",
   "execution_count": null,
   "metadata": {
    "scrolled": true
   },
   "outputs": [],
   "source": [
    "2 + 2\n",
    "5 `div` 2\n",
    "div 5 2\n",
    "exp 2 ^ 123\n",
    "3 > 2 && 2 > 1"
   ]
  },
  {
   "cell_type": "code",
   "execution_count": null,
   "metadata": {
    "scrolled": true
   },
   "outputs": [],
   "source": [
    "let stala = (\"Helo\", 123)\n",
    "let x = 123\n",
    "x + 10"
   ]
  },
  {
   "cell_type": "markdown",
   "metadata": {},
   "source": [
    "### Proste funkcji jednej zmiennej"
   ]
  },
  {
   "cell_type": "code",
   "execution_count": null,
   "metadata": {
    "scrolled": true
   },
   "outputs": [],
   "source": [
    "sqr :: Double -> Double\n",
    "sqr x = x*x\n",
    "sqr 5\n"
   ]
  },
  {
   "cell_type": "code",
   "execution_count": null,
   "metadata": {},
   "outputs": [],
   "source": [
    "cube :: Double -> Double\n",
    "cube x = x*x*x\n",
    "cube 3 + cube 4 - 5"
   ]
  },
  {
   "cell_type": "code",
   "execution_count": null,
   "metadata": {},
   "outputs": [],
   "source": [
    "convert :: (Double, Double) -> Double\n",
    "convert (x,y) = sqrt(x^2 + y^2)\n",
    "convert (2,4)"
   ]
  },
  {
   "cell_type": "markdown",
   "metadata": {},
   "source": [
    "### Zadania"
   ]
  },
  {
   "cell_type": "code",
   "execution_count": null,
   "metadata": {},
   "outputs": [],
   "source": [
    "-- Zad 1\n",
    "vec3DLen :: (Double, Double, Double) -> Double\n",
    "vec3DLen (x,y,z) = sqrt(x^2 + y^2 + z^2)\n",
    "vec3DLen(1,2,3)"
   ]
  },
  {
   "cell_type": "code",
   "execution_count": null,
   "metadata": {},
   "outputs": [],
   "source": [
    "-- Zad 2\n",
    "swap :: (Int, Char) -> (Char, Int)\n",
    "swap (a,b) = (b,a)\n",
    "swap(123,'a')"
   ]
  },
  {
   "cell_type": "code",
   "execution_count": null,
   "metadata": {},
   "outputs": [],
   "source": [
    "-- Zad 3\n",
    "threeEqual :: (Int, Int, Int) -> Bool\n",
    "threeEqual (x, y, z) = x == y && y == z\n",
    "threeEqual (2,2,2)"
   ]
  },
  {
   "cell_type": "code",
   "execution_count": null,
   "metadata": {},
   "outputs": [],
   "source": [
    "-- Zad 4 Pole Trojkata ze wzoru Herona  \n",
    "heron :: (Double, Double, Double) -> Double\n",
    "heron (a,b,c) = sqrt( (0.5*(a+b+c)) * ((0.5*(a+b+c))-a) * ((0.5*(a+b+c))-b) * ((0.5*(a+b+c))-c) )\n",
    "heron (3,3,3)"
   ]
  },
  {
   "cell_type": "markdown",
   "metadata": {},
   "source": [
    "### Wyrażenia warunkowe"
   ]
  },
  {
   "cell_type": "code",
   "execution_count": null,
   "metadata": {},
   "outputs": [],
   "source": [
    "-- Forma jest taka: if..then..else\n",
    "sgn :: Int -> Int\n",
    "sgn n = if n < 0\n",
    "       then -1\n",
    "       else if n == 0\n",
    "            then 0\n",
    "            else 1"
   ]
  },
  {
   "cell_type": "markdown",
   "metadata": {},
   "source": [
    "### Zadania"
   ]
  },
  {
   "cell_type": "code",
   "execution_count": null,
   "metadata": {},
   "outputs": [],
   "source": [
    "-- Zad 1\n",
    "absInt :: Int -> Int \n",
    "absInt x =\n",
    "    if x >= 0 then  x\n",
    "    else x * (-1)\n",
    "absInt (-15)"
   ]
  },
  {
   "cell_type": "code",
   "execution_count": null,
   "metadata": {},
   "outputs": [],
   "source": [
    "-- Zad 2 (Tu i dalej uzywam wygodniejszych \"guards\" z Wykladu z automatu)\n",
    "min2Int :: (Int, Int) -> Int -- min (1,2) = 1, min (-1, -1) = -1\n",
    "min2Int (a,b)\n",
    "    | a >= b = b\n",
    "    | otherwise = a\n",
    "min2Int (1,2)"
   ]
  },
  {
   "cell_type": "code",
   "execution_count": null,
   "metadata": {},
   "outputs": [],
   "source": [
    "-- Zad 3 \n",
    "min3Int :: (Int,Int,Int) -> Int\n",
    "min3Int (a,b,c)\n",
    "    | a<=b && a<=c = a\n",
    "    | b<=a && b<=c = b\n",
    "    | c<=a && c<=b = c\n",
    "min3Int (1,2,3)"
   ]
  },
  {
   "cell_type": "code",
   "execution_count": null,
   "metadata": {},
   "outputs": [],
   "source": [
    "-- Zad 4 Funkcja min3Int za pomocą min2Int\n",
    "min2Int :: (Int, Int) -> Int -- min (1,2) = 1, min (-1, -1) = -1\n",
    "min2Int (a,b)\n",
    "    | a >= b = b\n",
    "    | otherwise = a\n",
    "\n",
    "min3Int :: (Int,Int,Int) -> Int\n",
    "min3Int (a,b,c)\n",
    "    | min2Int (a,b) == a && min2Int (a,c) == a = a\n",
    "    | min2Int (c,b) == c && min2Int (a,c) == c = c\n",
    "    | min2Int (a,b) == b && min2Int (b,c) == b = b\n",
    "min3Int (1,2,3)\n",
    "    "
   ]
  },
  {
   "cell_type": "code",
   "execution_count": null,
   "metadata": {},
   "outputs": [],
   "source": [
    "-- Zad 5\n",
    "\n",
    "-- To get info about commands\n",
    ":info toEnum\n",
    "\n",
    "\n",
    "toUpper :: Char -> Char\n",
    "toUpper x = (toEnum ((fromEnum x) - 32) :: Char)\n",
    "toUpper 'a'"
   ]
  },
  {
   "cell_type": "code",
   "execution_count": null,
   "metadata": {},
   "outputs": [],
   "source": [
    "-- Zad 5-b\n",
    "\n",
    "toLower  :: Char -> Char\n",
    "toLower  x = (toEnum ((fromEnum x) + 32) :: Char)\n",
    "toLower  'A'"
   ]
  },
  {
   "cell_type": "code",
   "execution_count": null,
   "metadata": {},
   "outputs": [],
   "source": [
    "-- Zad 6\n",
    "charToNum :: Char -> Int\n",
    "charToNum x\n",
    "    | x=='1' = 1\n",
    "    | x=='2' = 2\n",
    "    | x=='3' = 3\n",
    "    | x=='4' = 4\n",
    "    | x=='5' = 5\n",
    "    | x=='6' = 6\n",
    "    | x=='7' = 7\n",
    "    | x=='8' = 8\n",
    "    | x=='9' = 9\n",
    "charToNum '4'"
   ]
  },
  {
   "cell_type": "markdown",
   "metadata": {},
   "source": [
    "### Definicje Funkcji: guards"
   ]
  },
  {
   "cell_type": "code",
   "execution_count": null,
   "metadata": {},
   "outputs": [],
   "source": [
    "-- Przyklad 1\n",
    "absInt :: Int -> Int\n",
    "absInt n | n >= 0    = n\n",
    "         | otherwise = -n\n",
    "absInt (-1)"
   ]
  },
  {
   "cell_type": "code",
   "execution_count": null,
   "metadata": {},
   "outputs": [],
   "source": [
    "-- Przyklad 2\n",
    "absInt :: Int -> Int\n",
    "absInt n | n >= 0    = n\n",
    "         | otherwise = -n"
   ]
  },
  {
   "cell_type": "markdown",
   "metadata": {},
   "source": [
    "### Zadania"
   ]
  },
  {
   "cell_type": "code",
   "execution_count": null,
   "metadata": {},
   "outputs": [],
   "source": [
    "min3Int :: (Int, Int, Int) -> Int -- min (1,2,3)=1, min (1,1,3)=1\n",
    "min3Int (a,b,c) \n",
    "    | a<=b && a<=c = a\n",
    "    | b<=a && b<=c = b\n",
    "    | c<=a && c<=b = c\n",
    "min3Int (10,20,3)"
   ]
  },
  {
   "cell_type": "code",
   "execution_count": null,
   "metadata": {},
   "outputs": [],
   "source": [
    "-- Zad 2 Juz zrobione wyzej"
   ]
  },
  {
   "cell_type": "markdown",
   "metadata": {},
   "source": [
    "### Definicje funkcji: dopasowanie wzorców\n"
   ]
  },
  {
   "cell_type": "code",
   "execution_count": null,
   "metadata": {},
   "outputs": [],
   "source": [
    "-- Przyklad 1\n",
    "not' :: Bool -> Bool\n",
    "not' True = False\n",
    "not' False = True"
   ]
  },
  {
   "cell_type": "code",
   "execution_count": null,
   "metadata": {},
   "outputs": [],
   "source": [
    "isItTheAnswer :: String -> Bool\n",
    "isItTheAnswer _      = False\n",
    "isItTheAnswer \"Love\" = True -- :)"
   ]
  },
  {
   "cell_type": "code",
   "execution_count": null,
   "metadata": {},
   "outputs": [],
   "source": [
    "isItTheAnswer :: String -> Bool\n",
    "isItTheAnswer \"Love\" = True -- :)\n",
    "isItTheAnswer _      = False"
   ]
  },
  {
   "cell_type": "markdown",
   "metadata": {},
   "source": [
    "### Zadania"
   ]
  },
  {
   "cell_type": "code",
   "execution_count": null,
   "metadata": {},
   "outputs": [],
   "source": [
    "-- Zad 1-a\n",
    "or' :: (Bool, Bool) -> Bool\n",
    "or' (a,b) =  a || b\n",
    "or' (True,False)\n"
   ]
  },
  {
   "cell_type": "code",
   "execution_count": null,
   "metadata": {},
   "outputs": [],
   "source": [
    "-- Zad 1-b\n",
    "and' :: (Bool, Bool) -> Bool\n",
    "and' (a,b) =  a && b\n",
    "and' (True,False)"
   ]
  },
  {
   "cell_type": "code",
   "execution_count": null,
   "metadata": {},
   "outputs": [],
   "source": [
    "-- Zad 1-c\n",
    "nand' :: (Bool, Bool) -> Bool\n",
    "nand' (a,b) = not (a && b)\n",
    "nand' (True,False)"
   ]
  },
  {
   "cell_type": "code",
   "execution_count": null,
   "metadata": {},
   "outputs": [],
   "source": [
    "-- Zad 1-d\n",
    "xor' :: (Bool, Bool) -> Bool\n",
    "xor' (a,b) = not ((a && b) || (not a && not b))\n",
    "xor' (True,False)"
   ]
  },
  {
   "cell_type": "markdown",
   "metadata": {},
   "source": [
    "##### Każdą z powyższych funkcji można zaimplementować w różny sposób. Czy istnieją ich optymalne implementacje (w sensie wydajności)?\n",
    "Tak, podaje ponizej"
   ]
  },
  {
   "cell_type": "code",
   "execution_count": null,
   "metadata": {},
   "outputs": [],
   "source": [
    "-- Implementacja Standartowa\n",
    "xor :: Bool -> Bool -> Bool\n",
    "xor x y | x == True && y == False = True\n",
    "        | x == False && y == True = True\n",
    "        | otherwise = False"
   ]
  },
  {
   "cell_type": "code",
   "execution_count": null,
   "metadata": {},
   "outputs": [],
   "source": [
    "-- Nie jest dużo wartosci, wiec da sie je predefiniiowac\n",
    "xor' :: Bool -> Bool -> Bool\n",
    "xor' True False = True\n",
    "xor' False True = True\n",
    "xor' _ _ = False"
   ]
  },
  {
   "cell_type": "code",
   "execution_count": null,
   "metadata": {},
   "outputs": [],
   "source": [
    "-- Skrocenie powyzszej wersji\n",
    "xor'' :: Bool -> Bool -> Bool\n",
    "xor'' True x = not x\n",
    "xor'' False x = x"
   ]
  },
  {
   "cell_type": "markdown",
   "metadata": {},
   "source": [
    "### Definicje funkcji: wyrażenie case..of"
   ]
  },
  {
   "cell_type": "code",
   "execution_count": null,
   "metadata": {},
   "outputs": [],
   "source": [
    "-- Przyklad 1\n",
    "not' :: Bool -> Bool\n",
    "not' b = case b of\n",
    "          True  -> False\n",
    "          False -> True"
   ]
  },
  {
   "cell_type": "code",
   "execution_count": null,
   "metadata": {},
   "outputs": [],
   "source": [
    "-- Przyklad 2\n",
    "absInt n =\n",
    " case (n >= 0) of\n",
    "   True -> n\n",
    "   _    -> -n"
   ]
  },
  {
   "cell_type": "markdown",
   "metadata": {},
   "source": [
    "### Zadania"
   ]
  },
  {
   "cell_type": "code",
   "execution_count": null,
   "metadata": {},
   "outputs": [],
   "source": [
    "-- Zad 1\n",
    "isItTheAnswer :: String -> Bool\n",
    "isItTheAnswer x = \n",
    "    case (x == \"answer\") of\n",
    "        True -> True\n",
    "        False -> False\n",
    "isTheAnswer (\"answer\")\n"
   ]
  },
  {
   "cell_type": "code",
   "execution_count": null,
   "metadata": {},
   "outputs": [],
   "source": [
    "-- Zad 2\n",
    "not' :: Bool -> Bool\n",
    "not' (x) = \n",
    "    case (x) of\n",
    "        True -> False\n",
    "        False -> True\n",
    "not' (True)"
   ]
  },
  {
   "cell_type": "code",
   "execution_count": null,
   "metadata": {},
   "outputs": [],
   "source": [
    "-- Zad 3\n",
    "or' :: (Bool, Bool) -> Bool\n",
    "or' (x,y) = \n",
    "    case (x || y) of\n",
    "        True -> False\n",
    "        False -> True\n",
    "or' (True,False)"
   ]
  },
  {
   "cell_type": "code",
   "execution_count": null,
   "metadata": {},
   "outputs": [],
   "source": [
    "-- Zad 4\n",
    "and' :: (Bool, Bool) -> Bool\n",
    "and' (x,y) = \n",
    "    case (x && y) of\n",
    "        True -> True\n",
    "        False -> False\n",
    "and' (True,False)"
   ]
  },
  {
   "cell_type": "code",
   "execution_count": null,
   "metadata": {},
   "outputs": [],
   "source": [
    "-- Zad 5\n",
    "nand' :: (Bool, Bool) -> Bool\n",
    "nand' (x,y) = \n",
    "    case (x && y) of\n",
    "        True -> False\n",
    "        False -> True\n",
    "nand' (True,False)"
   ]
  },
  {
   "cell_type": "code",
   "execution_count": null,
   "metadata": {},
   "outputs": [],
   "source": [
    "-- Zad 6\n",
    "xor' :: (Bool, Bool) -> Bool\n",
    "xor' (x,y) = \n",
    "    case (x ) of\n",
    "        False -> y\n",
    "        True -> not y\n",
    "xor' (True,False)"
   ]
  },
  {
   "cell_type": "markdown",
   "metadata": {},
   "source": [
    "### Definicje lokalne: klauzula \"where\""
   ]
  },
  {
   "cell_type": "code",
   "execution_count": null,
   "metadata": {},
   "outputs": [],
   "source": [
    "-- Przyklad 1\n",
    "roots :: (Double, Double, Double) -> (Double, Double)\n",
    "roots (a, b, c) = ( (-b - d) / e, (-b + d) / e )\n",
    "   where d = sqrt (b * b - 4 * a * c)\n",
    "         e = 2 * a"
   ]
  },
  {
   "cell_type": "markdown",
   "metadata": {},
   "source": [
    "### Zadania"
   ]
  },
  {
   "cell_type": "code",
   "execution_count": null,
   "metadata": {},
   "outputs": [],
   "source": [
    "-- Zad 1\n",
    "unitVec2D :: (Double, Double) -> (Double, Double)\n",
    "unitVec2D (a,b) = (a/dl , b/dl)\n",
    "    where dl = sqrt(a^2 + b^2)\n",
    "unitVec2D (0,120)"
   ]
  },
  {
   "cell_type": "code",
   "execution_count": null,
   "metadata": {},
   "outputs": [],
   "source": [
    "-- Zad 2 Napisać definicję funkcji unitVec3D\n",
    "unitVec2D :: (Double, Double,Double) -> (Double, Double,Double)\n",
    "unitVec2D (a,b,c) = (a/dl , b/dl,c/dl)\n",
    "    where dl = sqrt(a^2 + b^2 + c^2)\n",
    "unitVec2D (0,120,156)"
   ]
  },
  {
   "cell_type": "code",
   "execution_count": null,
   "metadata": {
    "scrolled": true
   },
   "outputs": [],
   "source": [
    "-- Zad 3 Przepisać funkcję obliczającą pole trójkąta na podstawie wzoru Herona; wykorzystać where do definicji zmiennej lokalnej p (połowa obwodu trójkąta)\n",
    "heron :: (Float, Float, Float) -> Float\n",
    "heron (a,b,c) = sqrt( p * (p-a) * (p-b) * (p-c) )\n",
    "    where p = (1/2*(a+b+c))\n",
    "heron (3,3,3)"
   ]
  },
  {
   "cell_type": "markdown",
   "metadata": {},
   "source": [
    "### Definicje lokalne: wyrażenie"
   ]
  },
  {
   "cell_type": "code",
   "execution_count": null,
   "metadata": {},
   "outputs": [],
   "source": [
    "-- Przyklad 1\n",
    "roots :: (Double, Double, Double) -> (Double, Double)\n",
    "roots (a, b, c) =\n",
    " let d = sqrt (b * b - 4 * a * c)\n",
    "--  Komentarz\n",
    "--  wielo\n",
    "--  poziomowy\n",
    "--  \n",
    "     e = 2 * a\n",
    " in ( (-b - d) / e, (-b + d) / e )"
   ]
  },
  {
   "cell_type": "markdown",
   "metadata": {},
   "source": [
    "### Zadania"
   ]
  },
  {
   "cell_type": "code",
   "execution_count": null,
   "metadata": {},
   "outputs": [],
   "source": [
    "-- Zad 1\n",
    "unitVec2D :: (Double, Double) -> (Double, Double)\n",
    "unitVec2D (a,b) = \n",
    "    let dl = sqrt(a^2 + b^2)\n",
    "    in (a/dl , b/dl)\n",
    "unitVec2D (0,120)"
   ]
  },
  {
   "cell_type": "code",
   "execution_count": null,
   "metadata": {},
   "outputs": [],
   "source": [
    "-- Zad 2 Napisać definicję funkcji unitVec3D\n",
    "unitVec2D :: (Double, Double,Double) -> (Double, Double,Double)\n",
    "unitVec2D (a,b,c) =\n",
    "    let dl = sqrt(a^2 + b^2 + c^2)\n",
    "    in  (a/dl , b/dl,c/dl)\n",
    "unitVec2D (0,120,156)"
   ]
  },
  {
   "cell_type": "code",
   "execution_count": null,
   "metadata": {},
   "outputs": [],
   "source": [
    "-- Zad 3 Przepisać funkcję obliczającą pole trójkąta na podstawie wzoru Herona; wykorzystać where do definicji zmiennej lokalnej p (połowa obwodu trójkąta)\n",
    "heron :: (Float, Float, Float) -> Float\n",
    "heron (a,b,c) = \n",
    "    let p = (1/2*(a+b+c))\n",
    "    in sqrt( p * (p-a) * (p-b) * (p-c) )\n",
    "heron (3,3,3)"
   ]
  },
  {
   "cell_type": "markdown",
   "metadata": {},
   "source": [
    "### Formatowanie kodu: off-side rule"
   ]
  },
  {
   "cell_type": "code",
   "execution_count": null,
   "metadata": {},
   "outputs": [],
   "source": [
    " printHello = putStrLn \"Hello\"\n",
    " main = printHello"
   ]
  },
  {
   "cell_type": "code",
   "execution_count": null,
   "metadata": {},
   "outputs": [],
   "source": [
    "-- Komentarz jednoliniowy \n",
    "roots :: (Double, Double, Double) -> (Double, Double)\n",
    "roots (a, b, c) = ( (-b - d) / e, (-b + d) / e )\n",
    "   where d = sqrt (b * b - 4 * a * c)\n",
    "         e = 2 * a -- uwaga na przesunięcie!"
   ]
  },
  {
   "cell_type": "markdown",
   "metadata": {},
   "source": [
    "### Zadania"
   ]
  },
  {
   "cell_type": "code",
   "execution_count": null,
   "metadata": {},
   "outputs": [],
   "source": [
    "-- Za pomocą {} napisać where\n",
    "roots :: (Double, Double, Double) -> (Double, Double)\n",
    "roots (a, b, c) = ( (-b - d) / e, (-b + d) / e )\n",
    "   where{d = sqrt (b * b - 4 * a * c);e = 2 * a}"
   ]
  },
  {
   "cell_type": "markdown",
   "metadata": {},
   "source": [
    "### Polimorfizm i inferencja typów"
   ]
  },
  {
   "cell_type": "code",
   "execution_count": null,
   "metadata": {},
   "outputs": [],
   "source": [
    "let f1 x = x\n",
    ":t f1\n",
    "let f2 x = True\n",
    ":t f2\n",
    "let f7 (x,y) = if x > y then x + y else x / 4\n",
    ":t f7"
   ]
  },
  {
   "cell_type": "markdown",
   "metadata": {},
   "source": [
    "### Zadania"
   ]
  },
  {
   "cell_type": "code",
   "execution_count": null,
   "metadata": {},
   "outputs": [],
   "source": [
    "let f1 x = True\n",
    ":t f1\n",
    "let f2 x = x^3\n",
    ":t f2\n",
    "let f3 x = x^4/2\n",
    ":t f3\n",
    "let f4 (x,y) = (y,x)\n",
    ":t f4\n",
    "f5 a\n",
    "    | (a == 'c') = True\n",
    "    | otherwise = False\n",
    ":t f5   \n",
    "f5 'c'\n",
    "f6 (a,b)\n",
    "    | a=='a' && b == 'c' = 'd'\n",
    "    | a=='e' && b=='d' = 'k'\n",
    "    | otherwise = 'z'\n",
    ":t f6\n",
    "f7 (a,b,c)\n",
    "    | a=='a' && b==True && c==1 = \"Hello\"\n",
    "    | otherwise = \"Goodbye\"\n",
    ":t f7\n",
    "\n",
    "f8 (a,b,c,d)\n",
    "    | a>b && b==c = d\n",
    "    | otherwise = a\n",
    ":t f8\n",
    "\n",
    "f9 (a,b,c,d)\n",
    "    | a<b && d==c && d==False = d\n",
    "    | otherwise = a\n",
    ":t f9\n",
    "\n",
    "f10 (a,b,c,d)\n",
    "    | a<b && d==c && d==5 = d\n",
    "    | otherwise = a\n",
    ":t f10"
   ]
  }
 ],
 "metadata": {
  "kernelspec": {
   "display_name": "Haskell",
   "language": "haskell",
   "name": "haskell"
  },
  "language_info": {
   "codemirror_mode": "ihaskell",
   "file_extension": ".hs",
   "mimetype": "text/x-haskell",
   "name": "haskell",
   "pygments_lexer": "Haskell",
   "version": "8.6.5"
  }
 },
 "nbformat": 4,
 "nbformat_minor": 4
}
