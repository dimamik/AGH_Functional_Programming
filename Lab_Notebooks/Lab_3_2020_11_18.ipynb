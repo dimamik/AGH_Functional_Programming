{
 "cells": [
  {
   "cell_type": "markdown",
   "metadata": {},
   "source": [
    "# Laboratorium 3 18.11.2020"
   ]
  },
  {
   "cell_type": "markdown",
   "metadata": {},
   "source": [
    "## Funkcje anonimowe i currying"
   ]
  },
  {
   "cell_type": "code",
   "execution_count": null,
   "metadata": {
    "scrolled": true
   },
   "outputs": [],
   "source": [
    ":t (\\x -> \\y -> x + y) -- (\\x -> \\y -> x + y) :: forall a. Num a => a -> a -> a\n",
    ":t (\\x y -> x + y) -- (\\x y -> x + y) :: forall a. Num a => a -> a -> a\n",
    "\n",
    ":t (\\x -> \\y -> x + y) 1 -- (\\x -> \\y -> x + y) 1 :: forall a. Num a => a -> a\n",
    ":t (\\x y -> x + y) 1 -- (\\x y -> x + y) 1 :: forall a. Num a => a -> a\n",
    "\n",
    ":t (\\x -> \\y -> x + y) 1 2\n",
    ":t (\\x y -> x + y) 1 2 \n",
    "\n",
    "let f1 = \\x -> \\y -> x + y\n",
    ":t f1 \n",
    "f1 1 2 \n",
    "\n",
    "let f2 = \\x y -> x + y \n",
    ":t f2 \n",
    "f2 1 2\n",
    "\n",
    "let f3 x = \\y -> x + y \n",
    ":t f3  -- Wynik taki sam\n",
    "f3 1 2 -- Wynik taki sam\n",
    "\n",
    "let f4 x y = x + y \n",
    ":t f4 -- Wynik taki sam\n",
    "f4 1 2-- Wynik taki sam\n",
    "\n",
    "-- let f5 = \\(x,y) -> x + y -- !Not compiling!\n",
    "-- :t f5 \n",
    "-- f5 1 \n",
    "-- f5 (1,2)\n",
    "\n",
    "-- let f6 (x,y) = x + y  -- Not Compiling!\n",
    "-- :t f6 -- porównujemy z wynikami dla f1, ... , f5 \n",
    "-- f6 1 \n",
    "-- f6 (1,2) -- porównujemy z wynikami dla f1, ... , f5 \n",
    "\n",
    ":t (\\x y -> x + y) :: Int -> Int -> Int \n",
    ":t (\\x y -> x + y) \n",
    "((\\x y -> x + y) :: Int -> Int -> Int) 1 2 "
   ]
  },
  {
   "cell_type": "markdown",
   "metadata": {},
   "source": [
    "## Zadania"
   ]
  },
  {
   "cell_type": "code",
   "execution_count": null,
   "metadata": {},
   "outputs": [],
   "source": [
    "-- Zad 1\n",
    "let f1 = \\x -> x-2\n",
    "f1 5\n",
    "let f2 = \\x y -> sqrt (x^2 + y^2)\n",
    "f2 10 15\n",
    "let f3 = \\x y z -> sqrt (x^2 + y^2 + z^2)\n",
    "f3 1 2 3"
   ]
  },
  {
   "cell_type": "code",
   "execution_count": null,
   "metadata": {},
   "outputs": [],
   "source": [
    "-- Zad 2\n",
    "let f1 = \\x -> 2*x\n",
    "f1 5\n",
    "let f2 = \\x -> x*2\n",
    "f2 5\n",
    "let f3 = \\x -> 2^x\n",
    "f3 5\n",
    "let f4 = \\x -> x^2\n",
    "f4 5\n",
    "let f5 = \\x -> 2/x\n",
    "f5 5\n",
    "let f6 = \\x -> x/3\n",
    "f6 5\n",
    "let f7 = \\x -> 4-x\n",
    "f7 5"
   ]
  },
  {
   "cell_type": "code",
   "execution_count": null,
   "metadata": {
    "scrolled": true
   },
   "outputs": [],
   "source": [
    "-- Zad 4 \n",
    "f7 = \\x -> x `mod` 2 == 0\n",
    "f7 40\n",
    "\n",
    "f8 = \\x  -> \n",
    "    let y = sqrt x in 2 * y^3 * (y + 1)  \n",
    "f8 5 \n",
    "\n",
    "f9 = \\x -> \n",
    "    if x==1 then 3\n",
    "    else 0\n",
    "\n",
    "f9 1"
   ]
  },
  {
   "cell_type": "markdown",
   "metadata": {},
   "source": [
    "## Funkcje wyższego rzędu: funkcje jako parametry/argumenty"
   ]
  },
  {
   "cell_type": "code",
   "execution_count": null,
   "metadata": {
    "scrolled": true
   },
   "outputs": [],
   "source": [
    "sum' :: Num a => [a] -> a \n",
    "sum' []     = 0 \n",
    "sum' (x:xs) = x + sum' xs "
   ]
  },
  {
   "cell_type": "markdown",
   "metadata": {},
   "source": [
    "### Zadania"
   ]
  },
  {
   "cell_type": "code",
   "execution_count": null,
   "metadata": {
    "scrolled": true
   },
   "outputs": [],
   "source": [
    "-- Zad 1\n",
    "sumSqr' :: Num a => [a] -> a \n",
    "sumSqr' [] = 0\n",
    "sumSqr' (x:xs) = x^2 + sumSqr' xs\n",
    "\n",
    "sumSqr' [1,2]\n"
   ]
  },
  {
   "cell_type": "code",
   "execution_count": null,
   "metadata": {
    "scrolled": true
   },
   "outputs": [],
   "source": [
    "-- Zad 2\n",
    "sumWith :: Num a => (a -> a) -> [a] -> a \n",
    "sumWith f [] = 0\n",
    "sumWith f (x:xs) = f x + sumWith f xs\n",
    "\n",
    "sumWith (\\x -> x^2) [1,2]\n"
   ]
  },
  {
   "cell_type": "code",
   "execution_count": null,
   "metadata": {},
   "outputs": [],
   "source": [
    "-- Zad 3\n",
    "sum     = sumWith (\\x->x )\n",
    "sumSqr  = sumWith (\\x -> sqrt x)\n",
    "sumCube = sumWith (\\x -> x^3)\n",
    "sumAbs  = sumWith (\\x -> abs x)\n",
    "\n",
    "sumCube [1,2]\n",
    "sumSqr [1..10] "
   ]
  },
  {
   "cell_type": "code",
   "execution_count": null,
   "metadata": {
    "scrolled": true
   },
   "outputs": [],
   "source": [
    "-- Zad 4\n",
    "sumWith (\\x->x^5) [1..15]"
   ]
  },
  {
   "cell_type": "code",
   "execution_count": null,
   "metadata": {
    "scrolled": true
   },
   "outputs": [],
   "source": [
    "-- Zad 5\n",
    "listLength = sumWith (\\x-> 1)\n",
    "listLength [1,2,3]"
   ]
  },
  {
   "cell_type": "markdown",
   "metadata": {},
   "source": [
    "## Funkcje wyższego rzędu: funkcje jako wyniki"
   ]
  },
  {
   "cell_type": "code",
   "execution_count": null,
   "metadata": {},
   "outputs": [],
   "source": [
    "sqr x = x^2 \n",
    " \n",
    "funcFactory n = case n of \n",
    " 1 -> id \n",
    " 2 -> sqr \n",
    " 3 -> (^3) \n",
    " 4 -> \\x -> x^4 \n",
    " 5 -> intFunc \n",
    " _ -> const n \n",
    " where \n",
    "   intFunc x = x^5 \n",
    "   \n",
    "let cub = funcFactory 3 \n",
    "cub 4 "
   ]
  },
  {
   "cell_type": "markdown",
   "metadata": {},
   "source": [
    "### Zadania"
   ]
  },
  {
   "cell_type": "code",
   "execution_count": null,
   "metadata": {
    "scrolled": true
   },
   "outputs": [],
   "source": [
    "-- Zad 1 ??\n",
    "fac :: a -> a\n",
    "fac 0 = 1\n",
    "fac n = n * fac (n - 1)\n",
    "\n",
    "expApproxUpTo :: Int -> Double -> Double \n",
    "expApproxUpTo n x = sum [((x^k) / (fac k)) | k<-[0..n]]\n",
    "expApproxUpTo 15 15"
   ]
  },
  {
   "cell_type": "markdown",
   "metadata": {},
   "source": [
    "### Funkcje jako elementy struktur danych"
   ]
  },
  {
   "cell_type": "code",
   "execution_count": null,
   "metadata": {
    "scrolled": true
   },
   "outputs": [],
   "source": [
    "funcList :: [ Double -> Double ]\n",
    "funcList = [ \\x -> (sin x)/x, \\x -> log x + sqrt x + 1, \\x -> (exp 1) ** x ] \n",
    " \n",
    "evalFuncListAt :: a -> [a -> b] -> [b] \n",
    "evalFuncListAt x [] = [] \n",
    "evalFuncListAt x (f:fs) = f x : evalFuncListAt x fs \n",
    "\n",
    "evalFuncListAt 1 funcList \n",
    "evalFuncListAt (-3) [ id, abs, const 5, \\y -> 2 * y + 8 ] "
   ]
  },
  {
   "cell_type": "code",
   "execution_count": null,
   "metadata": {
    "scrolled": true
   },
   "outputs": [],
   "source": [
    "displEqs :: (Double -> Double, Double -> Double) \n",
    "displEqs = (\\t -> 4 * t^2 + 2 * t, \\t -> 3 * t^2) \n",
    "let (x_t, y_t) = (fst displEqs, snd displEqs) \n",
    "x_t 1 \n",
    "y_t 1 "
   ]
  },
  {
   "cell_type": "markdown",
   "metadata": {},
   "source": [
    "### Operator złożenia funkcji (.) (i notacja point-free)"
   ]
  },
  {
   "cell_type": "code",
   "execution_count": null,
   "metadata": {},
   "outputs": [],
   "source": [
    "-- :t (.) \n",
    "-- :i (.) --  co oznacza \"infixr 9\"? -> right-associativity gives the fixity and binding precedence of one or more operators.\n",
    "let f = (+1) -- vs. let f x = x + 1 vs. let f x = (+1) x \n",
    "let g = (*2) -- vs. let g x = x * 2 vs. let g x = (*2) x \n",
    "let h = (^3) -- vs. let h x = x ^ 3 vs. let h x = (^3) x \n",
    "let fg = f . g      -- vs. let fg x  = (f . g) x \n",
    "let gh = g . h      -- vs. let gh x  = (g . h) x \n",
    "let fgh = f . g . h -- vs. let fgh x = (f . g . h) x \n",
    "\n",
    "fgh 3 -- 55\n",
    "(f . g . h) 3 \n",
    "(f . g . h) 3 == f (g (h (3))) \n",
    "\n",
    "(f . id) 3 == (id . f) 3 \n",
    "(f . id) 3 == f 3 \n",
    "\n",
    "(f . gh) 3 == (fg . h) 3 \n",
    "(f . (g . h)) 3 == ((f . g) . h) 3 \n",
    "fgh 3 == (f . gh) 3 \n",
    "(f . g) 3 == (.) f g 3 "
   ]
  },
  {
   "cell_type": "code",
   "execution_count": null,
   "metadata": {},
   "outputs": [],
   "source": [
    "let u2 x y = x^2 + y^2 \n",
    "(f . (u2 4) . g) 3 \n",
    "(f . u2 4 . g) 3 \n",
    ":t u2 4 "
   ]
  },
  {
   "cell_type": "code",
   "execution_count": null,
   "metadata": {
    "scrolled": false
   },
   "outputs": [],
   "source": [
    "((u2 1) . (u2 2) . (u2 3)) 1 \n",
    "(u2 1 . u2 2 . u2 3) 1 \n",
    "((+) 2 . g . h) 3 \n",
    "((2+) . g . h) 3 "
   ]
  },
  {
   "cell_type": "markdown",
   "metadata": {},
   "source": [
    "### Zadania"
   ]
  },
  {
   "cell_type": "code",
   "execution_count": null,
   "metadata": {
    "scrolled": true
   },
   "outputs": [],
   "source": [
    "-- Zad 1\n",
    "import Data.List\n",
    "sortDesc :: Ord a => [a] -> [a] \n",
    "sortDesc xs = (reverse . sort) xs \n",
    "sortDesc [1,2,3,4]"
   ]
  },
  {
   "cell_type": "code",
   "execution_count": null,
   "metadata": {},
   "outputs": [],
   "source": [
    "-- Zad 2\n",
    "import Data.List\n",
    "sortDesc :: Ord a => [a] -> [a] \n",
    "sortDesc xs = (reverse (sort xs) ) \n",
    "sortDesc [1,2,3,4]"
   ]
  },
  {
   "cell_type": "code",
   "execution_count": null,
   "metadata": {},
   "outputs": [],
   "source": [
    "let f = (+1)\n",
    "let g = (*2)\n",
    "let h = (^3)\n",
    "let w3 = \\x y z -> sqrt (x^2 + y^2 + z^2) \n",
    "(f . w3 1 2 . h) 3 "
   ]
  },
  {
   "cell_type": "markdown",
   "metadata": {},
   "source": [
    "## Operator “aplikacji” funkcji ($)"
   ]
  },
  {
   "cell_type": "markdown",
   "metadata": {},
   "source": [
    "IT is for avoiding parentheses. Anything appearing after it will take precedence over anything that comes before."
   ]
  },
  {
   "cell_type": "code",
   "execution_count": null,
   "metadata": {},
   "outputs": [],
   "source": [
    ":t ($) \n",
    ":i ($) -- porównujemy z wynikiem \":i (.)\" \n",
    ":i (.)\n",
    ":t ($!) \n",
    ":i ($!) "
   ]
  },
  {
   "cell_type": "code",
   "execution_count": null,
   "metadata": {
    "scrolled": true
   },
   "outputs": [],
   "source": [
    "($) f 3 == f $ 3 \n",
    "(($) f 3) == (f $ 3) \n",
    "($) f 3 == (f $ 3) \n",
    "f (g (h (3))) \n",
    "f (g (h $ 3)) \n",
    "f (g $ h $ 3) \n",
    "f $ g $ h $ 3 "
   ]
  },
  {
   "cell_type": "code",
   "execution_count": null,
   "metadata": {},
   "outputs": [],
   "source": [
    "(f $ g $ h $ 3) == (f $ (g $ (h $ 3))) \n",
    "f $ g $ h $ 3 == (f $ (g $ (h $ 3))) \n",
    "(f $ g $ h $ 3) == f $ (g $ (h $ 3)) \n",
    ":i (==) -- porównujemy z wynikiem \":i ($)\" "
   ]
  },
  {
   "cell_type": "code",
   "execution_count": null,
   "metadata": {},
   "outputs": [],
   "source": [
    "_3 = ($3) \n",
    "f 3 \n",
    "_3 f -- :) \n",
    "f 3 == _3 f \n",
    "((,) $ 1) 2 "
   ]
  },
  {
   "cell_type": "markdown",
   "metadata": {},
   "source": [
    "### Zadania"
   ]
  },
  {
   "cell_type": "code",
   "execution_count": null,
   "metadata": {
    "scrolled": false
   },
   "outputs": [],
   "source": [
    "-- Zad 1 -  (,) $ 1 $ 2 \n",
    " ((,) $ 1) $ 2"
   ]
  },
  {
   "cell_type": "code",
   "execution_count": null,
   "metadata": {},
   "outputs": [],
   "source": [
    "let f = (+1)\n",
    "let g = (*2)\n",
    "let h = (^3)\n",
    "f $ g $ h 3 \n",
    "(f . g . h) 3 \n",
    "f . g . h $ 3 \n",
    "\n",
    "-- 2 jest najbardziej czytelne"
   ]
  },
  {
   "cell_type": "markdown",
   "metadata": {},
   "source": [
    "### Funkcje wyższego rzędu: filter"
   ]
  },
  {
   "cell_type": "code",
   "execution_count": null,
   "metadata": {},
   "outputs": [],
   "source": [
    "onlyEven [] = [] \n",
    "onlyEven (x:xs) \n",
    "    | x `mod` 2 == 0 = x : onlyEven xs \n",
    "    | otherwise      = onlyEven xs "
   ]
  },
  {
   "cell_type": "code",
   "execution_count": null,
   "metadata": {
    "scrolled": true
   },
   "outputs": [],
   "source": [
    "filter' :: (a -> Bool) -> [a] -> [a]\n",
    "filter' _ [] = []\n",
    "filter' p (x:xs)\n",
    "    | p x = x : filter p xs\n",
    "    | otherwise = filter p xs\n",
    "-- Zad 2\n",
    "onlyEven = filter' (\\x -> x `mod` 2 == 0)\n",
    "onlyEven [1,2,3,4]\n",
    "onlyOdd   = filter' (\\x -> x `mod` 2 /= 0)\n",
    "onlyOdd [1,2,3,4]\n",
    "onlyUpper = filter' (\\x ->fromEnum x <97)\n",
    "onlyUpper ['a','A','z','Z']\n",
    "\n"
   ]
  },
  {
   "cell_type": "code",
   "execution_count": null,
   "metadata": {},
   "outputs": [],
   "source": [
    "-- Zad 3\n",
    "set +s length (onlyEven [1..10^6]) \n",
    "set +s length (filter even [1..10^6]) -- filter z biblioteki standardowej "
   ]
  },
  {
   "cell_type": "code",
   "execution_count": null,
   "metadata": {
    "scrolled": true
   },
   "outputs": [],
   "source": [
    "-- Zad 4\n",
    "length . onlyEven $ [1..10^6] \n",
    "length $  filter  even  [1..10^6]"
   ]
  },
  {
   "cell_type": "code",
   "execution_count": null,
   "metadata": {
    "scrolled": true
   },
   "outputs": [],
   "source": [
    "-- Zad 5\n",
    "length (filter even [1..10^6]) \n",
    "length [x | x<-[1..10^6], even x]"
   ]
  },
  {
   "cell_type": "code",
   "execution_count": null,
   "metadata": {},
   "outputs": [],
   "source": [
    "filter (\\s -> length s == 2) [\"a\", \"aa\", \"aaa\", \"b\", \"bb\"] \n",
    "filter (\\(x,y) -> x > y) [(1,2), (2,2), (2,1), (2,2), (3,2)] \n",
    "filter (\\xs -> sum xs > 300) [[1..5], [56..60], [101..105]] \n",
    "length . filter (\\f -> f 2 > 10) $ [(+5), (*5), (^5), \\x -> 3 * x + 7] "
   ]
  },
  {
   "cell_type": "markdown",
   "metadata": {},
   "source": [
    "### Funkcje wyższego rzędu: map"
   ]
  },
  {
   "cell_type": "code",
   "execution_count": null,
   "metadata": {
    "scrolled": true
   },
   "outputs": [],
   "source": [
    "doubleElems []     = [] \n",
    "doubleElems (x:xs) = 2 * x : doubleElems xs \n",
    "doubleElems xs = map (2 *) xs"
   ]
  },
  {
   "cell_type": "markdown",
   "metadata": {},
   "source": [
    "### Zadania"
   ]
  },
  {
   "cell_type": "code",
   "execution_count": null,
   "metadata": {},
   "outputs": [],
   "source": [
    "-- Zad 2\n",
    "map' :: (a -> b) -> [a] -> [b]\n",
    "map' _ [] = []\n",
    "map' f (x:xs) = f x : map f xs\n",
    "\n",
    "doubleElems = map' (\\x -> 2*x) \n",
    "sqrElems    = map' (\\x -> sqrt x)\n",
    "lowerCase   = map' (\\x -> (toEnum (fromEnum x + 32)::Char))\n",
    "lowerCase ['A','B']"
   ]
  },
  {
   "cell_type": "code",
   "execution_count": null,
   "metadata": {
    "scrolled": true
   },
   "outputs": [],
   "source": [
    "-- Zad 3\n",
    "doubleElems xs = [x*2 | x<-xs]\n",
    "doubleElems [1,2,3]\n",
    "sqrElems xs = [sqrt x | x<-xs]\n",
    "lowerCase xs = [(toEnum (fromEnum x + 32)::Char) | x <- xs]\n",
    "lowerCase ['A','B']"
   ]
  },
  {
   "cell_type": "code",
   "execution_count": null,
   "metadata": {},
   "outputs": [],
   "source": [
    "length . filter even $ doubleElems [1..10^7] \n",
    "length . filter even . map (*2) $ [1..10^7] -- map"
   ]
  },
  {
   "cell_type": "code",
   "execution_count": null,
   "metadata": {},
   "outputs": [],
   "source": [
    "import Data.Char\n",
    "map (*2) [1..10] \n",
    "map (^2) [1..10] \n",
    "map toLower \"ABCD\" -- konieczny import Data.Char \n",
    "length . filter (>10) . map ($ 2) $ [(+5), (*5), (^5), \\x -> 3 * x + 7] \n",
    "map show [1..10] \n",
    "map length [[1],[1,2],[1,2,3]] \n",
    "map (map length) [ [[1],[1,2],[1,2,3]], [[1],[1,2]] ] \n",
    "map (\\(x,y) -> (y,x)) [(1,'a'), (2,'b'), (3,'c')] \n",
    "map (\\(x,y) -> y) [(1,'a'), (2,'b'), (3,'c')] \n",
    "map (\\s -> (s, length s)) [\"manuscripts\",\"do\",\"not\",\"burn\"] "
   ]
  },
  {
   "cell_type": "markdown",
   "metadata": {},
   "source": [
    "## Funkcje wyższego rzędu: foldr i foldl"
   ]
  },
  {
   "cell_type": "markdown",
   "metadata": {},
   "source": [
    "The only difference between foldl and foldr is the recursive case. foldl immediately invokes function f on the first list item x and the base value v . The result of this invocation ( f v x ) is passed as the new base value to foldl ."
   ]
  },
  {
   "cell_type": "code",
   "execution_count": null,
   "metadata": {},
   "outputs": [],
   "source": [
    "sumWith g []     = 0 \n",
    "sumWith g (x:xs) = g x + sumWith g xs -- (+) (g x) (sumWith g xs) \n",
    " \n",
    "sumWith g xs = foldr ((+) . g) 0 xs --To same\n",
    "\n",
    "prodWith g []     = 1 \n",
    "prodWith g (x:xs) = g x * prodWith g xs -- (*) (g x) (prodWith g xs) \n",
    "\n",
    "prodWith g xs = foldr ((*) . g) 1 xs -- To same\n"
   ]
  },
  {
   "cell_type": "code",
   "execution_count": null,
   "metadata": {},
   "outputs": [],
   "source": [
    "sumWith' :: Num a => (a -> a) -> [a] -> a \n",
    "sumWith' = go 0 \n",
    " where \n",
    "   go acc g [] = acc \n",
    "   go acc g (x:xs) = go (g x + acc) g xs \n",
    " \n",
    "prodWith' :: Num a => (a -> a) -> [a] -> a \n",
    "prodWith' = go 1 \n",
    " where \n",
    "   go acc g [] = acc \n",
    "   go acc g (x:xs) = go (g x * acc) g xs "
   ]
  },
  {
   "cell_type": "markdown",
   "metadata": {},
   "source": [
    "### Zadania"
   ]
  },
  {
   "cell_type": "code",
   "execution_count": null,
   "metadata": {},
   "outputs": [],
   "source": [
    "-- Zad 1\n",
    "foldr' :: (a -> b -> b) -> b -> [a] -> b\n",
    "foldr' f z [] = z\n",
    "foldr' f z (x:xs) = f x (foldr f z xs)\n",
    " \n",
    "sumWith'' g  = foldr' (\\x acc -> g x + acc) 0 \n",
    "prodWith'' g = foldr' (\\x acc -> g x * acc) 1\n",
    "\n",
    "prodWith'' (\\x -> x+2) [1,2,3]\n"
   ]
  },
  {
   "cell_type": "code",
   "execution_count": null,
   "metadata": {},
   "outputs": [],
   "source": [
    "-- Zad 2\n",
    "foldl' :: (b -> a -> b) -> b -> [a] -> b\n",
    "foldl' f z [] = z\n",
    "foldl' f z (x:xs) = foldl f (f z x) xs\n",
    "\n",
    " \n",
    "sumWith''' g  = foldl' (\\acc x -> g x + acc) 0 \n",
    "prodWith''' g = foldl'  (\\acc x -> g x * acc) 1\n",
    "\n",
    "\n",
    "prodWith''' (\\x -> x+2) [1,2,3]"
   ]
  },
  {
   "cell_type": "code",
   "execution_count": null,
   "metadata": {},
   "outputs": [],
   "source": [
    "-- Zad 6\n",
    "let strList1 = [\"My\", \"name\", \"is\", \"Inigo\", \"Montoya\"] \n",
    "foldr (++) [] strList1 \n",
    "foldr (\\x acc -> x ++ \" \" ++ acc) [] strList1 \n",
    "foldr1 (\\x acc -> x ++ \" \" ++ acc) strList1 \n",
    "let list1To5 = [1..5] \n",
    "foldr (\\_ acc -> 1 + acc) 0 list1To5 \n",
    "\n",
    "foldr (:) [] list1To5 \n",
    "foldl (:) [] list1To5 \n",
    "foldl (\\acc x -> x : acc) [] list1To5 \n",
    "foldr (\\x xs -> xs ++ [x]) [] list1To5 \n"
   ]
  },
  {
   "cell_type": "code",
   "execution_count": null,
   "metadata": {
    "scrolled": true
   },
   "outputs": [],
   "source": [
    "let listRand = [1,4,2,6,5,3] \n",
    "foldr1 max listRand \n",
    "foldr1 min listRand \n"
   ]
  },
  {
   "cell_type": "code",
   "execution_count": null,
   "metadata": {},
   "outputs": [],
   "source": [
    "let listBool = [True, False, True, False] \n",
    "foldr (||) False listBool \n",
    "foldr (&&) True listBool \n",
    "foldr (+) 0 list1To5 == foldl (+) 0 list1To5 \n",
    "foldr (*) 0 list1To5 == foldl (*) 0 list1To5 \n",
    "foldr (-) 0 list1To5 == foldl (-) 0 list1To5 \n"
   ]
  },
  {
   "cell_type": "code",
   "execution_count": null,
   "metadata": {},
   "outputs": [],
   "source": [
    "let list321 = [3,2,1] \n",
    "foldr (-) 0 list321 \n",
    "foldr1 (-) list321 \n",
    "foldl (-) 0 list321 \n",
    "foldl1 (-) 0 list321 "
   ]
  },
  {
   "cell_type": "code",
   "execution_count": null,
   "metadata": {
    "scrolled": true
   },
   "outputs": [],
   "source": [
    "-- Zad 6\n",
    "foldr (\\x acc -> \"(\" ++ x ++ \" f \" ++ acc ++ \")\") \"z\" [\"1\",\"2\",\"3\"] \n",
    "foldr1 (\\x acc -> \"(\" ++ x ++ \" f \" ++ acc ++ \")\") [\"1\",\"2\",\"3\"] \n",
    "foldl (\\acc x -> \"(\" ++ acc ++ \" f \" ++ x ++ \")\") \"z\" [\"1\",\"2\",\"3\"] \n",
    "foldl1 (\\acc x -> \"(\" ++ acc ++ \" f \" ++ x ++ \")\") [\"1\",\"2\",\"3\"] "
   ]
  },
  {
   "attachments": {},
   "cell_type": "markdown",
   "metadata": {},
   "source": [
    "### Funkcje: zip , unzip i zipWith"
   ]
  },
  {
   "cell_type": "code",
   "execution_count": null,
   "metadata": {},
   "outputs": [],
   "source": [
    "zip [1,2,3] ['a','b'] \n",
    "unzip [(1,'a'),(2,'b')] \n",
    "unzip (zip [1,2,3] ['a','b']) \n",
    "zip [1,2] [10,20] == zipWith (,) [1,2] [10,20] \n",
    "let endlessList = [1..] \n",
    "take 5 (zip endlessList (tail endlessList)) "
   ]
  },
  {
   "cell_type": "markdown",
   "metadata": {},
   "source": [
    "### Zadania\n"
   ]
  },
  {
   "cell_type": "code",
   "execution_count": null,
   "metadata": {
    "scrolled": true
   },
   "outputs": [],
   "source": [
    "-- Zad 1\n",
    "isSortedAsc :: Ord a => [a] -> Bool \n",
    "isSortedAsc xs = all id . map (\\(x,y) -> x <= y) . zip xs $ tail xs\n",
    "isSortedAsc [1,2,2,3]\n"
   ]
  },
  {
   "cell_type": "code",
   "execution_count": null,
   "metadata": {},
   "outputs": [],
   "source": [
    "-- Zad 2\n",
    "everySecond :: [t] -> [t] \n",
    "everySecond [] = []\n",
    "everySecond [x] = [x]\n",
    "everySecond (x:y:xs) = x : everySecond xs\n",
    "\n",
    "everySecond [1..8]"
   ]
  },
  {
   "cell_type": "code",
   "execution_count": null,
   "metadata": {},
   "outputs": [],
   "source": [
    "-- Zad 3\n",
    "\n",
    "zip3' :: [a] -> [b] -> [c] -> [(a,b,c)]\n",
    "zip3' _ _ [] = []\n",
    "zip3' _ [] _ = []\n",
    "zip3' [] _ _ = []\n",
    "zip3' (x:xs) (y:ys) (z:zs) = (x,y,z) : zip3' xs ys zs"
   ]
  },
  {
   "cell_type": "markdown",
   "metadata": {},
   "source": [
    "### Funkcje concat i concatMap"
   ]
  },
  {
   "cell_type": "code",
   "execution_count": null,
   "metadata": {},
   "outputs": [],
   "source": [
    "concat' :: [[a]] -> [a] \n",
    "concat' []     = [] \n",
    "concat' (x:xs) = x ++ concat' xs"
   ]
  },
  {
   "cell_type": "code",
   "execution_count": null,
   "metadata": {},
   "outputs": [],
   "source": [
    "concat' [\"abc\", \"def\"] \n",
    "concat' [[1,2],[3,4]] \n",
    "(concat' . concat') [ [[1,2], [3,4]] , [[5,6], [7,8]] ] "
   ]
  },
  {
   "cell_type": "code",
   "execution_count": null,
   "metadata": {},
   "outputs": [],
   "source": [
    "concat' [\"abc\", \"def\"] == concat [\"abc\", \"def\"] "
   ]
  },
  {
   "cell_type": "markdown",
   "metadata": {},
   "source": [
    "### Wzorzec Collection pipeline"
   ]
  },
  {
   "cell_type": "code",
   "execution_count": null,
   "metadata": {
    "scrolled": true
   },
   "outputs": [],
   "source": [
    "import Data.Char \n",
    "import Data.List \n",
    " \n",
    "capitalize :: [Char] -> [Char] \n",
    "capitalize [] = [] \n",
    "capitalize (x:xs) = toUpper x : (map toLower xs) \n",
    " \n",
    "formatStr s = foldr1 (\\w s -> w ++ \" \" ++ s) . \n",
    "    map capitalize . \n",
    "    filter (\\x -> length x > 1) $ \n",
    "      words s "
   ]
  },
  {
   "cell_type": "code",
   "execution_count": null,
   "metadata": {
    "scrolled": true
   },
   "outputs": [],
   "source": [
    "formatStr \"tomasz  t  ,     bogdan anna . Jerzy j    maria\" "
   ]
  },
  {
   "cell_type": "code",
   "execution_count": null,
   "metadata": {},
   "outputs": [],
   "source": [
    "prodPrices p = case p of \n",
    " \"A\" -> 100 \n",
    " \"B\" -> 500 \n",
    " \"C\" -> 1000 \n",
    " _   -> error \"Unknown product\" \n",
    " \n",
    "products = [\"A\",\"B\",\"C\"] \n",
    " \n",
    "-- basic discount strategy \n",
    "discStr1 p \n",
    " | price > 999 = 0.3 * price \n",
    " | otherwise   = 0.1 * price \n",
    " where price = prodPrices p \n",
    " \n",
    "-- flat discount strategy \n",
    "discStr2 p = 0.2 * prodPrices p \n",
    " \n",
    "totalDiscout discStr = \n",
    " foldl1 (+) . \n",
    " map discStr . \n",
    " filter (\\p -> prodPrices p > 499) \n",
    " \n",
    "totalDiscout discStr1 [\"A\", \"B\", \"C\"] \n",
    "totalDiscout discStr2 [\"A\", \"B\", \"C\"] "
   ]
  },
  {
   "cell_type": "markdown",
   "metadata": {},
   "source": [
    "### Zadania"
   ]
  },
  {
   "cell_type": "code",
   "execution_count": null,
   "metadata": {
    "scrolled": true
   },
   "outputs": [],
   "source": [
    "-- Zad 2\n",
    "replicate 2 . product . map (*3) $ zipWith max [4,2] [1,5] \n",
    "sum . takeWhile (<1000) . filter odd . map (^2) $ [1..] \n",
    "length . fromList . Prelude.map toLower $ \"thirteen men must go\" "
   ]
  }
 ],
 "metadata": {
  "kernelspec": {
   "display_name": "Haskell",
   "language": "haskell",
   "name": "haskell"
  },
  "language_info": {
   "codemirror_mode": "ihaskell",
   "file_extension": ".hs",
   "mimetype": "text/x-haskell",
   "name": "haskell",
   "pygments_lexer": "Haskell",
   "version": "8.6.5"
  }
 },
 "nbformat": 4,
 "nbformat_minor": 4
}
