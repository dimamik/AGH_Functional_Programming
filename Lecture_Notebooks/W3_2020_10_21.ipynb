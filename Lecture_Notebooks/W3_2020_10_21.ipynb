{
 "cells": [
  {
   "cell_type": "markdown",
   "metadata": {},
   "source": [
    "### Wykład 3 21.10.2020"
   ]
  },
  {
   "cell_type": "markdown",
   "metadata": {},
   "source": [
    "#### Funkcje wyższego rzędu"
   ]
  },
  {
   "cell_type": "markdown",
   "metadata": {},
   "source": [
    "Funkcja wyższego rzędu\n",
    "to funkcja, która zwraca i/lub przyjmuje jako argument(y) inne funkcje"
   ]
  },
  {
   "cell_type": "code",
   "execution_count": null,
   "metadata": {},
   "outputs": [],
   "source": [
    "sumWith :: Num a => (a -> a) -> [a] -> a\n",
    "sumWith _ [] = 0\n",
    "sumWith f (x:xs) = f x + sumWith f xs"
   ]
  },
  {
   "cell_type": "code",
   "execution_count": null,
   "metadata": {
    "scrolled": true
   },
   "outputs": [],
   "source": [
    "sum, sumSqr, sumCub, sumAbs :: [Integer] -> Integer\n",
    "\n",
    "sum = sumWith (\\e -> e) -- sumWith (id)\n",
    "sumSqr = sumWith (\\e -> e ^ 2) -- sumWith (^2)\n",
    "sumCub = sumWith (\\e -> e ^ 3) -- sumWith (^3)\n",
    "sumAbs = sumWith (\\e -> abs e) -- sumWith (abs)\n",
    "\n",
    "sumWith (\\e -> e^2) [1,2,3]\n"
   ]
  },
  {
   "cell_type": "markdown",
   "metadata": {},
   "source": [
    "#### Funkcje Anonimowe (Lambda-wyrażenia)"
   ]
  },
  {
   "cell_type": "code",
   "execution_count": null,
   "metadata": {
    "scrolled": true
   },
   "outputs": [],
   "source": [
    "(\\x y -> x + y) 1 2"
   ]
  },
  {
   "cell_type": "markdown",
   "metadata": {},
   "source": [
    "#### Funkcje jako wyniki:"
   ]
  },
  {
   "cell_type": "code",
   "execution_count": null,
   "metadata": {},
   "outputs": [],
   "source": [
    "df :: (Double -> Double) -> (Double -> Double)\n",
    "df f = \\x -> (f (x + h) - f (x - h)) / (2 * h)\n",
    "    where h = 1e-8\n",
    "    \n",
    "absErr :: Num a => (t -> a) -> (t -> a) -> t -> a\n",
    "absErr fExact fApprox x=abs (fExact x - fApprox x)\n",
    "\n",
    "xs = [0,0.2..1.0]\n",
    "zip xs (map (absErr (\\x -> 2 * x) (df (\\x -> x^2))) xs)"
   ]
  },
  {
   "cell_type": "code",
   "execution_count": null,
   "metadata": {
    "scrolled": true
   },
   "outputs": [],
   "source": [
    "absErr (\\x -> 2 * x) (df (\\x -> x^2)) :: Double -> Double\n",
    "-- Jest wywołana z ? argumentami"
   ]
  },
  {
   "cell_type": "markdown",
   "metadata": {},
   "source": [
    "#### Domknięcie funkcji (closure)"
   ]
  },
  {
   "cell_type": "code",
   "execution_count": null,
   "metadata": {
    "scrolled": true
   },
   "outputs": [],
   "source": [
    "df :: (Double -> Double) -> Double -> (Double -> Double)\n",
    "df f h = \\x -> (f (x + h) - f (x - h)) / (2 * h)\n",
    "dfSqrXDx = df (\\x -> x^2) 1e-8\n",
    "dfSqrXDx 1"
   ]
  },
  {
   "cell_type": "markdown",
   "metadata": {},
   "source": [
    "### Operatory (.) (złożenie funkcji) i \\dollar (obliczenie wartości/’aplikacji’ funkcji)"
   ]
  },
  {
   "cell_type": "code",
   "execution_count": null,
   "metadata": {},
   "outputs": [],
   "source": [
    "-- (f ◦g)(x) = f(g(x)) Złożenie w matematyce\n",
    "\n",
    "(.) :: (b -> c) -> (a -> b) -> a -> c\n",
    "f . g = \\x -> f (g x)\n",
    "\n",
    "f x = 2 * x\n",
    "g x = x ^ 2\n",
    "\n",
    "f_o_g x = (f . g) x -- 2 * x^2\n",
    "g_o_f = g . f -- 4 * x^2\n",
    "f_o_g 3 -- 18\n",
    "g_o_f 3 -- 36"
   ]
  },
  {
   "cell_type": "code",
   "execution_count": null,
   "metadata": {
    "scrolled": true
   },
   "outputs": [],
   "source": [
    "-- UWAGA!  $ priorytet 0, prawostronna łączność\n",
    "($) :: (a -> b) -> a -> b\n",
    "f $ x = f x\n",
    "\n",
    "f = \\x y -> x^2 + y^2\n",
    "f 1 2 + 3 -- 8\n",
    "f 1 $ 2 + 3 -- 26\n",
    "\n",
    "-- Uwaga\n",
    "-- istnieje też operator $! (f $! x) – wersja ’strict’ operatora $"
   ]
  },
  {
   "cell_type": "markdown",
   "metadata": {},
   "source": [
    "### Wzorzec ‘Collection Pipeline’"
   ]
  },
  {
   "cell_type": "markdown",
   "metadata": {},
   "source": [
    "#### Funkcje wyższego rzędu: ﬁlter"
   ]
  },
  {
   "cell_type": "code",
   "execution_count": null,
   "metadata": {},
   "outputs": [],
   "source": [
    "filter :: (a -> Bool) -> [a] -> [a]\n",
    "filter _ [] = []\n",
    "filter p (x:xs)\n",
    "    | p x = x : filter p xs\n",
    "    | otherwise = filter p xs\n",
    "    \n",
    "filter (\\x -> x < 5 && x > 1) [1..10] -- [2,3,4]\n",
    "filter (<5) [1..10] -- [1,2,3,4]\n",
    "filter even [1..10] -- [2,4,6,8,10]"
   ]
  },
  {
   "cell_type": "code",
   "execution_count": null,
   "metadata": {
    "scrolled": true
   },
   "outputs": [],
   "source": [
    " filter (\\s -> length s == 2) [\"a\", \"aa\", \"aaa\", \"b\", \"bb\"]\n",
    "[\"aa\",\"bb\"]"
   ]
  },
  {
   "cell_type": "code",
   "execution_count": null,
   "metadata": {},
   "outputs": [],
   "source": [
    "filter (\\(x,y) -> x > y) [(1,2), (2,2), (2,1), (2,2), (3,2)]\n",
    "[(2,1),(3,2)]"
   ]
  },
  {
   "cell_type": "code",
   "execution_count": null,
   "metadata": {},
   "outputs": [],
   "source": [
    "-- ﬁlter and list comprehension\n",
    "filter p xs = [x | x <- xs, p x]"
   ]
  },
  {
   "cell_type": "markdown",
   "metadata": {},
   "source": [
    "#### Funkcje wyższego rzędu: map"
   ]
  },
  {
   "cell_type": "code",
   "execution_count": null,
   "metadata": {},
   "outputs": [],
   "source": [
    "map :: (a -> b) -> [a] -> [b]\n",
    "map _ [] = []\n",
    "map f (x:xs) = f x : map f xs\n",
    "\n",
    "map (\\e -> e^2) [1..5] -- [1,4,9,16,25]\n",
    "map (1+) [1..5] -- [2,3,4,5,6]\n",
    "map ($ 2) [(^2), (^3), (^4), (^5)] -- [4,8,16,32]"
   ]
  },
  {
   "cell_type": "code",
   "execution_count": null,
   "metadata": {
    "scrolled": true
   },
   "outputs": [],
   "source": [
    " map (\\e -> (e, length e)) [\"My\",\"name\",\"is\",\"Inigo\",\"Montoya\"]\n",
    "[(\"My\",2),(\"name\",4),(\"is\",2),(\"Inigo\",5),(\"Montoya\",7)]"
   ]
  },
  {
   "cell_type": "code",
   "execution_count": null,
   "metadata": {},
   "outputs": [],
   "source": [
    "-- map and list comprehension\n",
    "map f xs = [f x | x <- xs]"
   ]
  },
  {
   "cell_type": "markdown",
   "metadata": {},
   "source": [
    "#### Funkcje wyższego rzędu: foldr [reduce]"
   ]
  },
  {
   "cell_type": "code",
   "execution_count": null,
   "metadata": {
    "scrolled": true
   },
   "outputs": [],
   "source": [
    "-- Częsty schemat rekursji*\n",
    "f [] = z\n",
    "f (x:xs) = x `op` (f xs)\n",
    "-- sum: z = 0, op = +\n",
    "-- prod: z = 1, op = *"
   ]
  },
  {
   "cell_type": "code",
   "execution_count": null,
   "metadata": {},
   "outputs": [],
   "source": [
    "foldr :: (a -> b -> b) -> b -> [a] -> b\n",
    "foldr f z [] = z\n",
    "foldr f z (x:xs) = f x (foldr f z xs)\n",
    "\n",
    "foldr (+) 0 [1..5] -- 15\n",
    "foldr (*) 1 [1..5] -- 120\n",
    "foldr (||) False [False, False, True, False] -- True\n",
    "foldr (&&) True [False, False, True, False] -- False\n",
    "foldr (\\_ n -> 1 + n) 0 [1..10] -- 10\n",
    "foldr (\\x xs -> xs ++ [x]) [] [1..5] -- [5,4,3,2,1]"
   ]
  },
  {
   "cell_type": "code",
   "execution_count": null,
   "metadata": {},
   "outputs": [],
   "source": [
    "-- Rekursja z akumulatorem” [z ∼ acc]\n",
    "f :: Num t => t -> [t] -> t\n",
    "f z [] = z -- z, op jak dla foldr\n",
    "f z (x:xs) = f (x `op` z) xs"
   ]
  },
  {
   "cell_type": "code",
   "execution_count": null,
   "metadata": {
    "scrolled": true
   },
   "outputs": [],
   "source": [
    "foldl :: (b -> a -> b) -> b -> [a] -> b\n",
    "foldl f z [] = z\n",
    "foldl f z (x:xs) = foldl f (f z x) xs\n",
    "\n",
    "-- Funkcje pokrewne:\n",
    "\n",
    "foldl1 :: Foldable t => (a -> a -> a) -> t a -> a\n",
    "foldr1 :: Foldable t => (a -> a -> a) -> t a -> a\n",
    "foldl' :: Foldable t => (b -> a -> b) -> b -> t a -> b"
   ]
  },
  {
   "cell_type": "markdown",
   "metadata": {},
   "source": [
    "#### Funkcje: zip, unzip, zipWith"
   ]
  },
  {
   "cell_type": "code",
   "execution_count": null,
   "metadata": {},
   "outputs": [],
   "source": [
    "zipWith :: (a -> b -> c) -> [a] -> [b] -> [c]\n",
    "zipWith _ [] _ = []\n",
    "zipWith _ _ [] = []\n",
    "zipWith f (x:xs) (y:ys) = f x y : zipWith f xs ys"
   ]
  },
  {
   "cell_type": "code",
   "execution_count": null,
   "metadata": {},
   "outputs": [],
   "source": [
    "zip :: [a] -> [b] -> [(a,b)]\n",
    "zip _ [] = []\n",
    "zip [] _ = []\n",
    "zip (x:xs) (y:ys) = (x,y) : zip xs ys\n",
    "\n",
    "unzip :: [(a,b)] -> ([a],[b])\n",
    "unzip [] = ([],[])\n",
    "unzip ((x,y) : xys) = (x:xs, y:ys\n",
    "    where (xs, ys) = unzip xys"
   ]
  },
  {
   "cell_type": "code",
   "execution_count": null,
   "metadata": {},
   "outputs": [],
   "source": [
    "zip [1,2,3] ['a','b'] -- [(1,'a'),(2,'b')]\n",
    "unzip [(1,'a'),(2,'b')] -- ([1,2],\"ab\")\n",
    "unzip (zip [1,2,3] ['a','b']) -- ([1,2],\"ab\")\n",
    "zipWith (+) [1..5] [5,4..1] -- [6,6,6,6,6]"
   ]
  },
  {
   "cell_type": "markdown",
   "metadata": {},
   "source": [
    "#### Funkcja concat [ﬂatten]"
   ]
  },
  {
   "cell_type": "code",
   "execution_count": null,
   "metadata": {},
   "outputs": [],
   "source": [
    "concat :: [[a]] -> [a]\n",
    "concat = foldr (++) []\n",
    "\n",
    "concat [[1,2],[3,4]]\n",
    "(concat . concat) [ [[1,2], [3,4]] , [[5,6], [7,8]] ]"
   ]
  },
  {
   "cell_type": "markdown",
   "metadata": {},
   "source": [
    "#### Wzorzec ’Collection pipeline’"
   ]
  },
  {
   "cell_type": "code",
   "execution_count": null,
   "metadata": {},
   "outputs": [],
   "source": [
    "capitalize :: [Char] -> [Char] -- Data.Char, Data.List needed\n",
    "capitalize [] = []\n",
    "capitalize (x:xs) = toUpper x : (map toLower xs)\n",
    "\n",
    "formatStr s = \n",
    "    foldr1 (\\w s -> w ++ \" \" ++ s) .\n",
    "    map capitalize .\n",
    "    filter (\\x -> length x > 1) $\n",
    "    words s\n",
    "                \n",
    "formatStr \"tomasz t bogdan anna Jerzy j maria\"\n",
    "\"Tomasz Bogdan Anna Jerzy Maria\""
   ]
  }
 ],
 "metadata": {
  "kernelspec": {
   "display_name": "Haskell",
   "language": "haskell",
   "name": "haskell"
  },
  "language_info": {
   "codemirror_mode": "ihaskell",
   "file_extension": ".hs",
   "mimetype": "text/x-haskell",
   "name": "haskell",
   "pygments_lexer": "Haskell",
   "version": "8.6.5"
  }
 },
 "nbformat": 4,
 "nbformat_minor": 4
}
