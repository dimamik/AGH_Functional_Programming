{
 "cells": [
  {
   "cell_type": "markdown",
   "metadata": {},
   "source": [
    "# Wykład 4 28.10.2020"
   ]
  },
  {
   "cell_type": "markdown",
   "metadata": {},
   "source": [
    "## Definicje typów + Klasy typów i ich instancje + Moduły, importy, ogranizacja kodu źródłogego\n"
   ]
  },
  {
   "cell_type": "markdown",
   "metadata": {},
   "source": [
    "### Type vs newtype vs data"
   ]
  },
  {
   "cell_type": "code",
   "execution_count": null,
   "metadata": {},
   "outputs": [],
   "source": [
    "-- Typy w Haskellu\n",
    "    -- typy proste: Int, Double, ...\n",
    "    -- typy złożone: krotki, listy, funkcje, ...\n",
    "    -- typy algebraiczne (created by ’algebraic’ operations): tworzone konstrukcją data ...\n",
    "    \n",
    "\n",
    "toUpper :: Char -> Char\n",
    "toUpper c \n",
    "    | fromEnum(c)>=97 =  (toEnum(fromEnum c - 32))\n",
    "    | otherwise = c\n",
    "\n",
    "toLower :: Char -> Char\n",
    "toLower c \n",
    "    | fromEnum(c)<97 =  (toEnum(fromEnum c + 32))\n",
    "    | otherwise = c\n",
    "\n",
    "type Name = String\n",
    "capitalizeName :: Name -> Name\n",
    "capitalizeName = map toUpper\n",
    "\n",
    ":t capitalizeName -- capitalizeName :: Name -> Name\n",
    "\n",
    "capitalizeName \"t-1000\" -- \"T-1000\""
   ]
  },
  {
   "cell_type": "code",
   "execution_count": null,
   "metadata": {},
   "outputs": [],
   "source": [
    "-- newtype !TYLKO JEDEN TYP!\n",
    "newtype FirstName = FirstName String\n",
    "formatFstName :: FirstName -> String\n",
    "formatFstName (FirstName s) = case s of\n",
    "    (x:xs) -> toUpper x : map toLower xs\n",
    "    [] -> []\n",
    "\n",
    "formatFstName(FirstName \"apolinary\")\n",
    "-- formatFstName(\"apolinary\") Couldn't match expected type ‘FirstName’ with actual type ‘String’"
   ]
  },
  {
   "cell_type": "markdown",
   "metadata": {},
   "source": [
    "### Algebraiczne typy danych: product sum and sum types"
   ]
  },
  {
   "cell_type": "code",
   "execution_count": null,
   "metadata": {
    "scrolled": true
   },
   "outputs": [],
   "source": [
    "-- Product type [single constructor, ∼record]\n",
    "data AandB a b = AandB_Con a b\n",
    "\n",
    "data Person n s = Person n s -- *\n",
    ":i Person -- data Person n s = Person n s \n",
    ":t Person -- Person :: forall n s. n -> s -> Person n s\n",
    "\n",
    "p1 = Person \"Inigo\" \"Montoya\"\n",
    ":t p1 -- p1 :: Person [Char] [Char]"
   ]
  },
  {
   "cell_type": "markdown",
   "metadata": {},
   "source": [
    "### Sum type [co-product, disjoint union]"
   ]
  },
  {
   "cell_type": "code",
   "execution_count": null,
   "metadata": {},
   "outputs": [],
   "source": [
    "data ABorB a b=AB_Con a b | B_Con b\n",
    "\n",
    "data Either a b = Left a | Right b\n",
    ":t Left -- Left :: forall a b. a -> Either a b\n",
    "\n",
    "let r = Right 3\n",
    "let l = Left 'a'\n",
    ":t r -- r :: forall b a. Num b => Either a b\n",
    "\n",
    "-- enum (special case of sum type)\n",
    "data ThreeColors = Blue |\n",
    "                    White |\n",
    "                    Red\n",
    ":t Blue -- Blue :: ThreeColors"
   ]
  },
  {
   "cell_type": "markdown",
   "metadata": {},
   "source": [
    "### Record Syntax"
   ]
  },
  {
   "cell_type": "code",
   "execution_count": null,
   "metadata": {},
   "outputs": [],
   "source": [
    "data Person = Person String String\n",
    "    deriving (Show)\n",
    "    \n",
    "name :: Person -> String\n",
    "name (Person n _) = n\n",
    "\n",
    "surname :: Person -> String\n",
    "surname (Person _ sn) = sn\n",
    "\n",
    "let swordMaster = Person \"Inigo\" \"Montoya\"\n",
    "\n",
    "-- Record syntax\n",
    "data Person = Person\n",
    "            { name :: String\n",
    "            , surname :: String\n",
    "            } \n",
    "let swordMaster = Person { surname = \"Montoya\" ,\n",
    "    name = \"Inigo\" }\n",
    "name swordMaster -- \"Inigo\""
   ]
  },
  {
   "cell_type": "markdown",
   "metadata": {},
   "source": [
    "### Parametric types, patterns in record syntax"
   ]
  },
  {
   "cell_type": "code",
   "execution_count": null,
   "metadata": {},
   "outputs": [],
   "source": [
    "-- data Car = Car\n",
    "--     { company :: String\n",
    "--     , model :: String\n",
    "--     , year :: Int\n",
    "--     } deriving (Show)\n",
    "\n",
    "-- cara1 = Car {company = \"Hello\", model = \"It's me\", year=1999}\n",
    "-- :t cara1\n",
    "-- :i cara1\n",
    "\n",
    "\n",
    "data Car a b c = Car\n",
    "    { company :: a\n",
    "    , model :: b\n",
    "    , year :: c\n",
    "    } deriving (Show)\n",
    "\n",
    "carInfo :: (Show a) => Car String String a -> String\n",
    "carInfo Car{company = c, model = m, year = y} =\n",
    "    \"This \" ++ c ++ \" \" ++ m ++ \" was made in \" ++ show y\n",
    "    \n",
    "let focus = Car {company=\"Ford\", model=\"Focus I\", year=2004}\n",
    "carInfo focus"
   ]
  },
  {
   "cell_type": "markdown",
   "metadata": {},
   "source": [
    "### Structural recursion (Rekursywne typy danych)"
   ]
  },
  {
   "cell_type": "code",
   "execution_count": null,
   "metadata": {
    "scrolled": true
   },
   "outputs": [],
   "source": [
    "data Tree a = Nil |\n",
    "    Node a (Tree a) (Tree a) -- Recursion !IS HERE!\n",
    "    deriving (Eq, Ord, Show, Read) -- Eq, Ord bo musza przynajmniej byc porownywalnymi, lub inne Tree\n",
    "\n",
    "depth :: Tree a -> Int\n",
    "depth Nil = 0\n",
    "depth (Node n lt rt) = 1 + max (depth lt) (depth rt)\n",
    "\n",
    "collapse :: Tree a -> [a]\n",
    "collapse Nil = []\n",
    "collapse (Node n lt rt) = collapse lt ++ [n] ++ collapse rt\n",
    "\n",
    "mapTree :: (a -> b) -> Tree a -> Tree b\n",
    "mapTree f Nil = Nil\n",
    "mapTree f (Node n lt rt) = Node (f n) (mapTree f lt) (mapTree f rt)\n",
    "\n",
    "n1 = Node 1\n",
    "n2 = Node 2\n",
    "t1 = (Node 1 Nil Nil) -- SHOULDN'T WRITE TREE in the begining!!!"
   ]
  },
  {
   "cell_type": "markdown",
   "metadata": {},
   "source": [
    "### Typy wyższego rzędu (kinds) [ typy vs. konstruktory typów vs. konstruktory danych ]"
   ]
  },
  {
   "cell_type": "code",
   "execution_count": null,
   "metadata": {},
   "outputs": [],
   "source": [
    ":i Int --\n",
    ":k Int -- \n",
    ":i Maybe\n",
    ":k Maybe\n",
    ":k Maybe Int\n",
    ":i Either\n",
    ":k Either\n",
    ":k Either Int"
   ]
  },
  {
   "cell_type": "code",
   "execution_count": null,
   "metadata": {},
   "outputs": [],
   "source": [
    "data CDT a b =\n",
    "    CDT { e :: Either a b\n",
    "    , f :: Either a b -> Maybe a }\n",
    ":k CDT\n",
    ":t CDT\n",
    ":t f"
   ]
  },
  {
   "cell_type": "markdown",
   "metadata": {},
   "source": [
    "## Klasy typów w Haskellu vs. klasy w językach obiektowych\n"
   ]
  },
  {
   "cell_type": "markdown",
   "metadata": {},
   "source": [
    "<b> Klasy typów w Haskellu to mechanizm realizacji polimorﬁzmu ad-hoc (’przeciążanie’ nazw). </b> <br> <br>\n",
    "A class – collection of types (its instances) over which function(s) is (are deﬁned). One way we <br>\n",
    "can think of a class is as an adjective: any particular type IS or IS NOT in the class. <br>\n",
    "Other languages such as C++ or Java make a type and a class the same thing. <br>\n",
    "A type is made a member or instance of a class by deﬁning the interface functions for the type.<br>\n",
    "Instances in Haskell are global; it is not possible to make instances local to a module or a set of <br>\n",
    "modules (note: ’wrapped’ type is often a solution to this problem)."
   ]
  },
  {
   "cell_type": "code",
   "execution_count": null,
   "metadata": {
    "scrolled": true
   },
   "outputs": [],
   "source": [
    "class [cx =>] <ClassName> tv where\n",
    "-- signature (interface, contract) involving the type variable tv\n",
    "\n",
    "instance [cx =>] <ClassName> <InsData> where -- e.g. InsData = Int\n",
    "-- implementation of the methods declared in ClassName"
   ]
  },
  {
   "cell_type": "markdown",
   "metadata": {},
   "source": [
    "### Klasy typów i ich instancje: przykład"
   ]
  },
  {
   "cell_type": "code",
   "execution_count": null,
   "metadata": {},
   "outputs": [],
   "source": [
    "newtype Vec2Dnt a = Vec2Dnt (a, a)\n",
    "instance Eq a => Eq (Vec2Dnt a) where\n",
    "    (==) (Vec2Dnt (x1,y1)) (Vec2Dnt (x2,y2)) = x1 == x2 && y1 == y2\n",
    "Vec2Dnt (2,2) == Vec2Dnt (2,2) -- True"
   ]
  },
  {
   "cell_type": "code",
   "execution_count": null,
   "metadata": {},
   "outputs": [],
   "source": [
    "class VectorLike (t :: * -> *) where\n",
    "    (|==|) :: Eq a => t a -> t a -> Bool\n",
    "    (|+|), (|-|) :: (Num a) => t a -> t a -> t a\n",
    "    (|*|) :: (Num a) => t a -> t a -> a\n",
    "   \n",
    "instance VectorLike Vec2Dnt where\n",
    "    (|==|) (Vec2Dnt (x1,y1)) (Vec2Dnt (x2,y2)) = ...\n",
    "    (|+|) (Vec2Dnt (x1,y1)) (Vec2Dnt (x2,y2)) = ...\n",
    "    \n",
    "(|-?) :: (VectorLike t, Num a, Eq a) => t a -> t a -> Bool\n",
    "(|-?) v1 v2 = v1 |*| v2 == 0 -- is this 'safe' for all Num types?"
   ]
  },
  {
   "cell_type": "markdown",
   "metadata": {},
   "source": [
    "## Moduły i importy"
   ]
  },
  {
   "cell_type": "markdown",
   "metadata": {},
   "source": [
    "#### Program w Haskellu = kolekcja modułów (w tym Main zawierający funkcję main)"
   ]
  },
  {
   "cell_type": "markdown",
   "metadata": {},
   "source": [
    "Rola/zastosowanie modułów <br>\n",
    "tworzenie przestrzeni nazw (i zarządzanie nimi), mechanizm tworzenia abstrakcyjnych <br>\n",
    "typów danych (ADT ), jednostka struktury kodu (jednostka kompilacji) <br>"
   ]
  },
  {
   "cell_type": "code",
   "execution_count": null,
   "metadata": {},
   "outputs": [],
   "source": [
    "module MName (<exportNames>) where\n",
    "...\n",
    "\n",
    "import MName (<importNames>)\n",
    "-- vs.\n",
    "import MName hiding (<lst>)\n",
    "-- vs.\n",
    "import qualified MName as MyN\n",
    "-- vs.\n",
    "import qualified MName as NyN(x,y)\n",
    "\n",
    "module Stack (Stack, push, pop) where\n",
    "import Data.List\n",
    "import Text.Printf(printf)\n",
    "import qualified Data.Map as Map\n",
    "import Prelude hiding (zip)\n",
    "push :: a -> Stack a -> Stack a\n",
    "\n",
    "module Stack (Stack(..),push,pop) --!"
   ]
  },
  {
   "cell_type": "markdown",
   "metadata": {},
   "source": [
    "#### Stos jako ADT [przykład]"
   ]
  },
  {
   "cell_type": "code",
   "execution_count": null,
   "metadata": {},
   "outputs": [],
   "source": [
    "module Stack (Stack, empty, isEmpty, push, top, pop) where\n",
    "-- interface (signature, contract)\n",
    "empty :: Stack a\n",
    "isEmpty :: Stack a -> Bool\n",
    "push :: a -> Stack a -> Stack a\n",
    "top :: Stack a -> a\n",
    "pop :: Stack a -> (a,Stack a)\n",
    "-- implementation\n",
    "newtype Stack a = StackImpl [a] -- hidden constructor\n",
    "empty = StackImpl []\n",
    "isEmpty (StackImpl s) = null s\n",
    "push x (StackImpl s) = StackImpl (x:s)\n",
    "top (StackImpl s) = head s\n",
    "pop (StackImpl (s:ss)) = (s,StackImpl ss)"
   ]
  }
 ],
 "metadata": {
  "kernelspec": {
   "display_name": "Haskell",
   "language": "haskell",
   "name": "haskell"
  },
  "language_info": {
   "codemirror_mode": "ihaskell",
   "file_extension": ".hs",
   "mimetype": "text/x-haskell",
   "name": "haskell",
   "pygments_lexer": "Haskell",
   "version": "8.6.5"
  }
 },
 "nbformat": 4,
 "nbformat_minor": 4
}
