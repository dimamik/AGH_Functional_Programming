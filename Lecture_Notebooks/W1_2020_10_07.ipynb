{
 "cells": [
  {
   "cell_type": "markdown",
   "metadata": {},
   "source": [
    "### Wykad 1"
   ]
  },
  {
   "cell_type": "code",
   "execution_count": null,
   "metadata": {},
   "outputs": [],
   "source": [
    "-- Typy proste\n",
    "1 :: Int -- (skończonej precyzji)*\n",
    "123^230 :: Integer -- (nieskończonej precyzji)\n",
    "3.141592653589793 :: Double/Float\n",
    "True :: Bool\n",
    "'a' :: Char\n",
    "\"Ala\" :: String -- String = [Char], typ złożony? :)\n",
    "-- Typy złożone\n",
    "(1, 'a', True) :: (Int, Char, Bool) -- krotka (tuple)\n",
    "[1,2,3,4] :: [Int] -- lista\n",
    "not :: Bool -> Bool -- funkcja"
   ]
  },
  {
   "cell_type": "code",
   "execution_count": null,
   "metadata": {},
   "outputs": [],
   "source": [
    "-- Podstawowe operatory\n",
    "\n",
    "a == b, a /= b\n",
    "a < b, a > b\n",
    "a <= b, a >= b\n",
    "a && b, a || b, not a\n",
    "a + b, a - b\n",
    "a * b, a ^ b, a ** b\n",
    "a / b, a `mod` b, a `div` b"
   ]
  },
  {
   "cell_type": "markdown",
   "metadata": {},
   "source": [
    "### Funkcj i ich rodzaje"
   ]
  },
  {
   "cell_type": "code",
   "execution_count": null,
   "metadata": {},
   "outputs": [],
   "source": [
    "-- Deﬁnicja funkcji: proste przykłady\n",
    "\n",
    "volume :: Double -> Double\n",
    "volume r = 4/3 * pi * r^3\n",
    "volume 3 -- 113.09733552923254\n",
    "\n",
    "-- uwaga: ile parametrów ma funkcja areEqual? -> 1\n",
    "areEqual :: (Int, Int) -> Bool\n",
    "areEqual (x, y) = x == y\n",
    "areEqual (1, 2) -- False"
   ]
  },
  {
   "cell_type": "code",
   "execution_count": null,
   "metadata": {},
   "outputs": [],
   "source": [
    "-- Pominięcie typu\n",
    "\n",
    "volume r  = 4/3 * pi * r^3\n",
    ":t volume --Pokazuje jaki typ kompilator nadał naszej funkcji"
   ]
  },
  {
   "cell_type": "code",
   "execution_count": null,
   "metadata": {
    "scrolled": true
   },
   "outputs": [],
   "source": [
    "-- Deﬁnicja funkcji: wyrażenie warunkowe\n",
    "\n",
    "abs :: Int -> Int\n",
    "abs n = if n >= 0 then n else (-n)\n",
    "abs 1\n",
    "\n",
    "\n",
    "sgn :: Int -> Int\n",
    "sgn n = if n < 0\n",
    "        then -1\n",
    "        else if n == 0 -- zagnieżdżony 'if'\n",
    "        then 0\n",
    "        else 1\n",
    "        \n",
    "-- #### Uwaga\n",
    "-- Wyrażenie warunkowe w Haskellu zawsze musi mieć zdeﬁniowane obie gałęzie."
   ]
  },
  {
   "cell_type": "code",
   "execution_count": null,
   "metadata": {},
   "outputs": [],
   "source": [
    "-- Deﬁnicja funkcji: guards\n",
    "\n",
    "abs :: Int -> Int\n",
    "abs n \n",
    "    | n >= 0 = n\n",
    "    | otherwise = -n\n",
    "abs (-1)\n",
    "\n",
    "sgn :: Int -> Int\n",
    "sgn n \n",
    "    | n < 0 = -1\n",
    "    | n == 0 = 0\n",
    "    | otherwise = 1\n",
    "sgn 5"
   ]
  },
  {
   "cell_type": "code",
   "execution_count": null,
   "metadata": {},
   "outputs": [],
   "source": [
    "-- Deﬁnicja funkcji: dopasowanie wzorców i wyrażenie case...of\n",
    "\n",
    "not :: Bool -> Bool\n",
    "not True = False\n",
    "not False = True -- not _ = True ?\n",
    "\n",
    "isTheName :: String -> Bool\n",
    "isTheName \"Rumpelstilkstin\" = True\n",
    "isTheName _ = False\n"
   ]
  },
  {
   "cell_type": "code",
   "execution_count": null,
   "metadata": {
    "scrolled": true
   },
   "outputs": [],
   "source": [
    "not :: Bool -> Bool\n",
    "not b = case b of\n",
    "    True -> False\n",
    "    False -> True\n",
    "not True"
   ]
  },
  {
   "cell_type": "code",
   "execution_count": null,
   "metadata": {
    "scrolled": true
   },
   "outputs": [],
   "source": [
    "-- Deﬁnicja funkcji: klauzula where i wyrażenie let...in (1/2)\n",
    "\n",
    "roots :: (Double, Double, Double) -> (Double, Double)\n",
    "roots (a, b, c) = ( (-b - d) / e, (-b + d) / e )\n",
    "    where d = sqrt (b * b - 4 * a * c)\n",
    "          e = 2 * a\n",
    "\n",
    "roots' :: (Double, Double, Double) -> (Double, Double)\n",
    "roots' (a, b, c) =\n",
    "    let d = sqrt (b * b - 4 * a * c)\n",
    "        e = 2 * a\n",
    "    in ( (-b - d) / e, (-b + d) / e )\n",
    "\n",
    "-- Uwaga\n",
    "-- Kolejne lokalne deﬁnicje w blokach klauzuli where i wyrażenia let...in można\n",
    "-- umieścić w nawiasach, oddzielając je średnikami, np.\n",
    "\n",
    "roots'' :: (Double, Double, Double) -> (Double, Double)\n",
    "roots'' (a, b, c) = ( (-b - d) / e, (-b + d) / e )\n",
    "    where { d = sqrt (b * b - 4 * a * c); e = 2 * a }"
   ]
  },
  {
   "cell_type": "code",
   "execution_count": null,
   "metadata": {
    "scrolled": true
   },
   "outputs": [],
   "source": [
    "-- Deﬁnicja funkcji: klauzula where i wyrażenie let...in (2/2)\n",
    "\n",
    "-- Lokalność deﬁnicji po where i let\n",
    "\n",
    "a = 1.0\n",
    "f x = a * x where a = 0.5\n",
    "g x = a * x\n",
    "f 2.0 -- = 1.0\n",
    "g 2.0 -- = 2.0\n",
    "\n",
    "-- where i let razem\n",
    "-- Definicje po let przesłaniają te po where\n",
    "\n",
    "f x = \n",
    "    let a = 10 * x\n",
    "    in a\n",
    "    where a = 100 * x\n",
    "f 1 -- = 10"
   ]
  },
  {
   "cell_type": "markdown",
   "metadata": {},
   "source": [
    "### Formatowanie kodu"
   ]
  },
  {
   "cell_type": "code",
   "execution_count": null,
   "metadata": {},
   "outputs": [],
   "source": [
    "-- oﬀ-side rule\n",
    "-- 1) pierwszy symbol w serii deﬁnicji ustala lewą granicę bloku\n",
    "-- (→ deﬁnicje najwyższego poziomu zaczynają się w tej\n",
    "-- samej kolumnie)\n",
    "-- 2) deﬁnicja może być ”złamana” w dowolnym miejscu pod\n",
    "-- warunkiem, że wcięcia będą większe niż w pierwszej linii\n",
    "-- (rozpoczynającej deﬁnicję)\n",
    "-- 3) jeżeli po where lub let występuje więcej niż jedna deﬁnicja\n",
    "-- lokalna, to wszystkie muszą zaczynać się w tej samej\n",
    "-- kolumnie\n",
    "-- 4) wyrażenia po of muszą zaczynać się w tej samej kolumnie\n",
    "-- !Uwaga!\n",
    "-- Bloki można deﬁniować używając nawiasów i średników. Taki styl jest jednak rzadko spotykany."
   ]
  },
  {
   "cell_type": "markdown",
   "metadata": {},
   "source": [
    "### Interferencja (wnioskowanie) typu"
   ]
  },
  {
   "cell_type": "code",
   "execution_count": null,
   "metadata": {},
   "outputs": [],
   "source": [
    "swap(x,y)  = (y,x)\n",
    "swap :: (t1,t) -> (t,t1) --the same as above\n",
    "swap (1,'a')\n",
    ":t swap"
   ]
  },
  {
   "cell_type": "code",
   "execution_count": null,
   "metadata": {},
   "outputs": [],
   "source": [
    "f2 (x,y,z) = if (x > y) then (x,y,z) else (y,x,z)\n",
    "f2 :: Ord t => (t, t, t1) -> (t, t, t1) --Taki typ nadaje kompilator\n",
    "f2 (1,23,1)\n",
    ":t f2"
   ]
  },
  {
   "cell_type": "code",
   "execution_count": null,
   "metadata": {},
   "outputs": [],
   "source": [
    "f3 x = if x > 3 then 2 * x else x / 42\n",
    "f3 :: (Fractional a, Ord a) => a -> a --typ nadany kompilatorem\n",
    ":t f3"
   ]
  },
  {
   "cell_type": "code",
   "execution_count": null,
   "metadata": {
    "scrolled": false
   },
   "outputs": [],
   "source": [
    "-- f4 x = if x > 3 then 2 * x else False\n",
    "-- NOT WORKING FIX: \n",
    "-- f4 :: (Int x, Either Int b [Bool b]) => x -> b"
   ]
  },
  {
   "cell_type": "code",
   "execution_count": null,
   "metadata": {},
   "outputs": [],
   "source": [
    "-- Example as above but without type interference:\n",
    "stuff :: Int -> Either (Int,Int) [(Int,Int)]\n",
    "stuff 0 = Left (0, 0)\n",
    "stuff n = Right [ (x,x) | x <- [0..n] ]"
   ]
  }
 ],
 "metadata": {
  "kernelspec": {
   "display_name": "Haskell",
   "language": "haskell",
   "name": "haskell"
  },
  "language_info": {
   "codemirror_mode": "ihaskell",
   "file_extension": ".hs",
   "mimetype": "text/x-haskell",
   "name": "haskell",
   "pygments_lexer": "Haskell",
   "version": "8.6.5"
  }
 },
 "nbformat": 4,
 "nbformat_minor": 4
}
